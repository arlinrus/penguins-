{
  "nbformat": 4,
  "nbformat_minor": 0,
  "metadata": {
    "colab": {
      "provenance": []
    },
    "kernelspec": {
      "name": "python3",
      "display_name": "Python 3"
    },
    "language_info": {
      "name": "python"
    }
  },
  "cells": [
    {
      "cell_type": "code",
      "source": [
        "!pip install config"
      ],
      "metadata": {
        "colab": {
          "base_uri": "https://localhost:8080/"
        },
        "id": "H5GF2Pg9qLgN",
        "outputId": "9e2edd35-c52d-45aa-fda8-259e8ff775b5"
      },
      "execution_count": null,
      "outputs": [
        {
          "output_type": "stream",
          "name": "stdout",
          "text": [
            "Requirement already satisfied: config in /usr/local/lib/python3.10/dist-packages (0.5.1)\n"
          ]
        }
      ]
    },
    {
      "cell_type": "code",
      "execution_count": null,
      "metadata": {
        "id": "cF9QWo2knBJ3"
      },
      "outputs": [],
      "source": [
        "import numpy as np\n",
        "import matplotlib.pyplot as plt\n",
        "import scipy.stats as scst\n",
        "import scipy.optimize as scop\n",
        "import pandas as pd\n",
        "import seaborn as sns\n",
        "from sklearn.linear_model import LinearRegression"
      ]
    },
    {
      "cell_type": "code",
      "source": [
        "from google.colab import drive\n",
        "drive.mount('/content/drive')"
      ],
      "metadata": {
        "colab": {
          "base_uri": "https://localhost:8080/"
        },
        "id": "FsBJhf4PnKmn",
        "outputId": "caba261b-424f-4828-daf4-be9b10e551aa"
      },
      "execution_count": null,
      "outputs": [
        {
          "output_type": "stream",
          "name": "stdout",
          "text": [
            "Drive already mounted at /content/drive; to attempt to forcibly remount, call drive.mount(\"/content/drive\", force_remount=True).\n"
          ]
        }
      ]
    },
    {
      "cell_type": "code",
      "source": [
        "png = pd.read_csv('/content/drive/MyDrive/Colab Notebooks/pinguins.csv')\n",
        "# png.fillna(value=0, inplace=True)\n",
        "print(png)\n",
        "# png_1 = pd.DataFrame(png)\n",
        "# print(png_1)"
      ],
      "metadata": {
        "colab": {
          "base_uri": "https://localhost:8080/"
        },
        "id": "Ro477fuynOLg",
        "outputId": "535cf3dd-ffba-42c3-99d5-cd9cd521f72f"
      },
      "execution_count": null,
      "outputs": [
        {
          "output_type": "stream",
          "name": "stdout",
          "text": [
            "       species     island  bill_length_mm  bill_depth_mm  flipper_length_mm  \\\n",
            "0       Adelie  Torgersen            39.1           18.7              181.0   \n",
            "1       Adelie  Torgersen            39.5           17.4              186.0   \n",
            "2       Adelie  Torgersen            40.3           18.0              195.0   \n",
            "3       Adelie  Torgersen             NaN            NaN                NaN   \n",
            "4       Adelie  Torgersen            36.7           19.3              193.0   \n",
            "..         ...        ...             ...            ...                ...   \n",
            "339  Chinstrap      Dream            55.8           19.8              207.0   \n",
            "340  Chinstrap      Dream            43.5           18.1              202.0   \n",
            "341  Chinstrap      Dream            49.6           18.2              193.0   \n",
            "342  Chinstrap      Dream            50.8           19.0              210.0   \n",
            "343  Chinstrap      Dream            50.2           18.7              198.0   \n",
            "\n",
            "     body_mass_g     sex  year  \n",
            "0         3750.0    male  2007  \n",
            "1         3800.0  female  2007  \n",
            "2         3250.0  female  2007  \n",
            "3            NaN     NaN  2007  \n",
            "4         3450.0  female  2007  \n",
            "..           ...     ...   ...  \n",
            "339       4000.0    male  2009  \n",
            "340       3400.0  female  2009  \n",
            "341       3775.0    male  2009  \n",
            "342       4100.0    male  2009  \n",
            "343       3775.0  female  2009  \n",
            "\n",
            "[344 rows x 8 columns]\n"
          ]
        }
      ]
    },
    {
      "cell_type": "code",
      "source": [
        "pgns = png.dropna()\n",
        "print(pgns)"
      ],
      "metadata": {
        "colab": {
          "base_uri": "https://localhost:8080/"
        },
        "id": "i1eatwkUk3Gl",
        "outputId": "af9dc775-a891-4b26-da79-5c08d4f010f3"
      },
      "execution_count": null,
      "outputs": [
        {
          "output_type": "stream",
          "name": "stdout",
          "text": [
            "       species     island  bill_length_mm  bill_depth_mm  flipper_length_mm  \\\n",
            "0       Adelie  Torgersen            39.1           18.7              181.0   \n",
            "1       Adelie  Torgersen            39.5           17.4              186.0   \n",
            "2       Adelie  Torgersen            40.3           18.0              195.0   \n",
            "4       Adelie  Torgersen            36.7           19.3              193.0   \n",
            "5       Adelie  Torgersen            39.3           20.6              190.0   \n",
            "..         ...        ...             ...            ...                ...   \n",
            "339  Chinstrap      Dream            55.8           19.8              207.0   \n",
            "340  Chinstrap      Dream            43.5           18.1              202.0   \n",
            "341  Chinstrap      Dream            49.6           18.2              193.0   \n",
            "342  Chinstrap      Dream            50.8           19.0              210.0   \n",
            "343  Chinstrap      Dream            50.2           18.7              198.0   \n",
            "\n",
            "     body_mass_g     sex  year  \n",
            "0         3750.0    male  2007  \n",
            "1         3800.0  female  2007  \n",
            "2         3250.0  female  2007  \n",
            "4         3450.0  female  2007  \n",
            "5         3650.0    male  2007  \n",
            "..           ...     ...   ...  \n",
            "339       4000.0    male  2009  \n",
            "340       3400.0  female  2009  \n",
            "341       3775.0    male  2009  \n",
            "342       4100.0    male  2009  \n",
            "343       3775.0  female  2009  \n",
            "\n",
            "[333 rows x 8 columns]\n"
          ]
        }
      ]
    },
    {
      "cell_type": "code",
      "source": [
        "#men is 0, woman is 1\n",
        "pgns['sex'] = pgns['sex'].replace({'male': 0 , 'female': 1})\n",
        "pgns.drop('species', axis= 1 , inplace= True )\n",
        "pgns.drop('island', axis=1, inplace=True )"
      ],
      "metadata": {
        "id": "RLyrvzM6kkSE",
        "colab": {
          "base_uri": "https://localhost:8080/"
        },
        "outputId": "80ffed81-c3e2-428a-a7dc-1ea0a28eba66"
      },
      "execution_count": 11,
      "outputs": [
        {
          "output_type": "stream",
          "name": "stderr",
          "text": [
            "<ipython-input-11-1d0520e3373c>:2: SettingWithCopyWarning: \n",
            "A value is trying to be set on a copy of a slice from a DataFrame.\n",
            "Try using .loc[row_indexer,col_indexer] = value instead\n",
            "\n",
            "See the caveats in the documentation: https://pandas.pydata.org/pandas-docs/stable/user_guide/indexing.html#returning-a-view-versus-a-copy\n",
            "  pgns['sex'] = pgns['sex'].replace({'male': 0 , 'female': 1})\n",
            "<ipython-input-11-1d0520e3373c>:3: SettingWithCopyWarning: \n",
            "A value is trying to be set on a copy of a slice from a DataFrame\n",
            "\n",
            "See the caveats in the documentation: https://pandas.pydata.org/pandas-docs/stable/user_guide/indexing.html#returning-a-view-versus-a-copy\n",
            "  pgns.drop('species', axis= 1 , inplace= True )\n",
            "<ipython-input-11-1d0520e3373c>:4: SettingWithCopyWarning: \n",
            "A value is trying to be set on a copy of a slice from a DataFrame\n",
            "\n",
            "See the caveats in the documentation: https://pandas.pydata.org/pandas-docs/stable/user_guide/indexing.html#returning-a-view-versus-a-copy\n",
            "  pgns.drop('island', axis=1, inplace=True )\n"
          ]
        }
      ]
    },
    {
      "cell_type": "code",
      "source": [
        "pgns"
      ],
      "metadata": {
        "colab": {
          "base_uri": "https://localhost:8080/",
          "height": 424
        },
        "id": "5ld0fc-6oVUY",
        "outputId": "66a2a321-5741-49fa-bb80-2c3427cacd15"
      },
      "execution_count": 12,
      "outputs": [
        {
          "output_type": "execute_result",
          "data": {
            "text/plain": [
              "     bill_length_mm  bill_depth_mm  flipper_length_mm  body_mass_g  sex  year\n",
              "0              39.1           18.7              181.0       3750.0    0  2007\n",
              "1              39.5           17.4              186.0       3800.0    1  2007\n",
              "2              40.3           18.0              195.0       3250.0    1  2007\n",
              "4              36.7           19.3              193.0       3450.0    1  2007\n",
              "5              39.3           20.6              190.0       3650.0    0  2007\n",
              "..              ...            ...                ...          ...  ...   ...\n",
              "339            55.8           19.8              207.0       4000.0    0  2009\n",
              "340            43.5           18.1              202.0       3400.0    1  2009\n",
              "341            49.6           18.2              193.0       3775.0    0  2009\n",
              "342            50.8           19.0              210.0       4100.0    0  2009\n",
              "343            50.2           18.7              198.0       3775.0    1  2009\n",
              "\n",
              "[333 rows x 6 columns]"
            ],
            "text/html": [
              "\n",
              "  <div id=\"df-be46a0f9-9ef9-4c0c-baa8-45d8736d58dc\" class=\"colab-df-container\">\n",
              "    <div>\n",
              "<style scoped>\n",
              "    .dataframe tbody tr th:only-of-type {\n",
              "        vertical-align: middle;\n",
              "    }\n",
              "\n",
              "    .dataframe tbody tr th {\n",
              "        vertical-align: top;\n",
              "    }\n",
              "\n",
              "    .dataframe thead th {\n",
              "        text-align: right;\n",
              "    }\n",
              "</style>\n",
              "<table border=\"1\" class=\"dataframe\">\n",
              "  <thead>\n",
              "    <tr style=\"text-align: right;\">\n",
              "      <th></th>\n",
              "      <th>bill_length_mm</th>\n",
              "      <th>bill_depth_mm</th>\n",
              "      <th>flipper_length_mm</th>\n",
              "      <th>body_mass_g</th>\n",
              "      <th>sex</th>\n",
              "      <th>year</th>\n",
              "    </tr>\n",
              "  </thead>\n",
              "  <tbody>\n",
              "    <tr>\n",
              "      <th>0</th>\n",
              "      <td>39.1</td>\n",
              "      <td>18.7</td>\n",
              "      <td>181.0</td>\n",
              "      <td>3750.0</td>\n",
              "      <td>0</td>\n",
              "      <td>2007</td>\n",
              "    </tr>\n",
              "    <tr>\n",
              "      <th>1</th>\n",
              "      <td>39.5</td>\n",
              "      <td>17.4</td>\n",
              "      <td>186.0</td>\n",
              "      <td>3800.0</td>\n",
              "      <td>1</td>\n",
              "      <td>2007</td>\n",
              "    </tr>\n",
              "    <tr>\n",
              "      <th>2</th>\n",
              "      <td>40.3</td>\n",
              "      <td>18.0</td>\n",
              "      <td>195.0</td>\n",
              "      <td>3250.0</td>\n",
              "      <td>1</td>\n",
              "      <td>2007</td>\n",
              "    </tr>\n",
              "    <tr>\n",
              "      <th>4</th>\n",
              "      <td>36.7</td>\n",
              "      <td>19.3</td>\n",
              "      <td>193.0</td>\n",
              "      <td>3450.0</td>\n",
              "      <td>1</td>\n",
              "      <td>2007</td>\n",
              "    </tr>\n",
              "    <tr>\n",
              "      <th>5</th>\n",
              "      <td>39.3</td>\n",
              "      <td>20.6</td>\n",
              "      <td>190.0</td>\n",
              "      <td>3650.0</td>\n",
              "      <td>0</td>\n",
              "      <td>2007</td>\n",
              "    </tr>\n",
              "    <tr>\n",
              "      <th>...</th>\n",
              "      <td>...</td>\n",
              "      <td>...</td>\n",
              "      <td>...</td>\n",
              "      <td>...</td>\n",
              "      <td>...</td>\n",
              "      <td>...</td>\n",
              "    </tr>\n",
              "    <tr>\n",
              "      <th>339</th>\n",
              "      <td>55.8</td>\n",
              "      <td>19.8</td>\n",
              "      <td>207.0</td>\n",
              "      <td>4000.0</td>\n",
              "      <td>0</td>\n",
              "      <td>2009</td>\n",
              "    </tr>\n",
              "    <tr>\n",
              "      <th>340</th>\n",
              "      <td>43.5</td>\n",
              "      <td>18.1</td>\n",
              "      <td>202.0</td>\n",
              "      <td>3400.0</td>\n",
              "      <td>1</td>\n",
              "      <td>2009</td>\n",
              "    </tr>\n",
              "    <tr>\n",
              "      <th>341</th>\n",
              "      <td>49.6</td>\n",
              "      <td>18.2</td>\n",
              "      <td>193.0</td>\n",
              "      <td>3775.0</td>\n",
              "      <td>0</td>\n",
              "      <td>2009</td>\n",
              "    </tr>\n",
              "    <tr>\n",
              "      <th>342</th>\n",
              "      <td>50.8</td>\n",
              "      <td>19.0</td>\n",
              "      <td>210.0</td>\n",
              "      <td>4100.0</td>\n",
              "      <td>0</td>\n",
              "      <td>2009</td>\n",
              "    </tr>\n",
              "    <tr>\n",
              "      <th>343</th>\n",
              "      <td>50.2</td>\n",
              "      <td>18.7</td>\n",
              "      <td>198.0</td>\n",
              "      <td>3775.0</td>\n",
              "      <td>1</td>\n",
              "      <td>2009</td>\n",
              "    </tr>\n",
              "  </tbody>\n",
              "</table>\n",
              "<p>333 rows × 6 columns</p>\n",
              "</div>\n",
              "    <div class=\"colab-df-buttons\">\n",
              "\n",
              "  <div class=\"colab-df-container\">\n",
              "    <button class=\"colab-df-convert\" onclick=\"convertToInteractive('df-be46a0f9-9ef9-4c0c-baa8-45d8736d58dc')\"\n",
              "            title=\"Convert this dataframe to an interactive table.\"\n",
              "            style=\"display:none;\">\n",
              "\n",
              "  <svg xmlns=\"http://www.w3.org/2000/svg\" height=\"24px\" viewBox=\"0 -960 960 960\">\n",
              "    <path d=\"M120-120v-720h720v720H120Zm60-500h600v-160H180v160Zm220 220h160v-160H400v160Zm0 220h160v-160H400v160ZM180-400h160v-160H180v160Zm440 0h160v-160H620v160ZM180-180h160v-160H180v160Zm440 0h160v-160H620v160Z\"/>\n",
              "  </svg>\n",
              "    </button>\n",
              "\n",
              "  <style>\n",
              "    .colab-df-container {\n",
              "      display:flex;\n",
              "      gap: 12px;\n",
              "    }\n",
              "\n",
              "    .colab-df-convert {\n",
              "      background-color: #E8F0FE;\n",
              "      border: none;\n",
              "      border-radius: 50%;\n",
              "      cursor: pointer;\n",
              "      display: none;\n",
              "      fill: #1967D2;\n",
              "      height: 32px;\n",
              "      padding: 0 0 0 0;\n",
              "      width: 32px;\n",
              "    }\n",
              "\n",
              "    .colab-df-convert:hover {\n",
              "      background-color: #E2EBFA;\n",
              "      box-shadow: 0px 1px 2px rgba(60, 64, 67, 0.3), 0px 1px 3px 1px rgba(60, 64, 67, 0.15);\n",
              "      fill: #174EA6;\n",
              "    }\n",
              "\n",
              "    .colab-df-buttons div {\n",
              "      margin-bottom: 4px;\n",
              "    }\n",
              "\n",
              "    [theme=dark] .colab-df-convert {\n",
              "      background-color: #3B4455;\n",
              "      fill: #D2E3FC;\n",
              "    }\n",
              "\n",
              "    [theme=dark] .colab-df-convert:hover {\n",
              "      background-color: #434B5C;\n",
              "      box-shadow: 0px 1px 3px 1px rgba(0, 0, 0, 0.15);\n",
              "      filter: drop-shadow(0px 1px 2px rgba(0, 0, 0, 0.3));\n",
              "      fill: #FFFFFF;\n",
              "    }\n",
              "  </style>\n",
              "\n",
              "    <script>\n",
              "      const buttonEl =\n",
              "        document.querySelector('#df-be46a0f9-9ef9-4c0c-baa8-45d8736d58dc button.colab-df-convert');\n",
              "      buttonEl.style.display =\n",
              "        google.colab.kernel.accessAllowed ? 'block' : 'none';\n",
              "\n",
              "      async function convertToInteractive(key) {\n",
              "        const element = document.querySelector('#df-be46a0f9-9ef9-4c0c-baa8-45d8736d58dc');\n",
              "        const dataTable =\n",
              "          await google.colab.kernel.invokeFunction('convertToInteractive',\n",
              "                                                    [key], {});\n",
              "        if (!dataTable) return;\n",
              "\n",
              "        const docLinkHtml = 'Like what you see? Visit the ' +\n",
              "          '<a target=\"_blank\" href=https://colab.research.google.com/notebooks/data_table.ipynb>data table notebook</a>'\n",
              "          + ' to learn more about interactive tables.';\n",
              "        element.innerHTML = '';\n",
              "        dataTable['output_type'] = 'display_data';\n",
              "        await google.colab.output.renderOutput(dataTable, element);\n",
              "        const docLink = document.createElement('div');\n",
              "        docLink.innerHTML = docLinkHtml;\n",
              "        element.appendChild(docLink);\n",
              "      }\n",
              "    </script>\n",
              "  </div>\n",
              "\n",
              "\n",
              "<div id=\"df-d088f8a5-113f-4965-8a90-6376dcdb6364\">\n",
              "  <button class=\"colab-df-quickchart\" onclick=\"quickchart('df-d088f8a5-113f-4965-8a90-6376dcdb6364')\"\n",
              "            title=\"Suggest charts\"\n",
              "            style=\"display:none;\">\n",
              "\n",
              "<svg xmlns=\"http://www.w3.org/2000/svg\" height=\"24px\"viewBox=\"0 0 24 24\"\n",
              "     width=\"24px\">\n",
              "    <g>\n",
              "        <path d=\"M19 3H5c-1.1 0-2 .9-2 2v14c0 1.1.9 2 2 2h14c1.1 0 2-.9 2-2V5c0-1.1-.9-2-2-2zM9 17H7v-7h2v7zm4 0h-2V7h2v10zm4 0h-2v-4h2v4z\"/>\n",
              "    </g>\n",
              "</svg>\n",
              "  </button>\n",
              "\n",
              "<style>\n",
              "  .colab-df-quickchart {\n",
              "      --bg-color: #E8F0FE;\n",
              "      --fill-color: #1967D2;\n",
              "      --hover-bg-color: #E2EBFA;\n",
              "      --hover-fill-color: #174EA6;\n",
              "      --disabled-fill-color: #AAA;\n",
              "      --disabled-bg-color: #DDD;\n",
              "  }\n",
              "\n",
              "  [theme=dark] .colab-df-quickchart {\n",
              "      --bg-color: #3B4455;\n",
              "      --fill-color: #D2E3FC;\n",
              "      --hover-bg-color: #434B5C;\n",
              "      --hover-fill-color: #FFFFFF;\n",
              "      --disabled-bg-color: #3B4455;\n",
              "      --disabled-fill-color: #666;\n",
              "  }\n",
              "\n",
              "  .colab-df-quickchart {\n",
              "    background-color: var(--bg-color);\n",
              "    border: none;\n",
              "    border-radius: 50%;\n",
              "    cursor: pointer;\n",
              "    display: none;\n",
              "    fill: var(--fill-color);\n",
              "    height: 32px;\n",
              "    padding: 0;\n",
              "    width: 32px;\n",
              "  }\n",
              "\n",
              "  .colab-df-quickchart:hover {\n",
              "    background-color: var(--hover-bg-color);\n",
              "    box-shadow: 0 1px 2px rgba(60, 64, 67, 0.3), 0 1px 3px 1px rgba(60, 64, 67, 0.15);\n",
              "    fill: var(--button-hover-fill-color);\n",
              "  }\n",
              "\n",
              "  .colab-df-quickchart-complete:disabled,\n",
              "  .colab-df-quickchart-complete:disabled:hover {\n",
              "    background-color: var(--disabled-bg-color);\n",
              "    fill: var(--disabled-fill-color);\n",
              "    box-shadow: none;\n",
              "  }\n",
              "\n",
              "  .colab-df-spinner {\n",
              "    border: 2px solid var(--fill-color);\n",
              "    border-color: transparent;\n",
              "    border-bottom-color: var(--fill-color);\n",
              "    animation:\n",
              "      spin 1s steps(1) infinite;\n",
              "  }\n",
              "\n",
              "  @keyframes spin {\n",
              "    0% {\n",
              "      border-color: transparent;\n",
              "      border-bottom-color: var(--fill-color);\n",
              "      border-left-color: var(--fill-color);\n",
              "    }\n",
              "    20% {\n",
              "      border-color: transparent;\n",
              "      border-left-color: var(--fill-color);\n",
              "      border-top-color: var(--fill-color);\n",
              "    }\n",
              "    30% {\n",
              "      border-color: transparent;\n",
              "      border-left-color: var(--fill-color);\n",
              "      border-top-color: var(--fill-color);\n",
              "      border-right-color: var(--fill-color);\n",
              "    }\n",
              "    40% {\n",
              "      border-color: transparent;\n",
              "      border-right-color: var(--fill-color);\n",
              "      border-top-color: var(--fill-color);\n",
              "    }\n",
              "    60% {\n",
              "      border-color: transparent;\n",
              "      border-right-color: var(--fill-color);\n",
              "    }\n",
              "    80% {\n",
              "      border-color: transparent;\n",
              "      border-right-color: var(--fill-color);\n",
              "      border-bottom-color: var(--fill-color);\n",
              "    }\n",
              "    90% {\n",
              "      border-color: transparent;\n",
              "      border-bottom-color: var(--fill-color);\n",
              "    }\n",
              "  }\n",
              "</style>\n",
              "\n",
              "  <script>\n",
              "    async function quickchart(key) {\n",
              "      const quickchartButtonEl =\n",
              "        document.querySelector('#' + key + ' button');\n",
              "      quickchartButtonEl.disabled = true;  // To prevent multiple clicks.\n",
              "      quickchartButtonEl.classList.add('colab-df-spinner');\n",
              "      try {\n",
              "        const charts = await google.colab.kernel.invokeFunction(\n",
              "            'suggestCharts', [key], {});\n",
              "      } catch (error) {\n",
              "        console.error('Error during call to suggestCharts:', error);\n",
              "      }\n",
              "      quickchartButtonEl.classList.remove('colab-df-spinner');\n",
              "      quickchartButtonEl.classList.add('colab-df-quickchart-complete');\n",
              "    }\n",
              "    (() => {\n",
              "      let quickchartButtonEl =\n",
              "        document.querySelector('#df-d088f8a5-113f-4965-8a90-6376dcdb6364 button');\n",
              "      quickchartButtonEl.style.display =\n",
              "        google.colab.kernel.accessAllowed ? 'block' : 'none';\n",
              "    })();\n",
              "  </script>\n",
              "</div>\n",
              "    </div>\n",
              "  </div>\n"
            ],
            "application/vnd.google.colaboratory.intrinsic+json": {
              "type": "dataframe",
              "variable_name": "pgns",
              "summary": "{\n  \"name\": \"pgns\",\n  \"rows\": 333,\n  \"fields\": [\n    {\n      \"column\": \"bill_length_mm\",\n      \"properties\": {\n        \"dtype\": \"number\",\n        \"std\": 5.46866834264756,\n        \"min\": 32.1,\n        \"max\": 59.6,\n        \"num_unique_values\": 163,\n        \"samples\": [\n          46.9,\n          45.7,\n          52.1\n        ],\n        \"semantic_type\": \"\",\n        \"description\": \"\"\n      }\n    },\n    {\n      \"column\": \"bill_depth_mm\",\n      \"properties\": {\n        \"dtype\": \"number\",\n        \"std\": 1.9692354633199007,\n        \"min\": 13.1,\n        \"max\": 21.5,\n        \"num_unique_values\": 79,\n        \"samples\": [\n          19.5,\n          18.7,\n          17.0\n        ],\n        \"semantic_type\": \"\",\n        \"description\": \"\"\n      }\n    },\n    {\n      \"column\": \"flipper_length_mm\",\n      \"properties\": {\n        \"dtype\": \"number\",\n        \"std\": 14.015765288287879,\n        \"min\": 172.0,\n        \"max\": 231.0,\n        \"num_unique_values\": 54,\n        \"samples\": [\n          188.0,\n          223.0,\n          229.0\n        ],\n        \"semantic_type\": \"\",\n        \"description\": \"\"\n      }\n    },\n    {\n      \"column\": \"body_mass_g\",\n      \"properties\": {\n        \"dtype\": \"number\",\n        \"std\": 805.2158019428964,\n        \"min\": 2700.0,\n        \"max\": 6300.0,\n        \"num_unique_values\": 93,\n        \"samples\": [\n          4725.0,\n          3100.0,\n          5400.0\n        ],\n        \"semantic_type\": \"\",\n        \"description\": \"\"\n      }\n    },\n    {\n      \"column\": \"sex\",\n      \"properties\": {\n        \"dtype\": \"number\",\n        \"std\": 0,\n        \"min\": 0,\n        \"max\": 1,\n        \"num_unique_values\": 2,\n        \"samples\": [\n          1,\n          0\n        ],\n        \"semantic_type\": \"\",\n        \"description\": \"\"\n      }\n    },\n    {\n      \"column\": \"year\",\n      \"properties\": {\n        \"dtype\": \"number\",\n        \"std\": 0,\n        \"min\": 2007,\n        \"max\": 2009,\n        \"num_unique_values\": 3,\n        \"samples\": [\n          2007,\n          2008\n        ],\n        \"semantic_type\": \"\",\n        \"description\": \"\"\n      }\n    }\n  ]\n}"
            }
          },
          "metadata": {},
          "execution_count": 12
        }
      ]
    },
    {
      "cell_type": "code",
      "source": [
        "pgns.to_csv('penguins.csv', index = False)"
      ],
      "metadata": {
        "id": "Q4bh5qu32syR"
      },
      "execution_count": 13,
      "outputs": []
    },
    {
      "cell_type": "code",
      "source": [
        "peng = pd.read_csv('/content/penguins.csv')\n",
        "peng"
      ],
      "metadata": {
        "colab": {
          "base_uri": "https://localhost:8080/",
          "height": 424
        },
        "id": "H0jZ95VzpMyy",
        "outputId": "4d789227-e010-43d1-afbb-ca5b2380982a"
      },
      "execution_count": 14,
      "outputs": [
        {
          "output_type": "execute_result",
          "data": {
            "text/plain": [
              "     bill_length_mm  bill_depth_mm  flipper_length_mm  body_mass_g  sex  year\n",
              "0              39.1           18.7              181.0       3750.0    0  2007\n",
              "1              39.5           17.4              186.0       3800.0    1  2007\n",
              "2              40.3           18.0              195.0       3250.0    1  2007\n",
              "3              36.7           19.3              193.0       3450.0    1  2007\n",
              "4              39.3           20.6              190.0       3650.0    0  2007\n",
              "..              ...            ...                ...          ...  ...   ...\n",
              "328            55.8           19.8              207.0       4000.0    0  2009\n",
              "329            43.5           18.1              202.0       3400.0    1  2009\n",
              "330            49.6           18.2              193.0       3775.0    0  2009\n",
              "331            50.8           19.0              210.0       4100.0    0  2009\n",
              "332            50.2           18.7              198.0       3775.0    1  2009\n",
              "\n",
              "[333 rows x 6 columns]"
            ],
            "text/html": [
              "\n",
              "  <div id=\"df-9be81c98-bc67-40b2-8be6-b93f664de20e\" class=\"colab-df-container\">\n",
              "    <div>\n",
              "<style scoped>\n",
              "    .dataframe tbody tr th:only-of-type {\n",
              "        vertical-align: middle;\n",
              "    }\n",
              "\n",
              "    .dataframe tbody tr th {\n",
              "        vertical-align: top;\n",
              "    }\n",
              "\n",
              "    .dataframe thead th {\n",
              "        text-align: right;\n",
              "    }\n",
              "</style>\n",
              "<table border=\"1\" class=\"dataframe\">\n",
              "  <thead>\n",
              "    <tr style=\"text-align: right;\">\n",
              "      <th></th>\n",
              "      <th>bill_length_mm</th>\n",
              "      <th>bill_depth_mm</th>\n",
              "      <th>flipper_length_mm</th>\n",
              "      <th>body_mass_g</th>\n",
              "      <th>sex</th>\n",
              "      <th>year</th>\n",
              "    </tr>\n",
              "  </thead>\n",
              "  <tbody>\n",
              "    <tr>\n",
              "      <th>0</th>\n",
              "      <td>39.1</td>\n",
              "      <td>18.7</td>\n",
              "      <td>181.0</td>\n",
              "      <td>3750.0</td>\n",
              "      <td>0</td>\n",
              "      <td>2007</td>\n",
              "    </tr>\n",
              "    <tr>\n",
              "      <th>1</th>\n",
              "      <td>39.5</td>\n",
              "      <td>17.4</td>\n",
              "      <td>186.0</td>\n",
              "      <td>3800.0</td>\n",
              "      <td>1</td>\n",
              "      <td>2007</td>\n",
              "    </tr>\n",
              "    <tr>\n",
              "      <th>2</th>\n",
              "      <td>40.3</td>\n",
              "      <td>18.0</td>\n",
              "      <td>195.0</td>\n",
              "      <td>3250.0</td>\n",
              "      <td>1</td>\n",
              "      <td>2007</td>\n",
              "    </tr>\n",
              "    <tr>\n",
              "      <th>3</th>\n",
              "      <td>36.7</td>\n",
              "      <td>19.3</td>\n",
              "      <td>193.0</td>\n",
              "      <td>3450.0</td>\n",
              "      <td>1</td>\n",
              "      <td>2007</td>\n",
              "    </tr>\n",
              "    <tr>\n",
              "      <th>4</th>\n",
              "      <td>39.3</td>\n",
              "      <td>20.6</td>\n",
              "      <td>190.0</td>\n",
              "      <td>3650.0</td>\n",
              "      <td>0</td>\n",
              "      <td>2007</td>\n",
              "    </tr>\n",
              "    <tr>\n",
              "      <th>...</th>\n",
              "      <td>...</td>\n",
              "      <td>...</td>\n",
              "      <td>...</td>\n",
              "      <td>...</td>\n",
              "      <td>...</td>\n",
              "      <td>...</td>\n",
              "    </tr>\n",
              "    <tr>\n",
              "      <th>328</th>\n",
              "      <td>55.8</td>\n",
              "      <td>19.8</td>\n",
              "      <td>207.0</td>\n",
              "      <td>4000.0</td>\n",
              "      <td>0</td>\n",
              "      <td>2009</td>\n",
              "    </tr>\n",
              "    <tr>\n",
              "      <th>329</th>\n",
              "      <td>43.5</td>\n",
              "      <td>18.1</td>\n",
              "      <td>202.0</td>\n",
              "      <td>3400.0</td>\n",
              "      <td>1</td>\n",
              "      <td>2009</td>\n",
              "    </tr>\n",
              "    <tr>\n",
              "      <th>330</th>\n",
              "      <td>49.6</td>\n",
              "      <td>18.2</td>\n",
              "      <td>193.0</td>\n",
              "      <td>3775.0</td>\n",
              "      <td>0</td>\n",
              "      <td>2009</td>\n",
              "    </tr>\n",
              "    <tr>\n",
              "      <th>331</th>\n",
              "      <td>50.8</td>\n",
              "      <td>19.0</td>\n",
              "      <td>210.0</td>\n",
              "      <td>4100.0</td>\n",
              "      <td>0</td>\n",
              "      <td>2009</td>\n",
              "    </tr>\n",
              "    <tr>\n",
              "      <th>332</th>\n",
              "      <td>50.2</td>\n",
              "      <td>18.7</td>\n",
              "      <td>198.0</td>\n",
              "      <td>3775.0</td>\n",
              "      <td>1</td>\n",
              "      <td>2009</td>\n",
              "    </tr>\n",
              "  </tbody>\n",
              "</table>\n",
              "<p>333 rows × 6 columns</p>\n",
              "</div>\n",
              "    <div class=\"colab-df-buttons\">\n",
              "\n",
              "  <div class=\"colab-df-container\">\n",
              "    <button class=\"colab-df-convert\" onclick=\"convertToInteractive('df-9be81c98-bc67-40b2-8be6-b93f664de20e')\"\n",
              "            title=\"Convert this dataframe to an interactive table.\"\n",
              "            style=\"display:none;\">\n",
              "\n",
              "  <svg xmlns=\"http://www.w3.org/2000/svg\" height=\"24px\" viewBox=\"0 -960 960 960\">\n",
              "    <path d=\"M120-120v-720h720v720H120Zm60-500h600v-160H180v160Zm220 220h160v-160H400v160Zm0 220h160v-160H400v160ZM180-400h160v-160H180v160Zm440 0h160v-160H620v160ZM180-180h160v-160H180v160Zm440 0h160v-160H620v160Z\"/>\n",
              "  </svg>\n",
              "    </button>\n",
              "\n",
              "  <style>\n",
              "    .colab-df-container {\n",
              "      display:flex;\n",
              "      gap: 12px;\n",
              "    }\n",
              "\n",
              "    .colab-df-convert {\n",
              "      background-color: #E8F0FE;\n",
              "      border: none;\n",
              "      border-radius: 50%;\n",
              "      cursor: pointer;\n",
              "      display: none;\n",
              "      fill: #1967D2;\n",
              "      height: 32px;\n",
              "      padding: 0 0 0 0;\n",
              "      width: 32px;\n",
              "    }\n",
              "\n",
              "    .colab-df-convert:hover {\n",
              "      background-color: #E2EBFA;\n",
              "      box-shadow: 0px 1px 2px rgba(60, 64, 67, 0.3), 0px 1px 3px 1px rgba(60, 64, 67, 0.15);\n",
              "      fill: #174EA6;\n",
              "    }\n",
              "\n",
              "    .colab-df-buttons div {\n",
              "      margin-bottom: 4px;\n",
              "    }\n",
              "\n",
              "    [theme=dark] .colab-df-convert {\n",
              "      background-color: #3B4455;\n",
              "      fill: #D2E3FC;\n",
              "    }\n",
              "\n",
              "    [theme=dark] .colab-df-convert:hover {\n",
              "      background-color: #434B5C;\n",
              "      box-shadow: 0px 1px 3px 1px rgba(0, 0, 0, 0.15);\n",
              "      filter: drop-shadow(0px 1px 2px rgba(0, 0, 0, 0.3));\n",
              "      fill: #FFFFFF;\n",
              "    }\n",
              "  </style>\n",
              "\n",
              "    <script>\n",
              "      const buttonEl =\n",
              "        document.querySelector('#df-9be81c98-bc67-40b2-8be6-b93f664de20e button.colab-df-convert');\n",
              "      buttonEl.style.display =\n",
              "        google.colab.kernel.accessAllowed ? 'block' : 'none';\n",
              "\n",
              "      async function convertToInteractive(key) {\n",
              "        const element = document.querySelector('#df-9be81c98-bc67-40b2-8be6-b93f664de20e');\n",
              "        const dataTable =\n",
              "          await google.colab.kernel.invokeFunction('convertToInteractive',\n",
              "                                                    [key], {});\n",
              "        if (!dataTable) return;\n",
              "\n",
              "        const docLinkHtml = 'Like what you see? Visit the ' +\n",
              "          '<a target=\"_blank\" href=https://colab.research.google.com/notebooks/data_table.ipynb>data table notebook</a>'\n",
              "          + ' to learn more about interactive tables.';\n",
              "        element.innerHTML = '';\n",
              "        dataTable['output_type'] = 'display_data';\n",
              "        await google.colab.output.renderOutput(dataTable, element);\n",
              "        const docLink = document.createElement('div');\n",
              "        docLink.innerHTML = docLinkHtml;\n",
              "        element.appendChild(docLink);\n",
              "      }\n",
              "    </script>\n",
              "  </div>\n",
              "\n",
              "\n",
              "<div id=\"df-d29e515c-6d52-4d64-9823-7baed9072280\">\n",
              "  <button class=\"colab-df-quickchart\" onclick=\"quickchart('df-d29e515c-6d52-4d64-9823-7baed9072280')\"\n",
              "            title=\"Suggest charts\"\n",
              "            style=\"display:none;\">\n",
              "\n",
              "<svg xmlns=\"http://www.w3.org/2000/svg\" height=\"24px\"viewBox=\"0 0 24 24\"\n",
              "     width=\"24px\">\n",
              "    <g>\n",
              "        <path d=\"M19 3H5c-1.1 0-2 .9-2 2v14c0 1.1.9 2 2 2h14c1.1 0 2-.9 2-2V5c0-1.1-.9-2-2-2zM9 17H7v-7h2v7zm4 0h-2V7h2v10zm4 0h-2v-4h2v4z\"/>\n",
              "    </g>\n",
              "</svg>\n",
              "  </button>\n",
              "\n",
              "<style>\n",
              "  .colab-df-quickchart {\n",
              "      --bg-color: #E8F0FE;\n",
              "      --fill-color: #1967D2;\n",
              "      --hover-bg-color: #E2EBFA;\n",
              "      --hover-fill-color: #174EA6;\n",
              "      --disabled-fill-color: #AAA;\n",
              "      --disabled-bg-color: #DDD;\n",
              "  }\n",
              "\n",
              "  [theme=dark] .colab-df-quickchart {\n",
              "      --bg-color: #3B4455;\n",
              "      --fill-color: #D2E3FC;\n",
              "      --hover-bg-color: #434B5C;\n",
              "      --hover-fill-color: #FFFFFF;\n",
              "      --disabled-bg-color: #3B4455;\n",
              "      --disabled-fill-color: #666;\n",
              "  }\n",
              "\n",
              "  .colab-df-quickchart {\n",
              "    background-color: var(--bg-color);\n",
              "    border: none;\n",
              "    border-radius: 50%;\n",
              "    cursor: pointer;\n",
              "    display: none;\n",
              "    fill: var(--fill-color);\n",
              "    height: 32px;\n",
              "    padding: 0;\n",
              "    width: 32px;\n",
              "  }\n",
              "\n",
              "  .colab-df-quickchart:hover {\n",
              "    background-color: var(--hover-bg-color);\n",
              "    box-shadow: 0 1px 2px rgba(60, 64, 67, 0.3), 0 1px 3px 1px rgba(60, 64, 67, 0.15);\n",
              "    fill: var(--button-hover-fill-color);\n",
              "  }\n",
              "\n",
              "  .colab-df-quickchart-complete:disabled,\n",
              "  .colab-df-quickchart-complete:disabled:hover {\n",
              "    background-color: var(--disabled-bg-color);\n",
              "    fill: var(--disabled-fill-color);\n",
              "    box-shadow: none;\n",
              "  }\n",
              "\n",
              "  .colab-df-spinner {\n",
              "    border: 2px solid var(--fill-color);\n",
              "    border-color: transparent;\n",
              "    border-bottom-color: var(--fill-color);\n",
              "    animation:\n",
              "      spin 1s steps(1) infinite;\n",
              "  }\n",
              "\n",
              "  @keyframes spin {\n",
              "    0% {\n",
              "      border-color: transparent;\n",
              "      border-bottom-color: var(--fill-color);\n",
              "      border-left-color: var(--fill-color);\n",
              "    }\n",
              "    20% {\n",
              "      border-color: transparent;\n",
              "      border-left-color: var(--fill-color);\n",
              "      border-top-color: var(--fill-color);\n",
              "    }\n",
              "    30% {\n",
              "      border-color: transparent;\n",
              "      border-left-color: var(--fill-color);\n",
              "      border-top-color: var(--fill-color);\n",
              "      border-right-color: var(--fill-color);\n",
              "    }\n",
              "    40% {\n",
              "      border-color: transparent;\n",
              "      border-right-color: var(--fill-color);\n",
              "      border-top-color: var(--fill-color);\n",
              "    }\n",
              "    60% {\n",
              "      border-color: transparent;\n",
              "      border-right-color: var(--fill-color);\n",
              "    }\n",
              "    80% {\n",
              "      border-color: transparent;\n",
              "      border-right-color: var(--fill-color);\n",
              "      border-bottom-color: var(--fill-color);\n",
              "    }\n",
              "    90% {\n",
              "      border-color: transparent;\n",
              "      border-bottom-color: var(--fill-color);\n",
              "    }\n",
              "  }\n",
              "</style>\n",
              "\n",
              "  <script>\n",
              "    async function quickchart(key) {\n",
              "      const quickchartButtonEl =\n",
              "        document.querySelector('#' + key + ' button');\n",
              "      quickchartButtonEl.disabled = true;  // To prevent multiple clicks.\n",
              "      quickchartButtonEl.classList.add('colab-df-spinner');\n",
              "      try {\n",
              "        const charts = await google.colab.kernel.invokeFunction(\n",
              "            'suggestCharts', [key], {});\n",
              "      } catch (error) {\n",
              "        console.error('Error during call to suggestCharts:', error);\n",
              "      }\n",
              "      quickchartButtonEl.classList.remove('colab-df-spinner');\n",
              "      quickchartButtonEl.classList.add('colab-df-quickchart-complete');\n",
              "    }\n",
              "    (() => {\n",
              "      let quickchartButtonEl =\n",
              "        document.querySelector('#df-d29e515c-6d52-4d64-9823-7baed9072280 button');\n",
              "      quickchartButtonEl.style.display =\n",
              "        google.colab.kernel.accessAllowed ? 'block' : 'none';\n",
              "    })();\n",
              "  </script>\n",
              "</div>\n",
              "    </div>\n",
              "  </div>\n"
            ],
            "application/vnd.google.colaboratory.intrinsic+json": {
              "type": "dataframe",
              "variable_name": "peng",
              "summary": "{\n  \"name\": \"peng\",\n  \"rows\": 333,\n  \"fields\": [\n    {\n      \"column\": \"bill_length_mm\",\n      \"properties\": {\n        \"dtype\": \"number\",\n        \"std\": 5.46866834264756,\n        \"min\": 32.1,\n        \"max\": 59.6,\n        \"num_unique_values\": 163,\n        \"samples\": [\n          46.9,\n          45.7,\n          52.1\n        ],\n        \"semantic_type\": \"\",\n        \"description\": \"\"\n      }\n    },\n    {\n      \"column\": \"bill_depth_mm\",\n      \"properties\": {\n        \"dtype\": \"number\",\n        \"std\": 1.9692354633199007,\n        \"min\": 13.1,\n        \"max\": 21.5,\n        \"num_unique_values\": 79,\n        \"samples\": [\n          19.5,\n          18.7,\n          17.0\n        ],\n        \"semantic_type\": \"\",\n        \"description\": \"\"\n      }\n    },\n    {\n      \"column\": \"flipper_length_mm\",\n      \"properties\": {\n        \"dtype\": \"number\",\n        \"std\": 14.015765288287879,\n        \"min\": 172.0,\n        \"max\": 231.0,\n        \"num_unique_values\": 54,\n        \"samples\": [\n          188.0,\n          223.0,\n          229.0\n        ],\n        \"semantic_type\": \"\",\n        \"description\": \"\"\n      }\n    },\n    {\n      \"column\": \"body_mass_g\",\n      \"properties\": {\n        \"dtype\": \"number\",\n        \"std\": 805.2158019428964,\n        \"min\": 2700.0,\n        \"max\": 6300.0,\n        \"num_unique_values\": 93,\n        \"samples\": [\n          4725.0,\n          3100.0,\n          5400.0\n        ],\n        \"semantic_type\": \"\",\n        \"description\": \"\"\n      }\n    },\n    {\n      \"column\": \"sex\",\n      \"properties\": {\n        \"dtype\": \"number\",\n        \"std\": 0,\n        \"min\": 0,\n        \"max\": 1,\n        \"num_unique_values\": 2,\n        \"samples\": [\n          1,\n          0\n        ],\n        \"semantic_type\": \"\",\n        \"description\": \"\"\n      }\n    },\n    {\n      \"column\": \"year\",\n      \"properties\": {\n        \"dtype\": \"number\",\n        \"std\": 0,\n        \"min\": 2007,\n        \"max\": 2009,\n        \"num_unique_values\": 3,\n        \"samples\": [\n          2007,\n          2008\n        ],\n        \"semantic_type\": \"\",\n        \"description\": \"\"\n      }\n    }\n  ]\n}"
            }
          },
          "metadata": {},
          "execution_count": 14
        }
      ]
    },
    {
      "cell_type": "code",
      "source": [
        "read = '/content/penguins.csv'"
      ],
      "metadata": {
        "id": "BzzlzD4-mqXb"
      },
      "execution_count": 15,
      "outputs": []
    },
    {
      "cell_type": "code",
      "source": [
        "# Построим график и заметим, что девочки весят меньше мальчиков\n",
        "X = peng['sex']\n",
        "Y = peng['body_mass_g']\n",
        "\n",
        "sns.boxplot(x ='sex', y = 'body_mass_g' , data=peng , palette = 'pink')\n",
        "\n",
        "plt.xlabel('Sex penguins')\n",
        "plt.ylabel('Body mass g')\n",
        "plt.title('Compare two penguins')\n",
        "plt.show()"
      ],
      "metadata": {
        "colab": {
          "base_uri": "https://localhost:8080/",
          "height": 579
        },
        "id": "HR9aOegPok6P",
        "outputId": "a4b57380-77e8-46c4-a65c-33611808f309"
      },
      "execution_count": 16,
      "outputs": [
        {
          "output_type": "stream",
          "name": "stderr",
          "text": [
            "<ipython-input-16-62cdbcc249a9>:5: FutureWarning: \n",
            "\n",
            "Passing `palette` without assigning `hue` is deprecated and will be removed in v0.14.0. Assign the `x` variable to `hue` and set `legend=False` for the same effect.\n",
            "\n",
            "  sns.boxplot(x ='sex', y = 'body_mass_g' , data=peng , palette = 'pink')\n"
          ]
        },
        {
          "output_type": "display_data",
          "data": {
            "text/plain": [
              "<Figure size 640x480 with 1 Axes>"
            ],
            "image/png": "[encoded data removed]"
          },
          "metadata": {}
        }
      ]
    },
    {
      "cell_type": "code",
      "source": [
        "#Строим линейную регрессию И ДА МЫ ВОСПОЛЬЗУЕМСЯ ГОТОВОЙ БИБЛИОТЕКОЙ\n",
        "X = peng['bill_length_mm'].values.reshape(-1,1)\n",
        "y = peng['flipper_length_mm'].values\n",
        "model = LinearRegression()\n",
        "model.fit(X, y)\n",
        "\n",
        "predict_y = model.predict(X)"
      ],
      "metadata": {
        "id": "7LIyMkg5di-k"
      },
      "execution_count": 17,
      "outputs": []
    },
    {
      "cell_type": "code",
      "source": [
        "plt.scatter(X, y, color='gold')\n",
        "plt.plot(X, predict_y, color = 'red', label = 'Линейная регрессия' )\n",
        "plt.legend()\n",
        "plt.grid()\n",
        "plt.xlabel('Ширина клюва')\n",
        "plt.ylabel('Глубина клюва')\n",
        "plt.show()"
      ],
      "metadata": {
        "colab": {
          "base_uri": "https://localhost:8080/",
          "height": 449
        },
        "id": "6LXB0KCohOv_",
        "outputId": "9dcd6444-4b97-4b2f-b509-de5105f2cf6d"
      },
      "execution_count": 18,
      "outputs": [
        {
          "output_type": "display_data",
          "data": {
            "text/plain": [
              "<Figure size 640x480 with 1 Axes>"
            ],
            "image/png": "[encoded data removed]"
          },
          "metadata": {}
        }
      ]
    },
    {
      "cell_type": "markdown",
      "source": [
        "### Проверим данные на нормальность распределения по тесту Шапиро-Уилка, если значения отклоняются от 0,5 в меньшую сторону, то надо проверять на ненормальность распределения"
      ],
      "metadata": {
        "id": "CXMGf7C_vesz"
      }
    },
    {
      "cell_type": "code",
      "source": [
        "with open(read, 'r' ) as INPUT:\n",
        "  header = INPUT.readline().strip().split(',')\n",
        "  data = [np.array([], dtype=float) for i in header]\n",
        "  for Rows in INPUT:\n",
        "    Rows = Rows.strip().split(',')\n",
        "    for i in range(len(Rows)):\n",
        "      data[i] = np.append(data[i], float(Rows[i]))"
      ],
      "metadata": {
        "id": "yQLeuEHEyZT_"
      },
      "execution_count": 19,
      "outputs": []
    },
    {
      "cell_type": "markdown",
      "source": [
        "### Логорифмируем данные, чтобы сделать данные более симметричнми"
      ],
      "metadata": {
        "id": "8OK07yWazqof"
      }
    },
    {
      "cell_type": "code",
      "source": [
        "data[1] = np.log(data[1])\n",
        "data[2] = np.log(data[2])\n",
        "print(\"/n bill_length_mm: \", data[1])\n",
        "print('/n bill_depth_mm: ', data[2] )"
      ],
      "metadata": {
        "id": "lDaaFUNh4Lsx",
        "colab": {
          "base_uri": "https://localhost:8080/"
        },
        "outputId": "31262aef-428e-4aa3-dd09-d43523dd19d6"
      },
      "execution_count": 37,
      "outputs": [
        {
          "output_type": "stream",
          "name": "stdout",
          "text": [
            "/n bill_length_mm:  [1.07449838 1.04958667 1.06138513 1.08522477 1.10700731 1.05751194\n",
            " 1.09042203 1.05357967 1.11645259 1.11490321 1.05751194 1.0799183\n",
            " 1.10860674 1.06896054 1.12104314 1.06708759 1.07449838 1.08346829\n",
            " 1.06330007 1.04553122 1.07812448 1.07266576 1.05945582 1.07266576\n",
            " 1.07812448 1.03510744 1.06330007 1.05751194 1.07812448 1.04141152\n",
            " 1.11490321 1.0971887  1.07081988 1.08522477 1.08169952 1.06138513\n",
            " 1.06896054 1.07081988 1.09213087 1.03932701 1.0763179  1.0799183\n",
            " 1.05945582 1.11645259 1.05555329 1.07812448 1.05945582 1.08870149\n",
            " 1.06330007 1.07266576 1.05159087 1.0763179  1.0329719  1.08169952\n",
            " 1.03932701 1.11490321 1.04141152 1.06520082 1.04347951 1.06138513\n",
            " 1.02425191 1.08169952 1.0329719  1.08696912 1.0799183  1.06896054\n",
            " 1.04553122 1.07812448 1.05159087 1.07081988 1.03722573 1.08696912\n",
            " 1.02202612 1.08169952 1.04553122 1.05357967 1.0763179  1.08696912\n",
            " 1.05751194 1.10214633 1.08870149 1.07266576 1.08346829 1.0763179\n",
            " 1.06138513 1.06330007 1.04347951 1.06330007 1.04756686 1.07812448\n",
            " 1.07266576 1.07081988 1.02202612 1.07081988 1.05945582 1.0971887\n",
            " 1.01978144 1.0971887  1.07266576 1.07812448 1.04553122 1.0971887\n",
            " 1.04141152 1.0799183  1.03081883 1.10214633 1.05555329 1.08870149\n",
            " 1.10860674 1.06708759 1.04141152 1.10539751 1.04141152 1.07266576\n",
            " 1.04553122 1.09382818 1.04141152 1.07081988 1.0175176  1.0799183\n",
            " 1.05357967 1.06708759 1.04347951 1.06138513 1.05945582 1.08346829\n",
            " 1.07081988 1.07081988 1.05357967 1.05159087 1.05159087 1.0988522\n",
            " 1.03081883 1.05945582 1.04347951 1.04553122 1.00826445 1.04141152\n",
            " 1.03722573 1.07449838 1.07266576 1.06896054 1.05751194 1.06330007\n",
            " 1.04347951 1.07081988 0.94787344 1.02645911 0.97311512 1.00110803\n",
            " 0.98363107 0.9565454  0.98619789 1.00351479 0.95368466 1.00590015\n",
            " 0.96217987 1.02202612 0.96217987 0.98619789 0.98619789 1.01293119\n",
            " 0.9565454  1.00110803 0.98363107 0.99867951 0.97842369 0.98363107\n",
            " 0.98363107 1.01523428 0.94492181 0.99867951 0.99622889 0.97842369\n",
            " 1.00351479 1.00351479 0.97578228 0.98363107 1.04141152 0.99125986\n",
            " 1.02645911 0.96217987 1.04756686 0.95937696 1.01293119 0.96217987\n",
            " 1.01978144 0.96217987 0.99622889 1.0175176  0.96770178 0.96770178\n",
            " 1.0175176  0.9507942  1.01523428 0.97578228 0.97311512 0.98103981\n",
            " 0.99622889 0.98103981 1.00590015 0.96770178 0.99622889 0.98363107\n",
            " 1.00351479 0.96495464 0.9937558  0.96770178 1.01293119 0.97578228\n",
            " 1.03722573 1.02425191 0.97578228 0.99622889 0.99622889 1.01060802\n",
            " 1.01060802 0.99125986 0.99622889 1.01978144 0.97578228 1.02645911\n",
            " 0.96495464 1.02864799 0.98363107 1.01060802 0.98619789 1.0175176\n",
            " 0.96495464 1.04756686 0.98103981 0.97578228 0.97042178 1.04141152\n",
            " 0.99622889 1.04347951 0.98363107 1.02202612 0.98874069 1.01293119\n",
            " 1.01523428 0.98619789 0.98103981 1.03081883 0.99622889 1.04141152\n",
            " 1.00826445 0.99622889 1.02202612 0.98874069 1.01523428 0.97042178\n",
            " 0.99867951 1.00110803 1.0175176  1.00110803 1.02645911 0.97311512\n",
            " 1.01978144 1.02425191 0.96217987 0.97842369 1.01293119 0.99125986\n",
            " 1.02202612 1.05945582 1.08870149 1.08346829 1.07449838 1.09382818\n",
            " 1.05751194 1.06520082 1.06520082 1.07812448 1.09551407 1.05751194\n",
            " 1.10214633 1.04756686 1.06330007 1.04347951 1.09042203 1.0971887\n",
            " 1.05751194 1.07266576 1.06520082 1.04756686 1.05159087 1.0329719\n",
            " 1.08696912 1.05945582 1.0799183  1.06896054 1.0799183  1.05751194\n",
            " 1.0971887  1.0329719  1.11019593 1.03510744 1.0763179  1.07266576\n",
            " 1.03722573 1.06708759 1.10860674 1.0329719  1.09551407 1.08870149\n",
            " 1.05159087 1.08169952 1.04141152 1.05945582 1.07081988 1.05945582\n",
            " 1.09042203 1.07449838 1.04756686 1.02864799 1.0799183  1.04756686\n",
            " 1.09213087 1.04756686 1.0763179  1.0329719  1.09551407 1.0763179\n",
            " 1.08696912 1.08870149 1.03081883 1.04141152 1.09382818 1.06330007\n",
            " 1.06520082 1.0799183  1.07449838]\n",
            "/n bill_depth_mm:  [1.64836955 1.65359769 1.66259938 1.66064234 1.65766107 1.64836955\n",
            " 1.66259938 1.64942885 1.65866102 1.6654906  1.65256557 1.66259938\n",
            " 1.66453268 1.65152677 1.66162386 1.64075348 1.64730326 1.65665484\n",
            " 1.65256557 1.64730326 1.65462323 1.65048122 1.65462323 1.63851009\n",
            " 1.64730326 1.64514931 1.64514931 1.65564225 1.65152677 1.66259938\n",
            " 1.66356896 1.65766107 1.64730326 1.64836955 1.65152677 1.64942885\n",
            " 1.66259938 1.65359769 1.66356896 1.65256557 1.65766107 1.64942885\n",
            " 1.65766107 1.65866102 1.65359769 1.65564225 1.65766107 1.66738929\n",
            " 1.65462323 1.65866102 1.65359769 1.66064234 1.64836955 1.66162386\n",
            " 1.65256557 1.66259938 1.65256557 1.65965475 1.65152677 1.65965475\n",
            " 1.66259938 1.65564225 1.65766107 1.6654906  1.65766107 1.65766107\n",
            " 1.66356896 1.66453268 1.65766107 1.66259938 1.65866102 1.65152677\n",
            " 1.65462323 1.66259938 1.65665484 1.66356896 1.65462323 1.66064234\n",
            " 1.65866102 1.66162386 1.65766107 1.65665484 1.65665484 1.65766107\n",
            " 1.66926555 1.67203893 1.65256557 1.65359769 1.65462323 1.67476451\n",
            " 1.65766107 1.66356896 1.64514931 1.65965475 1.65965475 1.67019542\n",
            " 1.65048122 1.65766107 1.66064234 1.65152677 1.66644278 1.65766107\n",
            " 1.64836955 1.66453268 1.6654906  1.65866102 1.66064234 1.66453268\n",
            " 1.65866102 1.66356896 1.65564225 1.66644278 1.65665484 1.65665484\n",
            " 1.65462323 1.6654906  1.6429663  1.66926555 1.65359769 1.66644278\n",
            " 1.65866102 1.66259938 1.65866102 1.67655577 1.65766107 1.66453268\n",
            " 1.66064234 1.66644278 1.65462323 1.65766107 1.65866102 1.66738929\n",
            " 1.65256557 1.66064234 1.66064234 1.65462323 1.65564225 1.65766107\n",
            " 1.65965475 1.65256557 1.65766107 1.65152677 1.66259938 1.66064234\n",
            " 1.65462323 1.66833019 1.67744382 1.69342593 1.67655577 1.68352354\n",
            " 1.68094671 1.67655577 1.67744382 1.68437315 1.67566268 1.68094671\n",
            " 1.68007828 1.68181037 1.68007828 1.67920502 1.67655577 1.68266929\n",
            " 1.67655577 1.68605866 1.67566268 1.68689464 1.68352354 1.68094671\n",
            " 1.67920502 1.68094671 1.68094671 1.68094671 1.68094671 1.67655577\n",
            " 1.68521817 1.68689464 1.67566268 1.6738612  1.69342593 1.68521817\n",
            " 1.68521817 1.67920502 1.68437315 1.67476451 1.67476451 1.67476451\n",
            " 1.68937607 1.67655577 1.68181037 1.68689464 1.68266929 1.67655577\n",
            " 1.68937607 1.67920502 1.68094671 1.67655577 1.68521817 1.67655577\n",
            " 1.68937607 1.68266929 1.68521817 1.67476451 1.68521817 1.67476451\n",
            " 1.68855331 1.67476451 1.68605866 1.68007828 1.69422339 1.68437315\n",
            " 1.69342593 1.69262435 1.68521817 1.68772618 1.68181037 1.68605866\n",
            " 1.68605866 1.68266929 1.68181037 1.69342593 1.67566268 1.68521817\n",
            " 1.68094671 1.68772618 1.67832688 1.68605866 1.67832688 1.68855331\n",
            " 1.67832688 1.69181862 1.68352354 1.68352354 1.67832688 1.69342593\n",
            " 1.68352354 1.69181862 1.67832688 1.68855331 1.68007828 1.69019452\n",
            " 1.68181037 1.68689464 1.67019542 1.68937607 1.68437315 1.69181862\n",
            " 1.68094671 1.69181862 1.68094671 1.67655577 1.68437315 1.67476451\n",
            " 1.67566268 1.68181037 1.69262435 1.67920502 1.69342593 1.68266929\n",
            " 1.69342593 1.68689464 1.68007828 1.68094671 1.68689464 1.67832688\n",
            " 1.67920502 1.65965475 1.66356896 1.66064234 1.65564225 1.66453268\n",
            " 1.6654906  1.64514931 1.66453268 1.66259938 1.6654906  1.66064234\n",
            " 1.66162386 1.65256557 1.66833019 1.65766107 1.66833019 1.66453268\n",
            " 1.64836955 1.65766107 1.66259938 1.64836955 1.65866102 1.65462323\n",
            " 1.66064234 1.66259938 1.66453268 1.66738929 1.66738929 1.65866102\n",
            " 1.67203893 1.65462323 1.66833019 1.65462323 1.67019542 1.66259938\n",
            " 1.66644278 1.66259938 1.67655577 1.65965475 1.67203893 1.67655577\n",
            " 1.65462323 1.66356896 1.66356896 1.66356896 1.66833019 1.65766107\n",
            " 1.67832688 1.65462323 1.6654906  1.66644278 1.66833019 1.66064234\n",
            " 1.67019542 1.65462323 1.66453268 1.65866102 1.67019542 1.66926555\n",
            " 1.66162386 1.67295269 1.65665484 1.66259938 1.6738612  1.66926555\n",
            " 1.66064234 1.67655577 1.6654906 ]\n"
          ]
        }
      ]
    },
    {
      "cell_type": "code",
      "source": [
        "def Normality_checker(List_of_values, alpha=0.05):\n",
        "    n = len(List_of_values)\n",
        "    Checker_vector = []\n",
        "    for i in range(n):\n",
        "        if 1-scst.shapiro(List_of_values[1]).statistic < alpha:\n",
        "            Checker_vector.append(True)\n",
        "        else:\n",
        "            Checker_vector.append(False)\n",
        "    return Checker_vector"
      ],
      "metadata": {
        "id": "d8J5Vz8NfE1W"
      },
      "execution_count": 38,
      "outputs": []
    },
    {
      "cell_type": "code",
      "source": [
        "print(header)\n",
        "print(Normality_checker(data, alpha=0.13))\n"
      ],
      "metadata": {
        "colab": {
          "base_uri": "https://localhost:8080/"
        },
        "id": "BD1hgTRb4Cau",
        "outputId": "698604df-cfb7-49ca-df3a-449c486fd9b1"
      },
      "execution_count": 39,
      "outputs": [
        {
          "output_type": "stream",
          "name": "stdout",
          "text": [
            "['bill_length_mm', 'bill_depth_mm', 'flipper_length_mm', 'body_mass_g', 'sex', 'year']\n",
            "[True, True, True, True, True, True]\n"
          ]
        }
      ]
    },
    {
      "cell_type": "code",
      "source": [
        "print(header[2:])\n",
        "print(np.corrcoef(data[2:]))"
      ],
      "metadata": {
        "colab": {
          "base_uri": "https://localhost:8080/"
        },
        "id": "wzxls4YJrvGn",
        "outputId": "bef3c6cd-7cc7-4460-e63e-fe35a745b884"
      },
      "execution_count": 40,
      "outputs": [
        {
          "output_type": "stream",
          "name": "stdout",
          "text": [
            "['flipper_length_mm', 'body_mass_g', 'sex', 'year']\n",
            "[[ 1.00000000e+00  8.67174188e-01 -2.53491159e-01  1.55064092e-01]\n",
            " [ 8.67174188e-01  1.00000000e+00 -4.24986991e-01  2.18621307e-02]\n",
            " [-2.53491159e-01 -4.24986991e-01  1.00000000e+00  4.66628177e-04]\n",
            " [ 1.55064092e-01  2.18621307e-02  4.66628177e-04  1.00000000e+00]]\n"
          ]
        }
      ]
    },
    {
      "cell_type": "code",
      "source": [
        "for i in range(len(header)):\n",
        "  if i == 1 and i == 2:\n",
        "    plt.title('Hist' + \" ln('\" + header[i]+ \"') \" )\n",
        "  else:\n",
        "    plt.title(\"Hist:\" + \" '\" + header[i]+ \"' \")\n",
        "  plt.hist(data[i])\n",
        "  plt.show()"
      ],
      "metadata": {
        "colab": {
          "base_uri": "https://localhost:8080/",
          "height": 1000
        },
        "id": "SiVA8d-rsCtm",
        "outputId": "7424be90-a95f-4822-85ee-d1f5fb3d1209"
      },
      "execution_count": 41,
      "outputs": [
        {
          "output_type": "display_data",
          "data": {
            "text/plain": [
              "<Figure size 640x480 with 1 Axes>"
            ],
            "image/png": "[encoded data removed]"
          },
          "metadata": {}
        },
        {
          "output_type": "display_data",
          "data": {
            "text/plain": [
              "<Figure size 640x480 with 1 Axes>"
            ],
            "image/png": "[encoded data removed]"
          },
          "metadata": {}
        },
        {
          "output_type": "display_data",
          "data": {
            "text/plain": [
              "<Figure size 640x480 with 1 Axes>"
            ],
            "image/png": "[encoded data removed]"
          },
          "metadata": {}
        },
        {
          "output_type": "display_data",
          "data": {
            "text/plain": [
              "<Figure size 640x480 with 1 Axes>"
            ],
            "image/png": "[encoded data removed]"
          },
          "metadata": {}
        },
        {
          "output_type": "display_data",
          "data": {
            "text/plain": [
              "<Figure size 640x480 with 1 Axes>"
            ],
            "image/png": "[encoded data removed]"
          },
          "metadata": {}
        },
        {
          "output_type": "display_data",
          "data": {
            "text/plain": [
              "<Figure size 640x480 with 1 Axes>"
            ],
            "image/png": "[encoded data removed]"
          },
          "metadata": {}
        }
      ]
    },
    {
      "cell_type": "code",
      "source": [
        "#Вычисляет оюычный коеффициент детерминации\n",
        "def Determination_coef(Y_vector_exp, Y_vector_fit):\n",
        "  Mean_np = lambda Y: np.sum(Y)/len(Y)\n",
        "  Variance_np = lambda Y, y_mean: np.sum(np.power(Y - np.ones(len(Y))*y_mean, 2))\n",
        "  y_mean_exp = Mean_np(Y_vector_exp)\n",
        "  return Variance_np(Y_vector_fit, y_mean_exp)/ Variance_np(Y_vector_exp, y_mean_exp)\n",
        "\n"
      ],
      "metadata": {
        "id": "ubHcH0iSwA0X"
      },
      "execution_count": 42,
      "outputs": []
    },
    {
      "cell_type": "code",
      "source": [
        "#Вычисляет скорректированный коэффициент детерминации для регрессии\n",
        "def Determination_coef_adj(Y_vector_exp, Y_vector_fit, n, k):\n",
        "  return 1-(1-Determination_coef(Y_vector_exp, Y_vector_fit)*(n-1)/(n-k-1))"
      ],
      "metadata": {
        "id": "71xjT76ZcqTj"
      },
      "execution_count": 53,
      "outputs": []
    },
    {
      "cell_type": "code",
      "source": [
        "#Средняя ошбика аппроксимации(показывает среднее отклонение расчетных значений от фактических)\n",
        "def Mean_error_of_approximation(Y_vector_exp, Y_vector_fitted):\n",
        "  n = len(Y_vector_exp)\n",
        "  if n == len(Y_vector_fitted):\n",
        "    return np.sum(np.fabs((Y_vector_exp - Y_vector_fitted)/Y_vector_exp))/n\n",
        "  else:\n",
        "    print(\"Mean_error_of_approximation(a1, a2) must have len a1= len a2\")"
      ],
      "metadata": {
        "id": "C9JwwGMCgZqd"
      },
      "execution_count": 54,
      "outputs": []
    },
    {
      "cell_type": "code",
      "source": [
        "def F_test_on_significance(Y_vector_exp, Y_vector_fit, pars_len= 3,alpha = 0.05):\n",
        "  n = len(Y_vector_exp) if len(Y_vector_exp) == len(Y_vector_fit) else 0\n",
        "  try :\n",
        "    y_mean_exp = np.sum(Y_vector_exp)/n\n",
        "  except ZeroDivisionError:\n",
        "    raise(\"* 'F_test_on_significance' must has a1 == a2 *\")\n",
        "    MSE = np.sum( np.power(Y_vector_exp - Y_vector_fit, 2) ) / (n - pars_len - 1)\n",
        "    MSR = np.sum( np.power(Y_vector_fit - np.ones(n) * y_mean_exp, 2) ) / pars_len\n",
        "    F_value = MSR / MSE\n",
        "    F_value_critical = scst.f.ppf(q = 1 - alpha, dfn= pars_len, dfd= n - pars_len - 1)\n",
        "    if F_value > F_value_critical :\n",
        "        return str(round(F_value, 2)) + \" \" + str(round(F_value_critical, 2)) + \" H0 - sucsess!\"\n",
        "    else:\n",
        "        return str(round(F_value, 2)) + \" \" + str(round(F_value_critical, 2)) + \" H1 - sucsess!\"\n",
        "\n",
        ""
      ],
      "metadata": {
        "id": "xDHw_7ZllD-x"
      },
      "execution_count": 55,
      "outputs": []
    },
    {
      "cell_type": "code",
      "source": [
        "def Mean_square_func(V_variavle, V_fixed):\n",
        "    N = len(V_variavle) if len(V_variavle) == len(V_fixed) else 0\n",
        "    try:\n",
        "        S_square = np.sum(np.power(np.abs(V_variavle- V_fixed),2)) / (N-1)\n",
        "    except ZeroDivisionError:\n",
        "        if N == \"0\":\n",
        "            raise(\"Mean_square_func - must have arg with equal lens!\")\n",
        "        else:\n",
        "            raise(\"Mean_square_func - arg must be great then 1!\")\n",
        "    else:\n",
        "        return S_square\n"
      ],
      "metadata": {
        "id": "-QXsJhiofZTG"
      },
      "execution_count": 56,
      "outputs": []
    },
    {
      "cell_type": "code",
      "source": [
        "def Linear_regration_Multi_dimensional(DATA, Pars):\n",
        "    n_dim = len(DATA)\n",
        "    n_objects = len(DATA[0])\n",
        "    if len(Pars) == n_dim + 1:\n",
        "        Y = np.ones(n_objects)*Pars[0]\n",
        "        for i in range(n_dim):\n",
        "            Y = Y + Pars[i+1] * DATA[i]\n",
        "        return Y # X_values is a numpy object; numpy vectors is returned\n",
        "    else:\n",
        "        raise(\"* With 'Pars' troubles! *\")\n",
        "\n",
        "Target_func = lambda Pars: Mean_square_func(Linear_regration_Multi_dimensional([data[2]], Pars), data[-1])\n",
        "# len(Pars_init) == n_dim + 1 ! (2)\n",
        "Pars_init = [1, 1]\n",
        "res = scop.minimize(Target_func, Pars_init, method='SLSQP', options={'eps':1e-5, 'ftol':1e-8, 'disp': True, 'maxiter':90})\n",
        "print(res)"
      ],
      "metadata": {
        "colab": {
          "base_uri": "https://localhost:8080/"
        },
        "id": "SCa0tCH2nESH",
        "outputId": "d39d69f8-a705-4fb4-a8ba-f02a6415a159"
      },
      "execution_count": 57,
      "outputs": [
        {
          "output_type": "stream",
          "name": "stdout",
          "text": [
            "Optimization terminated successfully    (Exit mode 0)\n",
            "            Current function value: 0.6449872074275727\n",
            "            Iterations: 9\n",
            "            Function evaluations: 28\n",
            "            Gradient evaluations: 9\n",
            " message: Optimization terminated successfully\n",
            " success: True\n",
            "  status: 0\n",
            "     fun: 0.6449872074275727\n",
            "       x: [ 1.992e+03  9.648e+00]\n",
            "     nit: 9\n",
            "     jac: [ 4.305e-08  9.511e-08]\n",
            "    nfev: 28\n",
            "    njev: 9\n"
          ]
        }
      ]
    },
    {
      "cell_type": "code",
      "source": [
        "Y_model = Linear_regration_Multi_dimensional([data[2]], res.x)\n",
        "print(\"A_mean : \", Mean_error_of_approximation(data[-1], Y_model))\n",
        "print(\"R2 adj : \", Determination_coef_adj(data[-1], Y_model, len(Y_model), len(res.x)))\n",
        "\n",
        "plt.title(\"Lin reg of ln('price') from ln('area'):\")\n",
        "plt.ylabel(\" ln('\" + header[-1]+ \"') \")\n",
        "plt.xlabel(\" ln('\" + header[2]+ \"') \")\n",
        "plt.plot(data[2], data[-1] , \"*\", data[2], Y_model , \"--\")\n",
        "plt.show()\n"
      ],
      "metadata": {
        "id": "e3puet2_zbIC",
        "colab": {
          "base_uri": "https://localhost:8080/",
          "height": 507
        },
        "outputId": "d91ce93a-4c6e-4e3e-8d89-dd2078c53d50"
      },
      "execution_count": 58,
      "outputs": [
        {
          "output_type": "stream",
          "name": "stdout",
          "text": [
            "A_mean :  0.0003389876999755496\n",
            "R2 adj :  0.024026561715248196\n"
          ]
        },
        {
          "output_type": "display_data",
          "data": {
            "text/plain": [
              "<Figure size 640x480 with 1 Axes>"
            ],
            "image/png": "[encoded data removed]"
          },
          "metadata": {}
        }
      ]
    }
  ]
}