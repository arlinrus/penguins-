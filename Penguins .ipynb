{
  "nbformat": 4,
  "nbformat_minor": 0,
  "metadata": {
    "colab": {
      "provenance": []
    },
    "kernelspec": {
      "name": "python3",
      "display_name": "Python 3"
    },
    "language_info": {
      "name": "python"
    }
  },
  "cells": [
    {
      "cell_type": "code",
      "execution_count": null,
      "metadata": {
        "id": "cF9QWo2knBJ3"
      },
      "outputs": [],
      "source": [
        "import numpy as np\n",
        "import matplotlib.pyplot as plt\n",
        "import scipy.stats as scst\n",
        "import scipy.optimize as scop\n",
        "import pandas as pd\n",
        "import seaborn as sns\n",
        "from sklearn.linear_model import LinearRegression"
      ]
    },
    {
      "cell_type": "code",
      "source": [
        "from google.colab import drive\n",
        "drive.mount('/content/drive')"
      ],
      "metadata": {
        "colab": {
          "base_uri": "https://localhost:8080/"
        },
        "id": "FsBJhf4PnKmn",
        "outputId": "fc2b5366-b6a8-4ed8-be97-c8d56934cbcc"
      },
      "execution_count": null,
      "outputs": [
        {
          "output_type": "stream",
          "name": "stdout",
          "text": [
            "Drive already mounted at /content/drive; to attempt to forcibly remount, call drive.mount(\"/content/drive\", force_remount=True).\n"
          ]
        }
      ]
    },
    {
      "cell_type": "markdown",
      "source": [
        "### Редактируем датасет"
      ],
      "metadata": {
        "id": "l9Dnftp9klK7"
      }
    },
    {
      "cell_type": "code",
      "source": [
        "png = pd.read_csv('/content/drive/MyDrive/Colab Notebooks/pinguins.csv')\n",
        "pgns = png.dropna()\n",
        "\n",
        "#men is 0, woman is 1\n",
        "pgns['sex'] = pgns['sex'].replace({'male': 0 , 'female': 1})\n",
        "\n",
        "pgns.rename(columns = {'bill_length_mm': 'dlina_kluva',\n",
        "                        'bill_depth_mm':'glubina_kluva',\n",
        "                        'flipper_length_mm':'dlina_krila',}, inplace=True)\n",
        "\n",
        "gentoo = pgns[pgns['island']=='Biscoe']\n",
        "gentoo = pgns[pgns['species']=='Gentoo']\n",
        "\n",
        "print(gentoo)"
      ],
      "metadata": {
        "colab": {
          "base_uri": "https://localhost:8080/"
        },
        "id": "Ro477fuynOLg",
        "outputId": "c07c5bf5-b176-48f3-e3a6-a762666f4f3d"
      },
      "execution_count": null,
      "outputs": [
        {
          "output_type": "stream",
          "name": "stdout",
          "text": [
            "    species  island  dlina_kluva  glubina_kluva  dlina_krila  body_mass_g  \\\n",
            "152  Gentoo  Biscoe         46.1           13.2        211.0       4500.0   \n",
            "153  Gentoo  Biscoe         50.0           16.3        230.0       5700.0   \n",
            "154  Gentoo  Biscoe         48.7           14.1        210.0       4450.0   \n",
            "155  Gentoo  Biscoe         50.0           15.2        218.0       5700.0   \n",
            "156  Gentoo  Biscoe         47.6           14.5        215.0       5400.0   \n",
            "..      ...     ...          ...            ...          ...          ...   \n",
            "270  Gentoo  Biscoe         47.2           13.7        214.0       4925.0   \n",
            "272  Gentoo  Biscoe         46.8           14.3        215.0       4850.0   \n",
            "273  Gentoo  Biscoe         50.4           15.7        222.0       5750.0   \n",
            "274  Gentoo  Biscoe         45.2           14.8        212.0       5200.0   \n",
            "275  Gentoo  Biscoe         49.9           16.1        213.0       5400.0   \n",
            "\n",
            "     sex  year  \n",
            "152    1  2007  \n",
            "153    0  2007  \n",
            "154    1  2007  \n",
            "155    0  2007  \n",
            "156    0  2007  \n",
            "..   ...   ...  \n",
            "270    1  2009  \n",
            "272    1  2009  \n",
            "273    0  2009  \n",
            "274    1  2009  \n",
            "275    0  2009  \n",
            "\n",
            "[119 rows x 8 columns]\n"
          ]
        },
        {
          "output_type": "stream",
          "name": "stderr",
          "text": [
            "<ipython-input-6-36b2ee682f4a>:5: SettingWithCopyWarning: \n",
            "A value is trying to be set on a copy of a slice from a DataFrame.\n",
            "Try using .loc[row_indexer,col_indexer] = value instead\n",
            "\n",
            "See the caveats in the documentation: https://pandas.pydata.org/pandas-docs/stable/user_guide/indexing.html#returning-a-view-versus-a-copy\n",
            "  pgns['sex'] = pgns['sex'].replace({'male': 0 , 'female': 1})\n",
            "<ipython-input-6-36b2ee682f4a>:7: SettingWithCopyWarning: \n",
            "A value is trying to be set on a copy of a slice from a DataFrame\n",
            "\n",
            "See the caveats in the documentation: https://pandas.pydata.org/pandas-docs/stable/user_guide/indexing.html#returning-a-view-versus-a-copy\n",
            "  pgns.rename(columns = {'bill_length_mm': 'dlina_kluva',\n"
          ]
        }
      ]
    },
    {
      "cell_type": "code",
      "source": [
        "gentoo"
      ],
      "metadata": {
        "colab": {
          "base_uri": "https://localhost:8080/",
          "height": 424
        },
        "id": "-4STd7f31B6Z",
        "outputId": "1d406708-e55b-4c78-fe27-7dc9e4180f49"
      },
      "execution_count": null,
      "outputs": [
        {
          "output_type": "execute_result",
          "data": {
            "text/plain": [
              "    species  island  dlina_kluva  glubina_kluva  dlina_krila  body_mass_g  \\\n",
              "152  Gentoo  Biscoe         46.1           13.2        211.0       4500.0   \n",
              "153  Gentoo  Biscoe         50.0           16.3        230.0       5700.0   \n",
              "154  Gentoo  Biscoe         48.7           14.1        210.0       4450.0   \n",
              "155  Gentoo  Biscoe         50.0           15.2        218.0       5700.0   \n",
              "156  Gentoo  Biscoe         47.6           14.5        215.0       5400.0   \n",
              "..      ...     ...          ...            ...          ...          ...   \n",
              "270  Gentoo  Biscoe         47.2           13.7        214.0       4925.0   \n",
              "272  Gentoo  Biscoe         46.8           14.3        215.0       4850.0   \n",
              "273  Gentoo  Biscoe         50.4           15.7        222.0       5750.0   \n",
              "274  Gentoo  Biscoe         45.2           14.8        212.0       5200.0   \n",
              "275  Gentoo  Biscoe         49.9           16.1        213.0       5400.0   \n",
              "\n",
              "     sex  year  \n",
              "152    1  2007  \n",
              "153    0  2007  \n",
              "154    1  2007  \n",
              "155    0  2007  \n",
              "156    0  2007  \n",
              "..   ...   ...  \n",
              "270    1  2009  \n",
              "272    1  2009  \n",
              "273    0  2009  \n",
              "274    1  2009  \n",
              "275    0  2009  \n",
              "\n",
              "[119 rows x 8 columns]"
            ],
            "text/html": [
              "\n",
              "  <div id=\"df-1efdcc61-7621-40fb-8810-dbded4596774\" class=\"colab-df-container\">\n",
              "    <div>\n",
              "<style scoped>\n",
              "    .dataframe tbody tr th:only-of-type {\n",
              "        vertical-align: middle;\n",
              "    }\n",
              "\n",
              "    .dataframe tbody tr th {\n",
              "        vertical-align: top;\n",
              "    }\n",
              "\n",
              "    .dataframe thead th {\n",
              "        text-align: right;\n",
              "    }\n",
              "</style>\n",
              "<table border=\"1\" class=\"dataframe\">\n",
              "  <thead>\n",
              "    <tr style=\"text-align: right;\">\n",
              "      <th></th>\n",
              "      <th>species</th>\n",
              "      <th>island</th>\n",
              "      <th>dlina_kluva</th>\n",
              "      <th>glubina_kluva</th>\n",
              "      <th>dlina_krila</th>\n",
              "      <th>body_mass_g</th>\n",
              "      <th>sex</th>\n",
              "      <th>year</th>\n",
              "    </tr>\n",
              "  </thead>\n",
              "  <tbody>\n",
              "    <tr>\n",
              "      <th>152</th>\n",
              "      <td>Gentoo</td>\n",
              "      <td>Biscoe</td>\n",
              "      <td>46.1</td>\n",
              "      <td>13.2</td>\n",
              "      <td>211.0</td>\n",
              "      <td>4500.0</td>\n",
              "      <td>1</td>\n",
              "      <td>2007</td>\n",
              "    </tr>\n",
              "    <tr>\n",
              "      <th>153</th>\n",
              "      <td>Gentoo</td>\n",
              "      <td>Biscoe</td>\n",
              "      <td>50.0</td>\n",
              "      <td>16.3</td>\n",
              "      <td>230.0</td>\n",
              "      <td>5700.0</td>\n",
              "      <td>0</td>\n",
              "      <td>2007</td>\n",
              "    </tr>\n",
              "    <tr>\n",
              "      <th>154</th>\n",
              "      <td>Gentoo</td>\n",
              "      <td>Biscoe</td>\n",
              "      <td>48.7</td>\n",
              "      <td>14.1</td>\n",
              "      <td>210.0</td>\n",
              "      <td>4450.0</td>\n",
              "      <td>1</td>\n",
              "      <td>2007</td>\n",
              "    </tr>\n",
              "    <tr>\n",
              "      <th>155</th>\n",
              "      <td>Gentoo</td>\n",
              "      <td>Biscoe</td>\n",
              "      <td>50.0</td>\n",
              "      <td>15.2</td>\n",
              "      <td>218.0</td>\n",
              "      <td>5700.0</td>\n",
              "      <td>0</td>\n",
              "      <td>2007</td>\n",
              "    </tr>\n",
              "    <tr>\n",
              "      <th>156</th>\n",
              "      <td>Gentoo</td>\n",
              "      <td>Biscoe</td>\n",
              "      <td>47.6</td>\n",
              "      <td>14.5</td>\n",
              "      <td>215.0</td>\n",
              "      <td>5400.0</td>\n",
              "      <td>0</td>\n",
              "      <td>2007</td>\n",
              "    </tr>\n",
              "    <tr>\n",
              "      <th>...</th>\n",
              "      <td>...</td>\n",
              "      <td>...</td>\n",
              "      <td>...</td>\n",
              "      <td>...</td>\n",
              "      <td>...</td>\n",
              "      <td>...</td>\n",
              "      <td>...</td>\n",
              "      <td>...</td>\n",
              "    </tr>\n",
              "    <tr>\n",
              "      <th>270</th>\n",
              "      <td>Gentoo</td>\n",
              "      <td>Biscoe</td>\n",
              "      <td>47.2</td>\n",
              "      <td>13.7</td>\n",
              "      <td>214.0</td>\n",
              "      <td>4925.0</td>\n",
              "      <td>1</td>\n",
              "      <td>2009</td>\n",
              "    </tr>\n",
              "    <tr>\n",
              "      <th>272</th>\n",
              "      <td>Gentoo</td>\n",
              "      <td>Biscoe</td>\n",
              "      <td>46.8</td>\n",
              "      <td>14.3</td>\n",
              "      <td>215.0</td>\n",
              "      <td>4850.0</td>\n",
              "      <td>1</td>\n",
              "      <td>2009</td>\n",
              "    </tr>\n",
              "    <tr>\n",
              "      <th>273</th>\n",
              "      <td>Gentoo</td>\n",
              "      <td>Biscoe</td>\n",
              "      <td>50.4</td>\n",
              "      <td>15.7</td>\n",
              "      <td>222.0</td>\n",
              "      <td>5750.0</td>\n",
              "      <td>0</td>\n",
              "      <td>2009</td>\n",
              "    </tr>\n",
              "    <tr>\n",
              "      <th>274</th>\n",
              "      <td>Gentoo</td>\n",
              "      <td>Biscoe</td>\n",
              "      <td>45.2</td>\n",
              "      <td>14.8</td>\n",
              "      <td>212.0</td>\n",
              "      <td>5200.0</td>\n",
              "      <td>1</td>\n",
              "      <td>2009</td>\n",
              "    </tr>\n",
              "    <tr>\n",
              "      <th>275</th>\n",
              "      <td>Gentoo</td>\n",
              "      <td>Biscoe</td>\n",
              "      <td>49.9</td>\n",
              "      <td>16.1</td>\n",
              "      <td>213.0</td>\n",
              "      <td>5400.0</td>\n",
              "      <td>0</td>\n",
              "      <td>2009</td>\n",
              "    </tr>\n",
              "  </tbody>\n",
              "</table>\n",
              "<p>119 rows × 8 columns</p>\n",
              "</div>\n",
              "    <div class=\"colab-df-buttons\">\n",
              "\n",
              "  <div class=\"colab-df-container\">\n",
              "    <button class=\"colab-df-convert\" onclick=\"convertToInteractive('df-1efdcc61-7621-40fb-8810-dbded4596774')\"\n",
              "            title=\"Convert this dataframe to an interactive table.\"\n",
              "            style=\"display:none;\">\n",
              "\n",
              "  <svg xmlns=\"http://www.w3.org/2000/svg\" height=\"24px\" viewBox=\"0 -960 960 960\">\n",
              "    <path d=\"M120-120v-720h720v720H120Zm60-500h600v-160H180v160Zm220 220h160v-160H400v160Zm0 220h160v-160H400v160ZM180-400h160v-160H180v160Zm440 0h160v-160H620v160ZM180-180h160v-160H180v160Zm440 0h160v-160H620v160Z\"/>\n",
              "  </svg>\n",
              "    </button>\n",
              "\n",
              "  <style>\n",
              "    .colab-df-container {\n",
              "      display:flex;\n",
              "      gap: 12px;\n",
              "    }\n",
              "\n",
              "    .colab-df-convert {\n",
              "      background-color: #E8F0FE;\n",
              "      border: none;\n",
              "      border-radius: 50%;\n",
              "      cursor: pointer;\n",
              "      display: none;\n",
              "      fill: #1967D2;\n",
              "      height: 32px;\n",
              "      padding: 0 0 0 0;\n",
              "      width: 32px;\n",
              "    }\n",
              "\n",
              "    .colab-df-convert:hover {\n",
              "      background-color: #E2EBFA;\n",
              "      box-shadow: 0px 1px 2px rgba(60, 64, 67, 0.3), 0px 1px 3px 1px rgba(60, 64, 67, 0.15);\n",
              "      fill: #174EA6;\n",
              "    }\n",
              "\n",
              "    .colab-df-buttons div {\n",
              "      margin-bottom: 4px;\n",
              "    }\n",
              "\n",
              "    [theme=dark] .colab-df-convert {\n",
              "      background-color: #3B4455;\n",
              "      fill: #D2E3FC;\n",
              "    }\n",
              "\n",
              "    [theme=dark] .colab-df-convert:hover {\n",
              "      background-color: #434B5C;\n",
              "      box-shadow: 0px 1px 3px 1px rgba(0, 0, 0, 0.15);\n",
              "      filter: drop-shadow(0px 1px 2px rgba(0, 0, 0, 0.3));\n",
              "      fill: #FFFFFF;\n",
              "    }\n",
              "  </style>\n",
              "\n",
              "    <script>\n",
              "      const buttonEl =\n",
              "        document.querySelector('#df-1efdcc61-7621-40fb-8810-dbded4596774 button.colab-df-convert');\n",
              "      buttonEl.style.display =\n",
              "        google.colab.kernel.accessAllowed ? 'block' : 'none';\n",
              "\n",
              "      async function convertToInteractive(key) {\n",
              "        const element = document.querySelector('#df-1efdcc61-7621-40fb-8810-dbded4596774');\n",
              "        const dataTable =\n",
              "          await google.colab.kernel.invokeFunction('convertToInteractive',\n",
              "                                                    [key], {});\n",
              "        if (!dataTable) return;\n",
              "\n",
              "        const docLinkHtml = 'Like what you see? Visit the ' +\n",
              "          '<a target=\"_blank\" href=https://colab.research.google.com/notebooks/data_table.ipynb>data table notebook</a>'\n",
              "          + ' to learn more about interactive tables.';\n",
              "        element.innerHTML = '';\n",
              "        dataTable['output_type'] = 'display_data';\n",
              "        await google.colab.output.renderOutput(dataTable, element);\n",
              "        const docLink = document.createElement('div');\n",
              "        docLink.innerHTML = docLinkHtml;\n",
              "        element.appendChild(docLink);\n",
              "      }\n",
              "    </script>\n",
              "  </div>\n",
              "\n",
              "\n",
              "<div id=\"df-04453b79-e57c-4b3f-84bd-21cc3def5298\">\n",
              "  <button class=\"colab-df-quickchart\" onclick=\"quickchart('df-04453b79-e57c-4b3f-84bd-21cc3def5298')\"\n",
              "            title=\"Suggest charts\"\n",
              "            style=\"display:none;\">\n",
              "\n",
              "<svg xmlns=\"http://www.w3.org/2000/svg\" height=\"24px\"viewBox=\"0 0 24 24\"\n",
              "     width=\"24px\">\n",
              "    <g>\n",
              "        <path d=\"M19 3H5c-1.1 0-2 .9-2 2v14c0 1.1.9 2 2 2h14c1.1 0 2-.9 2-2V5c0-1.1-.9-2-2-2zM9 17H7v-7h2v7zm4 0h-2V7h2v10zm4 0h-2v-4h2v4z\"/>\n",
              "    </g>\n",
              "</svg>\n",
              "  </button>\n",
              "\n",
              "<style>\n",
              "  .colab-df-quickchart {\n",
              "      --bg-color: #E8F0FE;\n",
              "      --fill-color: #1967D2;\n",
              "      --hover-bg-color: #E2EBFA;\n",
              "      --hover-fill-color: #174EA6;\n",
              "      --disabled-fill-color: #AAA;\n",
              "      --disabled-bg-color: #DDD;\n",
              "  }\n",
              "\n",
              "  [theme=dark] .colab-df-quickchart {\n",
              "      --bg-color: #3B4455;\n",
              "      --fill-color: #D2E3FC;\n",
              "      --hover-bg-color: #434B5C;\n",
              "      --hover-fill-color: #FFFFFF;\n",
              "      --disabled-bg-color: #3B4455;\n",
              "      --disabled-fill-color: #666;\n",
              "  }\n",
              "\n",
              "  .colab-df-quickchart {\n",
              "    background-color: var(--bg-color);\n",
              "    border: none;\n",
              "    border-radius: 50%;\n",
              "    cursor: pointer;\n",
              "    display: none;\n",
              "    fill: var(--fill-color);\n",
              "    height: 32px;\n",
              "    padding: 0;\n",
              "    width: 32px;\n",
              "  }\n",
              "\n",
              "  .colab-df-quickchart:hover {\n",
              "    background-color: var(--hover-bg-color);\n",
              "    box-shadow: 0 1px 2px rgba(60, 64, 67, 0.3), 0 1px 3px 1px rgba(60, 64, 67, 0.15);\n",
              "    fill: var(--button-hover-fill-color);\n",
              "  }\n",
              "\n",
              "  .colab-df-quickchart-complete:disabled,\n",
              "  .colab-df-quickchart-complete:disabled:hover {\n",
              "    background-color: var(--disabled-bg-color);\n",
              "    fill: var(--disabled-fill-color);\n",
              "    box-shadow: none;\n",
              "  }\n",
              "\n",
              "  .colab-df-spinner {\n",
              "    border: 2px solid var(--fill-color);\n",
              "    border-color: transparent;\n",
              "    border-bottom-color: var(--fill-color);\n",
              "    animation:\n",
              "      spin 1s steps(1) infinite;\n",
              "  }\n",
              "\n",
              "  @keyframes spin {\n",
              "    0% {\n",
              "      border-color: transparent;\n",
              "      border-bottom-color: var(--fill-color);\n",
              "      border-left-color: var(--fill-color);\n",
              "    }\n",
              "    20% {\n",
              "      border-color: transparent;\n",
              "      border-left-color: var(--fill-color);\n",
              "      border-top-color: var(--fill-color);\n",
              "    }\n",
              "    30% {\n",
              "      border-color: transparent;\n",
              "      border-left-color: var(--fill-color);\n",
              "      border-top-color: var(--fill-color);\n",
              "      border-right-color: var(--fill-color);\n",
              "    }\n",
              "    40% {\n",
              "      border-color: transparent;\n",
              "      border-right-color: var(--fill-color);\n",
              "      border-top-color: var(--fill-color);\n",
              "    }\n",
              "    60% {\n",
              "      border-color: transparent;\n",
              "      border-right-color: var(--fill-color);\n",
              "    }\n",
              "    80% {\n",
              "      border-color: transparent;\n",
              "      border-right-color: var(--fill-color);\n",
              "      border-bottom-color: var(--fill-color);\n",
              "    }\n",
              "    90% {\n",
              "      border-color: transparent;\n",
              "      border-bottom-color: var(--fill-color);\n",
              "    }\n",
              "  }\n",
              "</style>\n",
              "\n",
              "  <script>\n",
              "    async function quickchart(key) {\n",
              "      const quickchartButtonEl =\n",
              "        document.querySelector('#' + key + ' button');\n",
              "      quickchartButtonEl.disabled = true;  // To prevent multiple clicks.\n",
              "      quickchartButtonEl.classList.add('colab-df-spinner');\n",
              "      try {\n",
              "        const charts = await google.colab.kernel.invokeFunction(\n",
              "            'suggestCharts', [key], {});\n",
              "      } catch (error) {\n",
              "        console.error('Error during call to suggestCharts:', error);\n",
              "      }\n",
              "      quickchartButtonEl.classList.remove('colab-df-spinner');\n",
              "      quickchartButtonEl.classList.add('colab-df-quickchart-complete');\n",
              "    }\n",
              "    (() => {\n",
              "      let quickchartButtonEl =\n",
              "        document.querySelector('#df-04453b79-e57c-4b3f-84bd-21cc3def5298 button');\n",
              "      quickchartButtonEl.style.display =\n",
              "        google.colab.kernel.accessAllowed ? 'block' : 'none';\n",
              "    })();\n",
              "  </script>\n",
              "</div>\n",
              "    </div>\n",
              "  </div>\n"
            ],
            "application/vnd.google.colaboratory.intrinsic+json": {
              "type": "dataframe",
              "variable_name": "gentoo",
              "summary": "{\n  \"name\": \"gentoo\",\n  \"rows\": 119,\n  \"fields\": [\n    {\n      \"column\": \"species\",\n      \"properties\": {\n        \"dtype\": \"category\",\n        \"num_unique_values\": 1,\n        \"samples\": [\n          \"Gentoo\"\n        ],\n        \"semantic_type\": \"\",\n        \"description\": \"\"\n      }\n    },\n    {\n      \"column\": \"island\",\n      \"properties\": {\n        \"dtype\": \"category\",\n        \"num_unique_values\": 1,\n        \"samples\": [\n          \"Biscoe\"\n        ],\n        \"semantic_type\": \"\",\n        \"description\": \"\"\n      }\n    },\n    {\n      \"column\": \"dlina_kluva\",\n      \"properties\": {\n        \"dtype\": \"number\",\n        \"std\": 3.1061156944496857,\n        \"min\": 40.9,\n        \"max\": 59.6,\n        \"num_unique_values\": 75,\n        \"samples\": [\n          46.5\n        ],\n        \"semantic_type\": \"\",\n        \"description\": \"\"\n      }\n    },\n    {\n      \"column\": \"glubina_kluva\",\n      \"properties\": {\n        \"dtype\": \"number\",\n        \"std\": 0.9859979692891081,\n        \"min\": 13.1,\n        \"max\": 17.3,\n        \"num_unique_values\": 39,\n        \"samples\": [\n          16.4\n        ],\n        \"semantic_type\": \"\",\n        \"description\": \"\"\n      }\n    },\n    {\n      \"column\": \"dlina_krila\",\n      \"properties\": {\n        \"dtype\": \"number\",\n        \"std\": 6.5854306093881805,\n        \"min\": 203.0,\n        \"max\": 231.0,\n        \"num_unique_values\": 25,\n        \"samples\": [\n          216.0\n        ],\n        \"semantic_type\": \"\",\n        \"description\": \"\"\n      }\n    },\n    {\n      \"column\": \"body_mass_g\",\n      \"properties\": {\n        \"dtype\": \"number\",\n        \"std\": 501.47615382844185,\n        \"min\": 3950.0,\n        \"max\": 6300.0,\n        \"num_unique_values\": 46,\n        \"samples\": [\n          4875.0\n        ],\n        \"semantic_type\": \"\",\n        \"description\": \"\"\n      }\n    },\n    {\n      \"column\": \"sex\",\n      \"properties\": {\n        \"dtype\": \"number\",\n        \"std\": 0,\n        \"min\": 0,\n        \"max\": 1,\n        \"num_unique_values\": 2,\n        \"samples\": [\n          0\n        ],\n        \"semantic_type\": \"\",\n        \"description\": \"\"\n      }\n    },\n    {\n      \"column\": \"year\",\n      \"properties\": {\n        \"dtype\": \"number\",\n        \"std\": 0,\n        \"min\": 2007,\n        \"max\": 2009,\n        \"num_unique_values\": 3,\n        \"samples\": [\n          2007\n        ],\n        \"semantic_type\": \"\",\n        \"description\": \"\"\n      }\n    }\n  ]\n}"
            }
          },
          "metadata": {},
          "execution_count": 7
        }
      ]
    },
    {
      "cell_type": "code",
      "source": [
        "gentoo.drop('species', axis= 1 , inplace= True )\n",
        "gentoo.drop('island', axis=1, inplace=True )"
      ],
      "metadata": {
        "colab": {
          "base_uri": "https://localhost:8080/"
        },
        "id": "hHw1CwN31eL_",
        "outputId": "0d181e1d-b6be-481e-961c-31e54af191f5"
      },
      "execution_count": null,
      "outputs": [
        {
          "output_type": "stream",
          "name": "stderr",
          "text": [
            "<ipython-input-8-5f5edea745e1>:1: SettingWithCopyWarning: \n",
            "A value is trying to be set on a copy of a slice from a DataFrame\n",
            "\n",
            "See the caveats in the documentation: https://pandas.pydata.org/pandas-docs/stable/user_guide/indexing.html#returning-a-view-versus-a-copy\n",
            "  gentoo.drop('species', axis= 1 , inplace= True )\n",
            "<ipython-input-8-5f5edea745e1>:2: SettingWithCopyWarning: \n",
            "A value is trying to be set on a copy of a slice from a DataFrame\n",
            "\n",
            "See the caveats in the documentation: https://pandas.pydata.org/pandas-docs/stable/user_guide/indexing.html#returning-a-view-versus-a-copy\n",
            "  gentoo.drop('island', axis=1, inplace=True )\n"
          ]
        }
      ]
    },
    {
      "cell_type": "code",
      "source": [
        "gento = gentoo.to_csv('gentoo.csv', index=False)"
      ],
      "metadata": {
        "id": "zwqUOBzW1N2g"
      },
      "execution_count": null,
      "outputs": []
    },
    {
      "cell_type": "code",
      "source": [
        "gentoo = pd.read_csv('/content/gentoo.csv')\n",
        "gentoo"
      ],
      "metadata": {
        "colab": {
          "base_uri": "https://localhost:8080/",
          "height": 424
        },
        "id": "Q1IKTj7RveCl",
        "outputId": "dc8a6250-4453-42af-8271-926079ecec42"
      },
      "execution_count": null,
      "outputs": [
        {
          "output_type": "execute_result",
          "data": {
            "text/plain": [
              "     dlina_kluva  glubina_kluva  dlina_krila  body_mass_g  sex  year\n",
              "0           46.1           13.2        211.0       4500.0    1  2007\n",
              "1           50.0           16.3        230.0       5700.0    0  2007\n",
              "2           48.7           14.1        210.0       4450.0    1  2007\n",
              "3           50.0           15.2        218.0       5700.0    0  2007\n",
              "4           47.6           14.5        215.0       5400.0    0  2007\n",
              "..           ...            ...          ...          ...  ...   ...\n",
              "114         47.2           13.7        214.0       4925.0    1  2009\n",
              "115         46.8           14.3        215.0       4850.0    1  2009\n",
              "116         50.4           15.7        222.0       5750.0    0  2009\n",
              "117         45.2           14.8        212.0       5200.0    1  2009\n",
              "118         49.9           16.1        213.0       5400.0    0  2009\n",
              "\n",
              "[119 rows x 6 columns]"
            ],
            "text/html": [
              "\n",
              "  <div id=\"df-fffbb680-a65e-426b-95c0-9ae2f1b91682\" class=\"colab-df-container\">\n",
              "    <div>\n",
              "<style scoped>\n",
              "    .dataframe tbody tr th:only-of-type {\n",
              "        vertical-align: middle;\n",
              "    }\n",
              "\n",
              "    .dataframe tbody tr th {\n",
              "        vertical-align: top;\n",
              "    }\n",
              "\n",
              "    .dataframe thead th {\n",
              "        text-align: right;\n",
              "    }\n",
              "</style>\n",
              "<table border=\"1\" class=\"dataframe\">\n",
              "  <thead>\n",
              "    <tr style=\"text-align: right;\">\n",
              "      <th></th>\n",
              "      <th>dlina_kluva</th>\n",
              "      <th>glubina_kluva</th>\n",
              "      <th>dlina_krila</th>\n",
              "      <th>body_mass_g</th>\n",
              "      <th>sex</th>\n",
              "      <th>year</th>\n",
              "    </tr>\n",
              "  </thead>\n",
              "  <tbody>\n",
              "    <tr>\n",
              "      <th>0</th>\n",
              "      <td>46.1</td>\n",
              "      <td>13.2</td>\n",
              "      <td>211.0</td>\n",
              "      <td>4500.0</td>\n",
              "      <td>1</td>\n",
              "      <td>2007</td>\n",
              "    </tr>\n",
              "    <tr>\n",
              "      <th>1</th>\n",
              "      <td>50.0</td>\n",
              "      <td>16.3</td>\n",
              "      <td>230.0</td>\n",
              "      <td>5700.0</td>\n",
              "      <td>0</td>\n",
              "      <td>2007</td>\n",
              "    </tr>\n",
              "    <tr>\n",
              "      <th>2</th>\n",
              "      <td>48.7</td>\n",
              "      <td>14.1</td>\n",
              "      <td>210.0</td>\n",
              "      <td>4450.0</td>\n",
              "      <td>1</td>\n",
              "      <td>2007</td>\n",
              "    </tr>\n",
              "    <tr>\n",
              "      <th>3</th>\n",
              "      <td>50.0</td>\n",
              "      <td>15.2</td>\n",
              "      <td>218.0</td>\n",
              "      <td>5700.0</td>\n",
              "      <td>0</td>\n",
              "      <td>2007</td>\n",
              "    </tr>\n",
              "    <tr>\n",
              "      <th>4</th>\n",
              "      <td>47.6</td>\n",
              "      <td>14.5</td>\n",
              "      <td>215.0</td>\n",
              "      <td>5400.0</td>\n",
              "      <td>0</td>\n",
              "      <td>2007</td>\n",
              "    </tr>\n",
              "    <tr>\n",
              "      <th>...</th>\n",
              "      <td>...</td>\n",
              "      <td>...</td>\n",
              "      <td>...</td>\n",
              "      <td>...</td>\n",
              "      <td>...</td>\n",
              "      <td>...</td>\n",
              "    </tr>\n",
              "    <tr>\n",
              "      <th>114</th>\n",
              "      <td>47.2</td>\n",
              "      <td>13.7</td>\n",
              "      <td>214.0</td>\n",
              "      <td>4925.0</td>\n",
              "      <td>1</td>\n",
              "      <td>2009</td>\n",
              "    </tr>\n",
              "    <tr>\n",
              "      <th>115</th>\n",
              "      <td>46.8</td>\n",
              "      <td>14.3</td>\n",
              "      <td>215.0</td>\n",
              "      <td>4850.0</td>\n",
              "      <td>1</td>\n",
              "      <td>2009</td>\n",
              "    </tr>\n",
              "    <tr>\n",
              "      <th>116</th>\n",
              "      <td>50.4</td>\n",
              "      <td>15.7</td>\n",
              "      <td>222.0</td>\n",
              "      <td>5750.0</td>\n",
              "      <td>0</td>\n",
              "      <td>2009</td>\n",
              "    </tr>\n",
              "    <tr>\n",
              "      <th>117</th>\n",
              "      <td>45.2</td>\n",
              "      <td>14.8</td>\n",
              "      <td>212.0</td>\n",
              "      <td>5200.0</td>\n",
              "      <td>1</td>\n",
              "      <td>2009</td>\n",
              "    </tr>\n",
              "    <tr>\n",
              "      <th>118</th>\n",
              "      <td>49.9</td>\n",
              "      <td>16.1</td>\n",
              "      <td>213.0</td>\n",
              "      <td>5400.0</td>\n",
              "      <td>0</td>\n",
              "      <td>2009</td>\n",
              "    </tr>\n",
              "  </tbody>\n",
              "</table>\n",
              "<p>119 rows × 6 columns</p>\n",
              "</div>\n",
              "    <div class=\"colab-df-buttons\">\n",
              "\n",
              "  <div class=\"colab-df-container\">\n",
              "    <button class=\"colab-df-convert\" onclick=\"convertToInteractive('df-fffbb680-a65e-426b-95c0-9ae2f1b91682')\"\n",
              "            title=\"Convert this dataframe to an interactive table.\"\n",
              "            style=\"display:none;\">\n",
              "\n",
              "  <svg xmlns=\"http://www.w3.org/2000/svg\" height=\"24px\" viewBox=\"0 -960 960 960\">\n",
              "    <path d=\"M120-120v-720h720v720H120Zm60-500h600v-160H180v160Zm220 220h160v-160H400v160Zm0 220h160v-160H400v160ZM180-400h160v-160H180v160Zm440 0h160v-160H620v160ZM180-180h160v-160H180v160Zm440 0h160v-160H620v160Z\"/>\n",
              "  </svg>\n",
              "    </button>\n",
              "\n",
              "  <style>\n",
              "    .colab-df-container {\n",
              "      display:flex;\n",
              "      gap: 12px;\n",
              "    }\n",
              "\n",
              "    .colab-df-convert {\n",
              "      background-color: #E8F0FE;\n",
              "      border: none;\n",
              "      border-radius: 50%;\n",
              "      cursor: pointer;\n",
              "      display: none;\n",
              "      fill: #1967D2;\n",
              "      height: 32px;\n",
              "      padding: 0 0 0 0;\n",
              "      width: 32px;\n",
              "    }\n",
              "\n",
              "    .colab-df-convert:hover {\n",
              "      background-color: #E2EBFA;\n",
              "      box-shadow: 0px 1px 2px rgba(60, 64, 67, 0.3), 0px 1px 3px 1px rgba(60, 64, 67, 0.15);\n",
              "      fill: #174EA6;\n",
              "    }\n",
              "\n",
              "    .colab-df-buttons div {\n",
              "      margin-bottom: 4px;\n",
              "    }\n",
              "\n",
              "    [theme=dark] .colab-df-convert {\n",
              "      background-color: #3B4455;\n",
              "      fill: #D2E3FC;\n",
              "    }\n",
              "\n",
              "    [theme=dark] .colab-df-convert:hover {\n",
              "      background-color: #434B5C;\n",
              "      box-shadow: 0px 1px 3px 1px rgba(0, 0, 0, 0.15);\n",
              "      filter: drop-shadow(0px 1px 2px rgba(0, 0, 0, 0.3));\n",
              "      fill: #FFFFFF;\n",
              "    }\n",
              "  </style>\n",
              "\n",
              "    <script>\n",
              "      const buttonEl =\n",
              "        document.querySelector('#df-fffbb680-a65e-426b-95c0-9ae2f1b91682 button.colab-df-convert');\n",
              "      buttonEl.style.display =\n",
              "        google.colab.kernel.accessAllowed ? 'block' : 'none';\n",
              "\n",
              "      async function convertToInteractive(key) {\n",
              "        const element = document.querySelector('#df-fffbb680-a65e-426b-95c0-9ae2f1b91682');\n",
              "        const dataTable =\n",
              "          await google.colab.kernel.invokeFunction('convertToInteractive',\n",
              "                                                    [key], {});\n",
              "        if (!dataTable) return;\n",
              "\n",
              "        const docLinkHtml = 'Like what you see? Visit the ' +\n",
              "          '<a target=\"_blank\" href=https://colab.research.google.com/notebooks/data_table.ipynb>data table notebook</a>'\n",
              "          + ' to learn more about interactive tables.';\n",
              "        element.innerHTML = '';\n",
              "        dataTable['output_type'] = 'display_data';\n",
              "        await google.colab.output.renderOutput(dataTable, element);\n",
              "        const docLink = document.createElement('div');\n",
              "        docLink.innerHTML = docLinkHtml;\n",
              "        element.appendChild(docLink);\n",
              "      }\n",
              "    </script>\n",
              "  </div>\n",
              "\n",
              "\n",
              "<div id=\"df-206ee718-cd47-41a9-bc53-3234f67af895\">\n",
              "  <button class=\"colab-df-quickchart\" onclick=\"quickchart('df-206ee718-cd47-41a9-bc53-3234f67af895')\"\n",
              "            title=\"Suggest charts\"\n",
              "            style=\"display:none;\">\n",
              "\n",
              "<svg xmlns=\"http://www.w3.org/2000/svg\" height=\"24px\"viewBox=\"0 0 24 24\"\n",
              "     width=\"24px\">\n",
              "    <g>\n",
              "        <path d=\"M19 3H5c-1.1 0-2 .9-2 2v14c0 1.1.9 2 2 2h14c1.1 0 2-.9 2-2V5c0-1.1-.9-2-2-2zM9 17H7v-7h2v7zm4 0h-2V7h2v10zm4 0h-2v-4h2v4z\"/>\n",
              "    </g>\n",
              "</svg>\n",
              "  </button>\n",
              "\n",
              "<style>\n",
              "  .colab-df-quickchart {\n",
              "      --bg-color: #E8F0FE;\n",
              "      --fill-color: #1967D2;\n",
              "      --hover-bg-color: #E2EBFA;\n",
              "      --hover-fill-color: #174EA6;\n",
              "      --disabled-fill-color: #AAA;\n",
              "      --disabled-bg-color: #DDD;\n",
              "  }\n",
              "\n",
              "  [theme=dark] .colab-df-quickchart {\n",
              "      --bg-color: #3B4455;\n",
              "      --fill-color: #D2E3FC;\n",
              "      --hover-bg-color: #434B5C;\n",
              "      --hover-fill-color: #FFFFFF;\n",
              "      --disabled-bg-color: #3B4455;\n",
              "      --disabled-fill-color: #666;\n",
              "  }\n",
              "\n",
              "  .colab-df-quickchart {\n",
              "    background-color: var(--bg-color);\n",
              "    border: none;\n",
              "    border-radius: 50%;\n",
              "    cursor: pointer;\n",
              "    display: none;\n",
              "    fill: var(--fill-color);\n",
              "    height: 32px;\n",
              "    padding: 0;\n",
              "    width: 32px;\n",
              "  }\n",
              "\n",
              "  .colab-df-quickchart:hover {\n",
              "    background-color: var(--hover-bg-color);\n",
              "    box-shadow: 0 1px 2px rgba(60, 64, 67, 0.3), 0 1px 3px 1px rgba(60, 64, 67, 0.15);\n",
              "    fill: var(--button-hover-fill-color);\n",
              "  }\n",
              "\n",
              "  .colab-df-quickchart-complete:disabled,\n",
              "  .colab-df-quickchart-complete:disabled:hover {\n",
              "    background-color: var(--disabled-bg-color);\n",
              "    fill: var(--disabled-fill-color);\n",
              "    box-shadow: none;\n",
              "  }\n",
              "\n",
              "  .colab-df-spinner {\n",
              "    border: 2px solid var(--fill-color);\n",
              "    border-color: transparent;\n",
              "    border-bottom-color: var(--fill-color);\n",
              "    animation:\n",
              "      spin 1s steps(1) infinite;\n",
              "  }\n",
              "\n",
              "  @keyframes spin {\n",
              "    0% {\n",
              "      border-color: transparent;\n",
              "      border-bottom-color: var(--fill-color);\n",
              "      border-left-color: var(--fill-color);\n",
              "    }\n",
              "    20% {\n",
              "      border-color: transparent;\n",
              "      border-left-color: var(--fill-color);\n",
              "      border-top-color: var(--fill-color);\n",
              "    }\n",
              "    30% {\n",
              "      border-color: transparent;\n",
              "      border-left-color: var(--fill-color);\n",
              "      border-top-color: var(--fill-color);\n",
              "      border-right-color: var(--fill-color);\n",
              "    }\n",
              "    40% {\n",
              "      border-color: transparent;\n",
              "      border-right-color: var(--fill-color);\n",
              "      border-top-color: var(--fill-color);\n",
              "    }\n",
              "    60% {\n",
              "      border-color: transparent;\n",
              "      border-right-color: var(--fill-color);\n",
              "    }\n",
              "    80% {\n",
              "      border-color: transparent;\n",
              "      border-right-color: var(--fill-color);\n",
              "      border-bottom-color: var(--fill-color);\n",
              "    }\n",
              "    90% {\n",
              "      border-color: transparent;\n",
              "      border-bottom-color: var(--fill-color);\n",
              "    }\n",
              "  }\n",
              "</style>\n",
              "\n",
              "  <script>\n",
              "    async function quickchart(key) {\n",
              "      const quickchartButtonEl =\n",
              "        document.querySelector('#' + key + ' button');\n",
              "      quickchartButtonEl.disabled = true;  // To prevent multiple clicks.\n",
              "      quickchartButtonEl.classList.add('colab-df-spinner');\n",
              "      try {\n",
              "        const charts = await google.colab.kernel.invokeFunction(\n",
              "            'suggestCharts', [key], {});\n",
              "      } catch (error) {\n",
              "        console.error('Error during call to suggestCharts:', error);\n",
              "      }\n",
              "      quickchartButtonEl.classList.remove('colab-df-spinner');\n",
              "      quickchartButtonEl.classList.add('colab-df-quickchart-complete');\n",
              "    }\n",
              "    (() => {\n",
              "      let quickchartButtonEl =\n",
              "        document.querySelector('#df-206ee718-cd47-41a9-bc53-3234f67af895 button');\n",
              "      quickchartButtonEl.style.display =\n",
              "        google.colab.kernel.accessAllowed ? 'block' : 'none';\n",
              "    })();\n",
              "  </script>\n",
              "</div>\n",
              "    </div>\n",
              "  </div>\n"
            ],
            "application/vnd.google.colaboratory.intrinsic+json": {
              "type": "dataframe",
              "variable_name": "gentoo",
              "summary": "{\n  \"name\": \"gentoo\",\n  \"rows\": 119,\n  \"fields\": [\n    {\n      \"column\": \"dlina_kluva\",\n      \"properties\": {\n        \"dtype\": \"number\",\n        \"std\": 3.1061156944496857,\n        \"min\": 40.9,\n        \"max\": 59.6,\n        \"num_unique_values\": 75,\n        \"samples\": [\n          46.5,\n          44.5,\n          49.0\n        ],\n        \"semantic_type\": \"\",\n        \"description\": \"\"\n      }\n    },\n    {\n      \"column\": \"glubina_kluva\",\n      \"properties\": {\n        \"dtype\": \"number\",\n        \"std\": 0.9859979692891081,\n        \"min\": 13.1,\n        \"max\": 17.3,\n        \"num_unique_values\": 39,\n        \"samples\": [\n          16.4,\n          14.7,\n          14.5\n        ],\n        \"semantic_type\": \"\",\n        \"description\": \"\"\n      }\n    },\n    {\n      \"column\": \"dlina_krila\",\n      \"properties\": {\n        \"dtype\": \"number\",\n        \"std\": 6.5854306093881805,\n        \"min\": 203.0,\n        \"max\": 231.0,\n        \"num_unique_values\": 25,\n        \"samples\": [\n          216.0,\n          225.0,\n          211.0\n        ],\n        \"semantic_type\": \"\",\n        \"description\": \"\"\n      }\n    },\n    {\n      \"column\": \"body_mass_g\",\n      \"properties\": {\n        \"dtype\": \"number\",\n        \"std\": 501.47615382844185,\n        \"min\": 3950.0,\n        \"max\": 6300.0,\n        \"num_unique_values\": 46,\n        \"samples\": [\n          4875.0,\n          4350.0,\n          3950.0\n        ],\n        \"semantic_type\": \"\",\n        \"description\": \"\"\n      }\n    },\n    {\n      \"column\": \"sex\",\n      \"properties\": {\n        \"dtype\": \"number\",\n        \"std\": 0,\n        \"min\": 0,\n        \"max\": 1,\n        \"num_unique_values\": 2,\n        \"samples\": [\n          0,\n          1\n        ],\n        \"semantic_type\": \"\",\n        \"description\": \"\"\n      }\n    },\n    {\n      \"column\": \"year\",\n      \"properties\": {\n        \"dtype\": \"number\",\n        \"std\": 0,\n        \"min\": 2007,\n        \"max\": 2009,\n        \"num_unique_values\": 3,\n        \"samples\": [\n          2007,\n          2008\n        ],\n        \"semantic_type\": \"\",\n        \"description\": \"\"\n      }\n    }\n  ]\n}"
            }
          },
          "metadata": {},
          "execution_count": 13
        }
      ]
    },
    {
      "cell_type": "markdown",
      "source": [
        "# Этот документ можно свернуть, потому что тут работа с данными о мальчиках и девочках отдельно"
      ],
      "metadata": {
        "id": "Mfgh_yA1qg3I"
      }
    },
    {
      "cell_type": "code",
      "source": [
        "df = pd.read_csv('/content/penguins.csv')\n",
        "male_peng = df[df['sex'] == 0]\n",
        "female_peng = df[df['sex'] == 1]\n",
        "\n",
        "print(male_peng)\n",
        "print(female_peng)\n",
        "\n",
        "male_peng.to_csv('male_peng.csv', index = False)\n",
        "female_peng.to_csv('female_peng.csv', index = False)\n",
        "\n"
      ],
      "metadata": {
        "colab": {
          "base_uri": "https://localhost:8080/",
          "height": 374
        },
        "id": "7XL2lElDSP8m",
        "outputId": "ab41428b-39fb-42d9-af12-6d236c03d4e4"
      },
      "execution_count": null,
      "outputs": [
        {
          "output_type": "error",
          "ename": "FileNotFoundError",
          "evalue": "[Errno 2] No such file or directory: '/content/penguins.csv'",
          "traceback": [
            "\u001b[0;31m---------------------------------------------------------------------------\u001b[0m",
            "\u001b[0;31mFileNotFoundError\u001b[0m                         Traceback (most recent call last)",
            "\u001b[0;32m<ipython-input-11-6f874bafae01>\u001b[0m in \u001b[0;36m<cell line: 1>\u001b[0;34m()\u001b[0m\n\u001b[0;32m----> 1\u001b[0;31m \u001b[0mdf\u001b[0m \u001b[0;34m=\u001b[0m \u001b[0mpd\u001b[0m\u001b[0;34m.\u001b[0m\u001b[0mread_csv\u001b[0m\u001b[0;34m(\u001b[0m\u001b[0;34m'/content/penguins.csv'\u001b[0m\u001b[0;34m)\u001b[0m\u001b[0;34m\u001b[0m\u001b[0;34m\u001b[0m\u001b[0m\n\u001b[0m\u001b[1;32m      2\u001b[0m \u001b[0mmale_peng\u001b[0m \u001b[0;34m=\u001b[0m \u001b[0mdf\u001b[0m\u001b[0;34m[\u001b[0m\u001b[0mdf\u001b[0m\u001b[0;34m[\u001b[0m\u001b[0;34m'sex'\u001b[0m\u001b[0;34m]\u001b[0m \u001b[0;34m==\u001b[0m \u001b[0;36m0\u001b[0m\u001b[0;34m]\u001b[0m\u001b[0;34m\u001b[0m\u001b[0;34m\u001b[0m\u001b[0m\n\u001b[1;32m      3\u001b[0m \u001b[0mfemale_peng\u001b[0m \u001b[0;34m=\u001b[0m \u001b[0mdf\u001b[0m\u001b[0;34m[\u001b[0m\u001b[0mdf\u001b[0m\u001b[0;34m[\u001b[0m\u001b[0;34m'sex'\u001b[0m\u001b[0;34m]\u001b[0m \u001b[0;34m==\u001b[0m \u001b[0;36m1\u001b[0m\u001b[0;34m]\u001b[0m\u001b[0;34m\u001b[0m\u001b[0;34m\u001b[0m\u001b[0m\n\u001b[1;32m      4\u001b[0m \u001b[0;34m\u001b[0m\u001b[0m\n\u001b[1;32m      5\u001b[0m \u001b[0mprint\u001b[0m\u001b[0;34m(\u001b[0m\u001b[0mmale_peng\u001b[0m\u001b[0;34m)\u001b[0m\u001b[0;34m\u001b[0m\u001b[0;34m\u001b[0m\u001b[0m\n",
            "\u001b[0;32m/usr/local/lib/python3.10/dist-packages/pandas/io/parsers/readers.py\u001b[0m in \u001b[0;36mread_csv\u001b[0;34m(filepath_or_buffer, sep, delimiter, header, names, index_col, usecols, dtype, engine, converters, true_values, false_values, skipinitialspace, skiprows, skipfooter, nrows, na_values, keep_default_na, na_filter, verbose, skip_blank_lines, parse_dates, infer_datetime_format, keep_date_col, date_parser, date_format, dayfirst, cache_dates, iterator, chunksize, compression, thousands, decimal, lineterminator, quotechar, quoting, doublequote, escapechar, comment, encoding, encoding_errors, dialect, on_bad_lines, delim_whitespace, low_memory, memory_map, float_precision, storage_options, dtype_backend)\u001b[0m\n\u001b[1;32m    910\u001b[0m     \u001b[0mkwds\u001b[0m\u001b[0;34m.\u001b[0m\u001b[0mupdate\u001b[0m\u001b[0;34m(\u001b[0m\u001b[0mkwds_defaults\u001b[0m\u001b[0;34m)\u001b[0m\u001b[0;34m\u001b[0m\u001b[0;34m\u001b[0m\u001b[0m\n\u001b[1;32m    911\u001b[0m \u001b[0;34m\u001b[0m\u001b[0m\n\u001b[0;32m--> 912\u001b[0;31m     \u001b[0;32mreturn\u001b[0m \u001b[0m_read\u001b[0m\u001b[0;34m(\u001b[0m\u001b[0mfilepath_or_buffer\u001b[0m\u001b[0;34m,\u001b[0m \u001b[0mkwds\u001b[0m\u001b[0;34m)\u001b[0m\u001b[0;34m\u001b[0m\u001b[0;34m\u001b[0m\u001b[0m\n\u001b[0m\u001b[1;32m    913\u001b[0m \u001b[0;34m\u001b[0m\u001b[0m\n\u001b[1;32m    914\u001b[0m \u001b[0;34m\u001b[0m\u001b[0m\n",
            "\u001b[0;32m/usr/local/lib/python3.10/dist-packages/pandas/io/parsers/readers.py\u001b[0m in \u001b[0;36m_read\u001b[0;34m(filepath_or_buffer, kwds)\u001b[0m\n\u001b[1;32m    575\u001b[0m \u001b[0;34m\u001b[0m\u001b[0m\n\u001b[1;32m    576\u001b[0m     \u001b[0;31m# Create the parser.\u001b[0m\u001b[0;34m\u001b[0m\u001b[0;34m\u001b[0m\u001b[0m\n\u001b[0;32m--> 577\u001b[0;31m     \u001b[0mparser\u001b[0m \u001b[0;34m=\u001b[0m \u001b[0mTextFileReader\u001b[0m\u001b[0;34m(\u001b[0m\u001b[0mfilepath_or_buffer\u001b[0m\u001b[0;34m,\u001b[0m \u001b[0;34m**\u001b[0m\u001b[0mkwds\u001b[0m\u001b[0;34m)\u001b[0m\u001b[0;34m\u001b[0m\u001b[0;34m\u001b[0m\u001b[0m\n\u001b[0m\u001b[1;32m    578\u001b[0m \u001b[0;34m\u001b[0m\u001b[0m\n\u001b[1;32m    579\u001b[0m     \u001b[0;32mif\u001b[0m \u001b[0mchunksize\u001b[0m \u001b[0;32mor\u001b[0m \u001b[0miterator\u001b[0m\u001b[0;34m:\u001b[0m\u001b[0;34m\u001b[0m\u001b[0;34m\u001b[0m\u001b[0m\n",
            "\u001b[0;32m/usr/local/lib/python3.10/dist-packages/pandas/io/parsers/readers.py\u001b[0m in \u001b[0;36m__init__\u001b[0;34m(self, f, engine, **kwds)\u001b[0m\n\u001b[1;32m   1405\u001b[0m \u001b[0;34m\u001b[0m\u001b[0m\n\u001b[1;32m   1406\u001b[0m         \u001b[0mself\u001b[0m\u001b[0;34m.\u001b[0m\u001b[0mhandles\u001b[0m\u001b[0;34m:\u001b[0m \u001b[0mIOHandles\u001b[0m \u001b[0;34m|\u001b[0m \u001b[0;32mNone\u001b[0m \u001b[0;34m=\u001b[0m \u001b[0;32mNone\u001b[0m\u001b[0;34m\u001b[0m\u001b[0;34m\u001b[0m\u001b[0m\n\u001b[0;32m-> 1407\u001b[0;31m         \u001b[0mself\u001b[0m\u001b[0;34m.\u001b[0m\u001b[0m_engine\u001b[0m \u001b[0;34m=\u001b[0m \u001b[0mself\u001b[0m\u001b[0;34m.\u001b[0m\u001b[0m_make_engine\u001b[0m\u001b[0;34m(\u001b[0m\u001b[0mf\u001b[0m\u001b[0;34m,\u001b[0m \u001b[0mself\u001b[0m\u001b[0;34m.\u001b[0m\u001b[0mengine\u001b[0m\u001b[0;34m)\u001b[0m\u001b[0;34m\u001b[0m\u001b[0;34m\u001b[0m\u001b[0m\n\u001b[0m\u001b[1;32m   1408\u001b[0m \u001b[0;34m\u001b[0m\u001b[0m\n\u001b[1;32m   1409\u001b[0m     \u001b[0;32mdef\u001b[0m \u001b[0mclose\u001b[0m\u001b[0;34m(\u001b[0m\u001b[0mself\u001b[0m\u001b[0;34m)\u001b[0m \u001b[0;34m->\u001b[0m \u001b[0;32mNone\u001b[0m\u001b[0;34m:\u001b[0m\u001b[0;34m\u001b[0m\u001b[0;34m\u001b[0m\u001b[0m\n",
            "\u001b[0;32m/usr/local/lib/python3.10/dist-packages/pandas/io/parsers/readers.py\u001b[0m in \u001b[0;36m_make_engine\u001b[0;34m(self, f, engine)\u001b[0m\n\u001b[1;32m   1659\u001b[0m                 \u001b[0;32mif\u001b[0m \u001b[0;34m\"b\"\u001b[0m \u001b[0;32mnot\u001b[0m \u001b[0;32min\u001b[0m \u001b[0mmode\u001b[0m\u001b[0;34m:\u001b[0m\u001b[0;34m\u001b[0m\u001b[0;34m\u001b[0m\u001b[0m\n\u001b[1;32m   1660\u001b[0m                     \u001b[0mmode\u001b[0m \u001b[0;34m+=\u001b[0m \u001b[0;34m\"b\"\u001b[0m\u001b[0;34m\u001b[0m\u001b[0;34m\u001b[0m\u001b[0m\n\u001b[0;32m-> 1661\u001b[0;31m             self.handles = get_handle(\n\u001b[0m\u001b[1;32m   1662\u001b[0m                 \u001b[0mf\u001b[0m\u001b[0;34m,\u001b[0m\u001b[0;34m\u001b[0m\u001b[0;34m\u001b[0m\u001b[0m\n\u001b[1;32m   1663\u001b[0m                 \u001b[0mmode\u001b[0m\u001b[0;34m,\u001b[0m\u001b[0;34m\u001b[0m\u001b[0;34m\u001b[0m\u001b[0m\n",
            "\u001b[0;32m/usr/local/lib/python3.10/dist-packages/pandas/io/common.py\u001b[0m in \u001b[0;36mget_handle\u001b[0;34m(path_or_buf, mode, encoding, compression, memory_map, is_text, errors, storage_options)\u001b[0m\n\u001b[1;32m    857\u001b[0m         \u001b[0;32mif\u001b[0m \u001b[0mioargs\u001b[0m\u001b[0;34m.\u001b[0m\u001b[0mencoding\u001b[0m \u001b[0;32mand\u001b[0m \u001b[0;34m\"b\"\u001b[0m \u001b[0;32mnot\u001b[0m \u001b[0;32min\u001b[0m \u001b[0mioargs\u001b[0m\u001b[0;34m.\u001b[0m\u001b[0mmode\u001b[0m\u001b[0;34m:\u001b[0m\u001b[0;34m\u001b[0m\u001b[0;34m\u001b[0m\u001b[0m\n\u001b[1;32m    858\u001b[0m             \u001b[0;31m# Encoding\u001b[0m\u001b[0;34m\u001b[0m\u001b[0;34m\u001b[0m\u001b[0m\n\u001b[0;32m--> 859\u001b[0;31m             handle = open(\n\u001b[0m\u001b[1;32m    860\u001b[0m                 \u001b[0mhandle\u001b[0m\u001b[0;34m,\u001b[0m\u001b[0;34m\u001b[0m\u001b[0;34m\u001b[0m\u001b[0m\n\u001b[1;32m    861\u001b[0m                 \u001b[0mioargs\u001b[0m\u001b[0;34m.\u001b[0m\u001b[0mmode\u001b[0m\u001b[0;34m,\u001b[0m\u001b[0;34m\u001b[0m\u001b[0;34m\u001b[0m\u001b[0m\n",
            "\u001b[0;31mFileNotFoundError\u001b[0m: [Errno 2] No such file or directory: '/content/penguins.csv'"
          ]
        }
      ]
    },
    {
      "cell_type": "markdown",
      "source": [
        "# Работа с файлом"
      ],
      "metadata": {
        "id": "sseYdbrMrLvC"
      }
    },
    {
      "cell_type": "code",
      "source": [
        "read = '/content/gentoo.csv'"
      ],
      "metadata": {
        "id": "BzzlzD4-mqXb"
      },
      "execution_count": null,
      "outputs": []
    },
    {
      "cell_type": "code",
      "source": [
        "# Построим график и заметим, что девочки весят меньше мальчиков\n",
        "X = gentoo['sex']\n",
        "Y = gentoo['body_mass_g']\n",
        "\n",
        "sns.boxplot(x ='sex', y = 'body_mass_g' , data=gentoo , palette = 'pink')\n",
        "\n",
        "plt.xlabel('Sex penguins')\n",
        "plt.ylabel('Body mass g')\n",
        "plt.title('Compare two penguins')\n",
        "plt.show()"
      ],
      "metadata": {
        "colab": {
          "base_uri": "https://localhost:8080/",
          "height": 579
        },
        "id": "HR9aOegPok6P",
        "outputId": "ade37f29-926e-42bb-8408-eedd5a9b5dfd"
      },
      "execution_count": null,
      "outputs": [
        {
          "output_type": "stream",
          "name": "stderr",
          "text": [
            "<ipython-input-15-3d75cf8ff495>:5: FutureWarning: \n",
            "\n",
            "Passing `palette` without assigning `hue` is deprecated and will be removed in v0.14.0. Assign the `x` variable to `hue` and set `legend=False` for the same effect.\n",
            "\n",
            "  sns.boxplot(x ='sex', y = 'body_mass_g' , data=gentoo , palette = 'pink')\n"
          ]
        },
        {
          "output_type": "display_data",
          "data": {
            "text/plain": [
              "<Figure size 640x480 with 1 Axes>"
            ],
            "image/png": "[encoded data removed]"
          },
          "metadata": {}
        }
      ]
    },
    {
      "cell_type": "code",
      "source": [
        "x= gentoo['sex']\n",
        "Y = gentoo['dlina_krila']\n",
        "\n",
        "sns.boxplot(x='sex', y='dlina_krila', data=gentoo, palette=\"Paired\")\n",
        "\n",
        "plt.xlabel('Sex pinguins')\n",
        "plt.ylabel('Dlina krila')\n",
        "plt.title('Compare two penguins')\n",
        "plt.show()"
      ],
      "metadata": {
        "colab": {
          "base_uri": "https://localhost:8080/",
          "height": 579
        },
        "id": "H-EQbdtZtIt-",
        "outputId": "610361c3-979b-44e9-8f6e-65bf9f5f1358"
      },
      "execution_count": null,
      "outputs": [
        {
          "output_type": "stream",
          "name": "stderr",
          "text": [
            "<ipython-input-16-40fe780a0c3b>:4: FutureWarning: \n",
            "\n",
            "Passing `palette` without assigning `hue` is deprecated and will be removed in v0.14.0. Assign the `x` variable to `hue` and set `legend=False` for the same effect.\n",
            "\n",
            "  sns.boxplot(x='sex', y='dlina_krila', data=gentoo, palette=\"Paired\")\n"
          ]
        },
        {
          "output_type": "display_data",
          "data": {
            "text/plain": [
              "<Figure size 640x480 with 1 Axes>"
            ],
            "image/png": "[encoded data removed]"
          },
          "metadata": {}
        }
      ]
    },
    {
      "cell_type": "code",
      "source": [
        "x= gentoo['sex']\n",
        "Y = gentoo['glubina_kluva']\n",
        "\n",
        "sns.boxplot(x='sex', y='glubina_kluva', data=gentoo, palette=\"Set1\")\n",
        "\n",
        "plt.xlabel('Sex pinguins')\n",
        "plt.ylabel('Glubina kluva')\n",
        "plt.title('Compare two penguins')\n",
        "plt.show()"
      ],
      "metadata": {
        "colab": {
          "base_uri": "https://localhost:8080/",
          "height": 579
        },
        "id": "w0R5fO7IuPbO",
        "outputId": "b18da2dc-986a-44b9-b2c6-5afade466cea"
      },
      "execution_count": null,
      "outputs": [
        {
          "output_type": "stream",
          "name": "stderr",
          "text": [
            "<ipython-input-17-f3d625beb765>:4: FutureWarning: \n",
            "\n",
            "Passing `palette` without assigning `hue` is deprecated and will be removed in v0.14.0. Assign the `x` variable to `hue` and set `legend=False` for the same effect.\n",
            "\n",
            "  sns.boxplot(x='sex', y='glubina_kluva', data=gentoo, palette=\"Set1\")\n"
          ]
        },
        {
          "output_type": "display_data",
          "data": {
            "text/plain": [
              "<Figure size 640x480 with 1 Axes>"
            ],
            "image/png": "[encoded data removed]"
          },
          "metadata": {}
        }
      ]
    },
    {
      "cell_type": "code",
      "source": [
        "x= gentoo['sex']\n",
        "Y = gentoo['dlina_kluva']\n",
        "\n",
        "sns.boxplot(x='sex', y='dlina_kluva', data=gentoo, palette=\"Set2\")\n",
        "\n",
        "plt.xlabel('Sex pinguins')\n",
        "plt.ylabel('Dlina kluva')\n",
        "plt.title('Compare two penguins')\n",
        "plt.show()"
      ],
      "metadata": {
        "colab": {
          "base_uri": "https://localhost:8080/",
          "height": 579
        },
        "id": "qCnV3WBAuRdX",
        "outputId": "4227c354-8707-431f-fe41-cf896fe4d361"
      },
      "execution_count": null,
      "outputs": [
        {
          "output_type": "stream",
          "name": "stderr",
          "text": [
            "<ipython-input-18-8797d93d4e09>:4: FutureWarning: \n",
            "\n",
            "Passing `palette` without assigning `hue` is deprecated and will be removed in v0.14.0. Assign the `x` variable to `hue` and set `legend=False` for the same effect.\n",
            "\n",
            "  sns.boxplot(x='sex', y='dlina_kluva', data=gentoo, palette=\"Set2\")\n"
          ]
        },
        {
          "output_type": "display_data",
          "data": {
            "text/plain": [
              "<Figure size 640x480 with 1 Axes>"
            ],
            "image/png": "[encoded data removed]"
          },
          "metadata": {}
        }
      ]
    },
    {
      "cell_type": "markdown",
      "source": [
        "### С помощью теста Шапиро-Уилка проверим генеральноую совокупность на нормальность распределения"
      ],
      "metadata": {
        "id": "dz98qeX9TO_U"
      }
    },
    {
      "cell_type": "code",
      "source": [
        "with open(read, 'r' ) as INPUT:\n",
        "  header = INPUT.readline().strip().split(',')\n",
        "  data = [np.array([], dtype=float) for i in header]\n",
        "  for Rows in INPUT:\n",
        "    Rows = Rows.strip().split(',')\n",
        "    for i in range(len(Rows)):\n",
        "      data[i] = np.append(data[i], float(Rows[i]))"
      ],
      "metadata": {
        "id": "HOhyAvjlRChe"
      },
      "execution_count": null,
      "outputs": []
    },
    {
      "cell_type": "code",
      "source": [
        "def Normality_checker(List_of_values, alpha=0.05):\n",
        "    n = len(List_of_values)\n",
        "    Checker_vector = []\n",
        "    for i in range(n):\n",
        "        if 1-scst.shapiro(List_of_values[1]).statistic < alpha:\n",
        "            Checker_vector.append(True)\n",
        "        else:\n",
        "            Checker_vector.append(False)\n",
        "    return Checker_vector"
      ],
      "metadata": {
        "id": "tR3V6fVSS09a"
      },
      "execution_count": null,
      "outputs": []
    },
    {
      "cell_type": "code",
      "source": [
        "print(header)\n",
        "print(Normality_checker(data, alpha=0.13))"
      ],
      "metadata": {
        "colab": {
          "base_uri": "https://localhost:8080/"
        },
        "id": "lnWOmLqsS1w5",
        "outputId": "7fe71438-f40a-439d-f247-65ae339b422a"
      },
      "execution_count": null,
      "outputs": [
        {
          "output_type": "stream",
          "name": "stdout",
          "text": [
            "['dlina_kluva', 'glubina_kluva', 'dlina_krila', 'body_mass_g', 'sex', 'year']\n",
            "[True, True, True, True, True, True]\n"
          ]
        }
      ]
    },
    {
      "cell_type": "code",
      "source": [
        "print(header[:4])\n",
        "print(np.corrcoef(data[:4]))"
      ],
      "metadata": {
        "colab": {
          "base_uri": "https://localhost:8080/"
        },
        "id": "yxpiQIqkVaK_",
        "outputId": "026e34ea-96f6-4ceb-ac2a-f7f6dc15d27e"
      },
      "execution_count": null,
      "outputs": [
        {
          "output_type": "stream",
          "name": "stdout",
          "text": [
            "['dlina_kluva', 'glubina_kluva', 'dlina_krila', 'body_mass_g']\n",
            "[[1.         0.65402331 0.66420524 0.66673022]\n",
            " [0.65402331 1.         0.71064219 0.7229672 ]\n",
            " [0.66420524 0.71064219 1.         0.71130526]\n",
            " [0.66673022 0.7229672  0.71130526 1.        ]]\n"
          ]
        }
      ]
    },
    {
      "cell_type": "markdown",
      "source": [
        "### Построии тепловую карту, чтобы определить какие данные коррелируют между собой"
      ],
      "metadata": {
        "id": "H-BGVSWKJmWW"
      }
    },
    {
      "cell_type": "code",
      "source": [
        "plt.figure(figsize=(12,7))\n",
        "sns.heatmap(gentoo.corr(), annot=True, cmap='crest')"
      ],
      "metadata": {
        "colab": {
          "base_uri": "https://localhost:8080/",
          "height": 533
        },
        "id": "wdSxVJ1bVaI6",
        "outputId": "70054acb-d341-4457-a8c4-a14fc0f5e478"
      },
      "execution_count": null,
      "outputs": [
        {
          "output_type": "execute_result",
          "data": {
            "text/plain": [
              "<Axes: >"
            ]
          },
          "metadata": {},
          "execution_count": 23
        },
        {
          "output_type": "display_data",
          "data": {
            "text/plain": [
              "<Figure size 1200x700 with 2 Axes>"
            ],
            "image/png": "[encoded data removed]"
          },
          "metadata": {}
        }
      ]
    },
    {
      "cell_type": "markdown",
      "source": [
        "### Гистограмма распределения"
      ],
      "metadata": {
        "id": "NCsdy2ScJxu_"
      }
    },
    {
      "cell_type": "code",
      "source": [
        "#Гистограмма распределений\n",
        "for i in range(len(header)):\n",
        "  if i == 1 and i == 2:\n",
        "    plt.title('Hist' + \" ln('\" + header[i]+ \"') \" )\n",
        "  else:\n",
        "    plt.title(\"Hist:\" + \" '\" + header[i]+ \"' \")\n",
        "  plt.hist(data[i])\n",
        "  plt.show()"
      ],
      "metadata": {
        "colab": {
          "base_uri": "https://localhost:8080/",
          "height": 1000
        },
        "id": "EwO0YEUPVaEl",
        "outputId": "91a5c857-c744-4f83-9628-d4c8d367d184"
      },
      "execution_count": null,
      "outputs": [
        {
          "output_type": "display_data",
          "data": {
            "text/plain": [
              "<Figure size 640x480 with 1 Axes>"
            ],
            "image/png": "[encoded data removed]"
          },
          "metadata": {}
        },
        {
          "output_type": "display_data",
          "data": {
            "text/plain": [
              "<Figure size 640x480 with 1 Axes>"
            ],
            "image/png": "[encoded data removed]"
          },
          "metadata": {}
        },
        {
          "output_type": "display_data",
          "data": {
            "text/plain": [
              "<Figure size 640x480 with 1 Axes>"
            ],
            "image/png": "[encoded data removed]"
          },
          "metadata": {}
        },
        {
          "output_type": "display_data",
          "data": {
            "text/plain": [
              "<Figure size 640x480 with 1 Axes>"
            ],
            "image/png": "[encoded data removed]"
          },
          "metadata": {}
        },
        {
          "output_type": "display_data",
          "data": {
            "text/plain": [
              "<Figure size 640x480 with 1 Axes>"
            ],
            "image/png": "[encoded data removed]"
          },
          "metadata": {}
        },
        {
          "output_type": "display_data",
          "data": {
            "text/plain": [
              "<Figure size 640x480 with 1 Axes>"
            ],
            "image/png": "[encoded data removed]"
          },
          "metadata": {}
        }
      ]
    },
    {
      "cell_type": "code",
      "source": [
        "#Вычисляет обычный коеффициент детерминации\n",
        "def Determination_coef(Y_vector_exp, Y_vector_fit):\n",
        "  Mean_np = lambda Y: np.sum(Y)/len(Y)\n",
        "  Variance_np = lambda Y, y_mean: np.sum(np.power(Y - np.ones(len(Y))*y_mean, 2))\n",
        "  y_mean_exp = Mean_np(Y_vector_exp)\n",
        "  return Variance_np(Y_vector_fit, y_mean_exp)/ Variance_np(Y_vector_exp, y_mean_exp)"
      ],
      "metadata": {
        "id": "EGR_QHQPVZ8_"
      },
      "execution_count": null,
      "outputs": []
    },
    {
      "cell_type": "code",
      "source": [
        "#Вычисляет скорректированный коэффициент детерминации для регрессии\n",
        "def Determination_coef_adj(Y_vector_exp, Y_vector_fit, n, k):\n",
        "  return 1-(1-Determination_coef(Y_vector_exp, Y_vector_fit)*(n-1)/(n-k-1))"
      ],
      "metadata": {
        "id": "6975CsMbWoAS"
      },
      "execution_count": null,
      "outputs": []
    },
    {
      "cell_type": "code",
      "source": [
        "#Средняя ошбика аппроксимации(показывает среднее отклонение расчетных значений от фактических)\n",
        "def Mean_error_of_approximation(Y_vector_exp, Y_vector_fitted):\n",
        "  n = len(Y_vector_exp)\n",
        "  if n == len(Y_vector_fitted):\n",
        "    return np.sum(np.fabs((Y_vector_exp - Y_vector_fitted)/Y_vector_exp))/n\n",
        "  else:\n",
        "    print(\"Mean_error_of_approximation(a1, a2) must have len a1= len a2\")\n"
      ],
      "metadata": {
        "id": "oKvhTi5mWoZl"
      },
      "execution_count": null,
      "outputs": []
    },
    {
      "cell_type": "code",
      "source": [
        "def F_test_on_significance(Y_vector_exp, Y_vector_fit, pars_len= 3,alpha = 0.05):\n",
        "  n = len(Y_vector_exp) if len(Y_vector_exp) == len(Y_vector_fit) else 0\n",
        "  try :\n",
        "    y_mean_exp = np.sum(Y_vector_exp)/n\n",
        "  except ZeroDivisionError:\n",
        "    raise(\"* 'F_test_on_significance' must has a1 == a2 *\")\n",
        "    MSE = np.sum( np.power(Y_vector_exp - Y_vector_fit, 2) ) / (n - pars_len - 1)\n",
        "    MSR = np.sum( np.power(Y_vector_fit - np.ones(n) * y_mean_exp, 2) ) / pars_len\n",
        "    F_value = MSR / MSE\n",
        "    F_value_critical = scst.f.ppf(q = 1 - alpha, dfn= pars_len, dfd= n - pars_len - 1)\n",
        "    if F_value > F_value_critical :\n",
        "        return str(round(F_value, 2)) + \" \" + str(round(F_value_critical, 2)) + \" H0 - sucsess!\"\n",
        "    else:\n",
        "        return str(round(F_value, 2)) + \" \" + str(round(F_value_critical, 2)) + \" H1 - sucsess!\""
      ],
      "metadata": {
        "id": "b4E1SBhAWp0W"
      },
      "execution_count": null,
      "outputs": []
    },
    {
      "cell_type": "code",
      "source": [
        "def Mean_square_func(V_variavle, V_fixed):\n",
        "    N = len(V_variavle) if len(V_variavle) == len(V_fixed) else 0\n",
        "    try:\n",
        "        S_square = np.sum(np.power(np.abs(V_variavle- V_fixed),2)) / (N-1)\n",
        "    except ZeroDivisionError:\n",
        "        if N == \"0\":\n",
        "            raise(\"Mean_square_func - must have arg with equal lens!\")\n",
        "        else:\n",
        "            raise(\"Mean_square_func - arg must be great then 1!\")\n",
        "    else:\n",
        "        return S_square"
      ],
      "metadata": {
        "id": "vY7bQAQIWs-K"
      },
      "execution_count": null,
      "outputs": []
    },
    {
      "cell_type": "code",
      "source": [
        "def Linear_regration_Multi_dimensional(DATA, Pars):\n",
        "    n_dim = len(DATA)\n",
        "    n_objects = len(DATA[0])\n",
        "    if len(Pars) == n_dim + 1:\n",
        "        Y = np.ones(n_objects)*Pars[0]\n",
        "        for i in range(n_dim):\n",
        "            Y = Y + Pars[i+1] * DATA[i]\n",
        "        return Y # X_values is a numpy object; numpy vectors is returned\n",
        "    else:\n",
        "        raise(\"* With 'Pars' troubles! *\")\n",
        "\n",
        "Target_func = lambda Pars: Mean_square_func(Linear_regration_Multi_dimensional([data[1]], Pars), data[2])\n",
        "# len(Pars_init) == n_dim + 1 ! (2)\n",
        "Pars_init = [1, 1]\n",
        "res = scop.minimize(Target_func, Pars_init, method='SLSQP', options={'eps':1e-5, 'ftol':1e-8, 'disp': True, 'maxiter':100})\n",
        "print(res)"
      ],
      "metadata": {
        "colab": {
          "base_uri": "https://localhost:8080/"
        },
        "id": "Y_asniuaWwDo",
        "outputId": "07885cae-fb54-4ce2-dd2c-cb492c48c64e"
      },
      "execution_count": null,
      "outputs": [
        {
          "output_type": "stream",
          "name": "stdout",
          "text": [
            "Optimization terminated successfully    (Exit mode 0)\n",
            "            Current function value: 21.466575543983176\n",
            "            Iterations: 6\n",
            "            Function evaluations: 21\n",
            "            Gradient evaluations: 6\n",
            " message: Optimization terminated successfully\n",
            " success: True\n",
            "  status: 0\n",
            "     fun: 21.466575543983176\n",
            "       x: [ 1.461e+02  4.745e+00]\n",
            "     nit: 6\n",
            "     jac: [ 1.670e-08 -1.066e-09]\n",
            "    nfev: 21\n",
            "    njev: 6\n"
          ]
        }
      ]
    },
    {
      "cell_type": "code",
      "source": [
        "def Mean_square_func(V_variable, V_fixed):\n",
        "    N = len(V_variable) if len(V_variable) == len(V_fixed) else 0\n",
        "    try:\n",
        "        S_square = np.sum( np.power(np.abs(V_variable - V_fixed),2)) / (N - 1)\n",
        "    except ZeroDivisionError:\n",
        "        if N == 0:\n",
        "            raise(\"Mean_square_func - must have arg with equal lens!\")\n",
        "        else:\n",
        "            raise(\"Mean_square_func - arg must be great then 1!\")\n",
        "    else:\n",
        "        return S_square\n",
        "\n",
        "\n",
        "Target_func = lambda Pars: Mean_square_func(Linear_regration_Multi_dimensional([data[2], data[3], data[4]], Pars), data[-1])\n",
        "# len(Pars_init) == n_dim + 1 ! (3)\n",
        "Pars_init = [res.x[0], res.x[1], 1, 1]\n",
        "res2 = scop.minimize(Target_func, Pars_init, method='SLSQP', options={'eps':1e-5, 'ftol':1e-8, 'disp': True, 'maxiter':90})\n",
        "print(\"Res2: \", res2)\n",
        "\n",
        "Y_model_2 = Linear_regration_Multi_dimensional([data[2], data[3], data[4]], res2.x)\n",
        "print(\"A_mean : \", Mean_error_of_approximation(data[-1], Y_model_2))\n",
        "print(\"R2 adj : \", Determination_coef_adj(data[-1], Y_model_2, len(Y_model_2), len(res2.x)+1))"
      ],
      "metadata": {
        "colab": {
          "base_uri": "https://localhost:8080/"
        },
        "id": "j7SbQdTVW7Jk",
        "outputId": "eccc61de-0b18-40b9-d89d-69446d018918"
      },
      "execution_count": null,
      "outputs": [
        {
          "output_type": "stream",
          "name": "stdout",
          "text": [
            "Optimization terminated successfully    (Exit mode 0)\n",
            "            Current function value: 0.7910622695119444\n",
            "            Iterations: 11\n",
            "            Function evaluations: 66\n",
            "            Gradient evaluations: 11\n",
            "Res2:   message: Optimization terminated successfully\n",
            " success: True\n",
            "  status: 0\n",
            "     fun: 0.7910622695119444\n",
            "       x: [ 2.001e+03  7.503e-02 -1.732e-03 -7.280e-01]\n",
            "     nit: 11\n",
            "     jac: [-1.905e-07 -1.139e-07  7.668e-08  4.124e-08]\n",
            "    nfev: 66\n",
            "    njev: 11\n",
            "A_mean :  0.00036997989953393225\n",
            "R2 adj :  0.4244815024365105\n"
          ]
        }
      ]
    },
    {
      "cell_type": "code",
      "source": [
        "# # Выполним двусторонний ANOVA\n",
        "# import statsmodel.api as sm\n",
        "# from starsmodels.formula.api import ols\n",
        "\n"
      ],
      "metadata": {
        "id": "vu16y6BsjsB2"
      },
      "execution_count": null,
      "outputs": []
    },
    {
      "cell_type": "markdown",
      "source": [
        "### Проведем анализ взаимосвязи между длиной крыла и полом пингвина\n",
        "\n",
        "---\n",
        "\n",
        "\n"
      ],
      "metadata": {
        "id": "EK1cWi6SQ7GT"
      }
    },
    {
      "cell_type": "code",
      "source": [
        "#Строим линейную регрессию для массы тела и длины крыла\n",
        "X = gentoo['body_mass_g'].values.reshape(-1,1)\n",
        "y = gentoo['dlina_krila'].values\n",
        "model = LinearRegression()\n",
        "model.fit(X, y)\n",
        "\n",
        "predict_y = model.predict(X)\n",
        "\n",
        "print('Предсказанный y: ', predict_y  )"
      ],
      "metadata": {
        "id": "7LIyMkg5di-k",
        "colab": {
          "base_uri": "https://localhost:8080/"
        },
        "outputId": "501484a7-bdb2-49bb-f6ae-3d4cba2e657c"
      },
      "execution_count": null,
      "outputs": [
        {
          "output_type": "stream",
          "name": "stdout",
          "text": [
            "Предсказанный y:  [211.70138446 222.91049509 211.23433818 222.91049509 220.10821743\n",
            " 212.16843073 214.50366211 218.24003233 210.7672919  217.77298605\n",
            " 213.10252329 221.50935626 213.10252329 224.31163392 208.8991068\n",
            " 224.31163392 208.43206052 228.51505041 214.50366211 219.64117115\n",
            " 222.91049509 216.37184722 210.7672919  216.8388935  216.37184722\n",
            " 217.30593977 222.44344881 212.63547701 221.50935626 218.7070786\n",
            " 213.56956956 216.8388935  226.17981902 217.77298605 220.10821743\n",
            " 215.90480094 218.7070786  210.30024563 219.64117115 206.56387542\n",
            " 222.91049509 209.83319935 214.03661584 221.50935626 215.43775467\n",
            " 208.8991068  220.10821743 217.30593977 219.17412488 214.97070839\n",
            " 219.17412488 210.7672919  216.37184722 215.43775467 216.8388935\n",
            " 209.83319935 216.37184722 211.23433818 221.50935626 208.8991068\n",
            " 219.17412488 210.7672919  222.44344881 213.56956956 222.91049509\n",
            " 223.84458764 213.56956956 221.50935626 214.03661584 216.37184722\n",
            " 217.30593977 218.24003233 213.56956956 223.84458764 212.63547701\n",
            " 225.71277275 214.03661584 225.24572647 212.86900015 220.57526371\n",
            " 213.8030927  219.64117115 214.03661584 221.97640254 212.63547701\n",
            " 219.17412488 215.20423153 221.50935626 215.90480094 220.10821743\n",
            " 214.03661584 222.44344881 214.97070839 218.24003233 215.67127781\n",
            " 215.20423153 212.86900015 218.7070786  214.97070839 221.97640254\n",
            " 216.13832408 221.04230998 221.04230998 213.56956956 221.04230998\n",
            " 212.40195387 221.04230998 216.37184722 225.24572647 213.10252329\n",
            " 221.04230998 210.53376877 224.31163392 225.71277275 215.67127781\n",
            " 214.97070839 223.37754137 218.24003233 220.10821743]\n"
          ]
        }
      ]
    },
    {
      "cell_type": "code",
      "source": [
        "plt.scatter(X, y, color='gold')\n",
        "plt.plot(X, predict_y, color = 'red', label = 'Линейная регрессия',linewidth=1, markersize=10)\n",
        "plt.legend()\n",
        "plt.grid()\n",
        "plt.xlabel('Длина крыла')\n",
        "plt.ylabel('Глубина клюва')\n",
        "plt.show()"
      ],
      "metadata": {
        "colab": {
          "base_uri": "https://localhost:8080/",
          "height": 449
        },
        "id": "sm79ESpyV__i",
        "outputId": "8a01bd9f-6214-41cc-dcae-fe2c007bfc14"
      },
      "execution_count": null,
      "outputs": [
        {
          "output_type": "display_data",
          "data": {
            "text/plain": [
              "<Figure size 640x480 with 1 Axes>"
            ],
            "image/png": "[encoded data removed]"
          },
          "metadata": {}
        }
      ]
    },
    {
      "cell_type": "code",
      "source": [
        "# Рассчитаем множественную корреляцию\n",
        "a = gentoo['body_mass_g']\n",
        "b = gentoo['dlina_krila']\n",
        "\n",
        "corr_coef = np.corrcoef(a,b)\n",
        "mult_corr = corr_coef[-1: 1]\n",
        "mult_corr = np.sqrt(np.prod(mult_corr**2))\n",
        "\n",
        "print('Множественная корреляция: ', mult_corr)"
      ],
      "metadata": {
        "id": "ID_YhZ4DL73O",
        "colab": {
          "base_uri": "https://localhost:8080/"
        },
        "outputId": "017838b7-a99d-4897-f686-d543b6c0eb47"
      },
      "execution_count": null,
      "outputs": [
        {
          "output_type": "stream",
          "name": "stdout",
          "text": [
            "Множественная корреляция:  1.0\n"
          ]
        }
      ]
    },
    {
      "cell_type": "code",
      "source": [
        "#Вычислим коэффициенты b1 и b0 для уравнения линейной регрессии:\n",
        "x1 = gentoo['body_mass_g']\n",
        "y1 = gentoo['dlina_krila']\n",
        "\n",
        "mean_x = sum(x1)/len(x1)\n",
        "mean_y = sum(y1)/len(y1)\n",
        "\n",
        "covariance = sum((xi-mean_x)*(yi-mean_y) for xi, yi in zip(x1, y1))\n",
        "variance = sum((xi - mean_x)**2 for xi in x1)\n",
        "\n",
        "b1 = covariance / variance\n",
        "b0 = mean_y - b1*mean_x\n",
        "\n",
        "print('Коэффициент линейной регрессии: ')\n",
        "print('b1 - наклон линии: ', b1)\n",
        "print('b0 - интерсепт', b0)\n",
        "print('Уравнение линейной регрессии: y = {:.2f} + {:.4f}*x1'.format(b0, b1))\n",
        "\n",
        "#Обратная связь между зависимой переменной (y) и независимой переменной (x), увеличение x связано с уменьшением значения  y"
      ],
      "metadata": {
        "id": "qZZQMfPbTnrv",
        "colab": {
          "base_uri": "https://localhost:8080/"
        },
        "outputId": "4822e080-8b3a-41c9-87f1-1c0eb8564642"
      },
      "execution_count": null,
      "outputs": [
        {
          "output_type": "stream",
          "name": "stdout",
          "text": [
            "Коэффициент линейной регрессии: \n",
            "b1 - наклон линии:  0.009340925526910201\n",
            "b0 - интерсепт 169.66721958565057\n",
            "Уравнение линейной регрессии: y = 169.67 + 0.0093*x1\n"
          ]
        }
      ]
    },
    {
      "cell_type": "code",
      "source": [
        "#Рассчитаем объясненную и необъясненную дисперсию\n",
        "x2 = np.array(gentoo['body_mass_g'])\n",
        "y2 = np.array(gentoo['dlina_krila'])\n",
        "\n",
        "y_pred = b0 + b1*x1\n",
        "\n",
        "y_mean = np.mean(y2)\n",
        "\n",
        "#Объясненная дисперсия SSR(регресионный анализ)\n",
        "SSR = np.sum((y_pred - y_mean)**2)\n",
        "\n",
        "#Необъясненная дисперсия SSE(ошибка суммы квадратов)\n",
        "SSE = np.sum((y2 - y_pred)**2)\n",
        "\n",
        "sum_desp = int(SSR)+ int(SSE)\n",
        "\n",
        "print('Объясненная дисперсия: ', SSR)\n",
        "print('Необъясненная дисперсия: ', SSE )\n",
        "print('Сумма: ', sum_desp)"
      ],
      "metadata": {
        "id": "hymkz10sm4AJ",
        "colab": {
          "base_uri": "https://localhost:8080/"
        },
        "outputId": "119f5c7b-5bb5-4d6b-c18f-9f067a21110b"
      },
      "execution_count": null,
      "outputs": [
        {
          "output_type": "stream",
          "name": "stdout",
          "text": [
            "Объясненная дисперсия:  4867205.448317983\n",
            "Необъясненная дисперсия:  4871657.176679962\n",
            "Сумма:  9738862\n"
          ]
        }
      ]
    },
    {
      "cell_type": "code",
      "source": [
        "#Коэффициент детерминации\n",
        "r_2 = SSR / sum_desp\n",
        "print('Коэффициент детерминации: ', r_2)"
      ],
      "metadata": {
        "id": "RQXarG2WrZ94",
        "colab": {
          "base_uri": "https://localhost:8080/"
        },
        "outputId": "8113e3a6-90e7-40e8-b830-327e98803f8f"
      },
      "execution_count": null,
      "outputs": [
        {
          "output_type": "stream",
          "name": "stdout",
          "text": [
            "Коэффициент детерминации:  0.4304430075025573\n"
          ]
        }
      ]
    },
    {
      "cell_type": "code",
      "source": [
        "# Определим уровень значимости уровнения вручную\n",
        "from scipy.stats import t # Student’s t continuous random variable.\n",
        "\n",
        "group_body = np.array(gentoo['body_mass_g'])\n",
        "group_dlina = np.array(gentoo['dlina_krila'])\n",
        "\n",
        "mean_x = sum(group_body)/len(group_body)\n",
        "mean_y = sum(group_dlina)/len(group_dlina)\n",
        "\n",
        "#Рассчитаем дисперсию\n",
        "var1 = np.var(group_body, ddof=1)\n",
        "var2 = np.var(group_dlina, ddof=1)\n",
        "\n",
        "# Стандартная ошибка\n",
        "\n",
        "se = np.sqrt((var1/len(group_body))+(var2/len(group_dlina)))\n",
        "\n",
        "# Рассчитаем t статистику\n",
        "t_stat = (mean_x-mean_y)/se\n",
        "\n",
        "# Степень свободы\n",
        "n1 = len(group_body)\n",
        "n2 = len(group_dlina)\n",
        "df = (var1/n1 + var2/n2)**2 / ((var1/n1)**2/(n1-1) + (var2/n2)**2/(n2-1))\n",
        "\n",
        "# Определите p значение\n",
        "p_value = 2*(1-t.cdf(abs(t_stat), df))\n",
        "\n",
        "print(f'P value: {p_value:.1f}')\n",
        "\n",
        "if p_value <= 0.05:\n",
        "  print('Есть значимая разница, нулевую гипотезу отвергаем')\n",
        "else:\n",
        "  print('Не отвергаем нулевую гипотезу, значимой разницы нету')\n",
        "\n"
      ],
      "metadata": {
        "colab": {
          "base_uri": "https://localhost:8080/"
        },
        "id": "o5cg5-C6qCJE",
        "outputId": "e120ad29-9020-4497-c95f-b95d862bf433"
      },
      "execution_count": null,
      "outputs": [
        {
          "output_type": "stream",
          "name": "stdout",
          "text": [
            "P value: 0.0000000000\n",
            "Есть значимая разница, нулевую гипотезу отвергаем\n"
          ]
        }
      ]
    },
    {
      "cell_type": "code",
      "source": [
        "# Определим уровень значимости уровнения с помощью библиотеки scipy\n",
        "from scipy import stats\n",
        "\n",
        "t_stat, p_value = stats.ttest_ind(np.array(gentoo['body_mass_g']), np.array(gentoo['dlina_krila']))\n",
        "print('T_stat: ' ,t_stat)\n",
        "print('P_value: ',p_value)\n",
        "\n",
        "alpha = 0.05\n",
        "if p_value <= alpha:\n",
        "  print('Есть значимая разница, нулевую гипотезу отвергаем')\n",
        "else:\n",
        "  print('Не отвергаем нулевую гипотезу, значимой разницы нету')\n"
      ],
      "metadata": {
        "colab": {
          "base_uri": "https://localhost:8080/"
        },
        "id": "KckMnNMdztup",
        "outputId": "fb2a214c-5b53-4998-d3e3-0906dc1ef6bf"
      },
      "execution_count": null,
      "outputs": [
        {
          "output_type": "stream",
          "name": "stdout",
          "text": [
            "T_stat:  106.04210417809483\n",
            "P_value:  4.424127517200833e-201\n",
            "Есть значимая разница, нулевую гипотезу отвергаем\n"
          ]
        }
      ]
    },
    {
      "cell_type": "code",
      "source": [
        "#Оценка значимости уравнения в целом (F-критерий Фишера)\n",
        "n = len(np.array(gentoo['dlina_krila']))\n",
        "print('n: ', n)\n",
        "\n",
        "k = 1\n",
        "\n",
        "\n",
        "#Дисперсия на 1 степень свободы, факторная - msr\n",
        "#Дисперсия на 1 степень свободы, остаточная - mse\n",
        "msr = SSR/k\n",
        "mse = SSE/(n-k-1)\n",
        "\n",
        "F = msr/mse\n",
        "\n",
        "if F > 3.86:\n",
        "  print(f'F - критерий Фишера: {F}, модель значимая')\n",
        "else:\n",
        "  print(f'F - критерий Фишера: {F}, модель Не значимая')\n"
      ],
      "metadata": {
        "id": "KqOizTi-tjga",
        "colab": {
          "base_uri": "https://localhost:8080/"
        },
        "outputId": "723db34f-5278-4bed-8483-3775da602401"
      },
      "execution_count": null,
      "outputs": [
        {
          "output_type": "stream",
          "name": "stdout",
          "text": [
            "n:  119\n",
            "F - критерий Фишера: 97.64360287345745, модель значимая\n"
          ]
        }
      ]
    },
    {
      "cell_type": "code",
      "source": [
        "#Оценка значимости параметра (t-критерий Стьюдента)\n",
        "#Для того, чтобы рассчитать t критерий нам понадобиться SSX(сумма квадратов отклонений среднего значения от X)\n",
        "x1 = np.array(gentoo['dlina_krila'])\n",
        "x1_mean = x1.mean()\n",
        "SSX = np.sum((x1-x1_mean)**2)\n",
        "SSX"
      ],
      "metadata": {
        "id": "i7Ykdsfi0UM2",
        "colab": {
          "base_uri": "https://localhost:8080/"
        },
        "outputId": "dc2625c0-10d3-48dd-e03b-b2d8368e56ff"
      },
      "execution_count": null,
      "outputs": [
        {
          "output_type": "execute_result",
          "data": {
            "text/plain": [
              "5117.411764705881"
            ]
          },
          "metadata": {},
          "execution_count": 39
        }
      ]
    },
    {
      "cell_type": "code",
      "source": [
        "#S_yx - Стандартная ошибка оценки\n",
        "\n",
        "x_values = np.array(gentoo['dlina_krila'])\n",
        "x_mean = np.array(x_values)\n",
        "\n",
        "#Стандартное отклонение остатков\n",
        "S_E = np.sqrt(SSR/(333-2))\n",
        "print('Стандартное отклонение остатков: ', S_E)\n",
        "#Стандартная ошибка оценка\n",
        "S_YX = S_E * np.sqrt(1-(1/333)-((x_values-x_mean)**2)/SSX)\n",
        "print('Стандарная ошибка оценки: ', S_YX)"
      ],
      "metadata": {
        "id": "Un92UZphjSeC",
        "colab": {
          "base_uri": "https://localhost:8080/"
        },
        "outputId": "d8dde893-e2d5-481b-9de6-23d59eb9c656"
      },
      "execution_count": null,
      "outputs": [
        {
          "output_type": "stream",
          "name": "stdout",
          "text": [
            "Стандартное отклонение остатков:  2.5359985775515517\n",
            "Стандарная ошибка оценки:  [2.53218791 2.53218791 2.53218791 2.53218791 2.53218791 2.53218791\n",
            " 2.53218791 2.53218791 2.53218791 2.53218791 2.53218791 2.53218791\n",
            " 2.53218791 2.53218791 2.53218791 2.53218791 2.53218791 2.53218791\n",
            " 2.53218791 2.53218791 2.53218791 2.53218791 2.53218791 2.53218791\n",
            " 2.53218791 2.53218791 2.53218791 2.53218791 2.53218791 2.53218791\n",
            " 2.53218791 2.53218791 2.53218791 2.53218791 2.53218791 2.53218791\n",
            " 2.53218791 2.53218791 2.53218791 2.53218791 2.53218791 2.53218791\n",
            " 2.53218791 2.53218791 2.53218791 2.53218791 2.53218791 2.53218791\n",
            " 2.53218791 2.53218791 2.53218791 2.53218791 2.53218791 2.53218791\n",
            " 2.53218791 2.53218791 2.53218791 2.53218791 2.53218791 2.53218791\n",
            " 2.53218791 2.53218791 2.53218791 2.53218791 2.53218791 2.53218791\n",
            " 2.53218791 2.53218791 2.53218791 2.53218791 2.53218791 2.53218791\n",
            " 2.53218791 2.53218791 2.53218791 2.53218791 2.53218791 2.53218791\n",
            " 2.53218791 2.53218791 2.53218791 2.53218791 2.53218791 2.53218791\n",
            " 2.53218791 2.53218791 2.53218791 2.53218791 2.53218791 2.53218791\n",
            " 2.53218791 2.53218791 2.53218791 2.53218791 2.53218791 2.53218791\n",
            " 2.53218791 2.53218791 2.53218791 2.53218791 2.53218791 2.53218791\n",
            " 2.53218791 2.53218791 2.53218791 2.53218791 2.53218791 2.53218791\n",
            " 2.53218791 2.53218791 2.53218791 2.53218791 2.53218791 2.53218791\n",
            " 2.53218791 2.53218791 2.53218791 2.53218791 2.53218791]\n"
          ]
        }
      ]
    },
    {
      "cell_type": "code",
      "source": [
        "#Оценка существенности коэффициента корреляции(RXY)\n",
        "R_XY = np.sqrt(r_2)\n",
        "print('Оценка существенности коэффициента корреляции(RXY): ', R_XY)\n",
        "if R_XY == 0:\n",
        "  print('Полное отсутствеие связи')\n",
        "elif 0< R_XY <0.3:\n",
        "  print('Связь очень слабая')\n",
        "elif 0.3< R_XY <0.5:\n",
        "  print('Связь слабая')\n",
        "elif 0.5< R_XY <0.7:\n",
        "  print('Связь средняя')\n",
        "elif 0.7< R_XY <0.9:\n",
        "  print('Высокая')\n",
        "else:\n",
        "  print('Связь очень высокая')\n"
      ],
      "metadata": {
        "id": "gt3tTJgJ0a7q",
        "colab": {
          "base_uri": "https://localhost:8080/"
        },
        "outputId": "9c70c0c5-2432-4e10-860d-72db143caf2e"
      },
      "execution_count": null,
      "outputs": [
        {
          "output_type": "stream",
          "name": "stdout",
          "text": [
            "Оценка существенности коэффициента корреляции(RXY):  0.65608155552687\n",
            "Связь средняя\n"
          ]
        }
      ]
    },
    {
      "cell_type": "code",
      "source": [
        "from sklearn.metrics import r2_score\n",
        "r2 = r2_score(y, predict_y)\n",
        "r2"
      ],
      "metadata": {
        "colab": {
          "base_uri": "https://localhost:8080/"
        },
        "id": "kfVMF46aPuhA",
        "outputId": "0dd53bb4-a7c2-4447-8fa2-b918e45adc94"
      },
      "execution_count": null,
      "outputs": [
        {
          "output_type": "execute_result",
          "data": {
            "text/plain": [
              "0.5059551674188243"
            ]
          },
          "metadata": {},
          "execution_count": 42
        }
      ]
    },
    {
      "cell_type": "markdown",
      "source": [
        "### Логорифмируем данные, чтобы сделать график более плавным"
      ],
      "metadata": {
        "id": "8OK07yWazqof"
      }
    },
    {
      "cell_type": "code",
      "source": [
        "#bill depth and flipper lengh\n",
        "body_log = np.log(data[3])\n",
        "flipper_log = np.log(data[2])\n",
        "print(f\"body_log: \", body_log)\n",
        "print(f\"flipper_log: \", flipper_log)"
      ],
      "metadata": {
        "id": "lDaaFUNh4Lsx",
        "colab": {
          "base_uri": "https://localhost:8080/"
        },
        "outputId": "1dcbdae5-c3ec-4eed-a2f5-780d4646727b"
      },
      "execution_count": null,
      "outputs": [
        {
          "output_type": "stream",
          "name": "stdout",
          "text": [
            "body_log:  [8.41183268 8.64822145 8.40065938 8.64822145 8.59415423 8.42288251\n",
            " 8.4763712  8.5564139  8.38935982 8.54675199 8.4446225  8.62155321\n",
            " 8.4446225  8.67419694 8.3428398  8.67419694 8.33086361 8.74830491\n",
            " 8.4763712  8.58485184 8.64822145 8.51719319 8.38935982 8.52714352\n",
            " 8.51719319 8.53699582 8.63941082 8.43381158 8.62155321 8.56598336\n",
            " 8.45531779 8.52714352 8.70781355 8.54675199 8.59415423 8.50714286\n",
            " 8.56598336 8.37793112 8.58485184 8.28147086 8.64822145 8.3663703\n",
            " 8.4658999  8.62155321 8.49699048 8.3428398  8.59415423 8.53699582\n",
            " 8.5754621  8.48673398 8.5754621  8.38935982 8.51719319 8.49699048\n",
            " 8.52714352 8.3663703  8.51719319 8.40065938 8.62155321 8.3428398\n",
            " 8.5754621  8.38935982 8.63941082 8.45531779 8.64822145 8.6656132\n",
            " 8.45531779 8.62155321 8.4658999  8.51719319 8.53699582 8.5564139\n",
            " 8.45531779 8.6656132  8.43381158 8.69951475 8.4658999  8.6911465\n",
            " 8.43923165 8.60337089 8.46062284 8.58485184 8.4658999  8.63052188\n",
            " 8.43381158 8.5754621  8.49187538 8.62155321 8.50714286 8.59415423\n",
            " 8.4658999  8.63941082 8.48673398 8.5564139  8.50207955 8.49187538\n",
            " 8.43923165 8.56598336 8.48673398 8.63052188 8.51218065 8.61250337\n",
            " 8.61250337 8.45531779 8.61250337 8.42836198 8.61250337 8.51719319\n",
            " 8.6911465  8.4446225  8.61250337 8.3836618  8.67419694 8.69951475\n",
            " 8.50207955 8.48673398 8.65695513 8.5564139  8.59415423]\n",
            "flipper_log:  [5.35185813 5.43807931 5.34710753 5.38449506 5.37063803 5.34710753\n",
            " 5.35185813 5.38907173 5.34233425 5.37063803 5.36597602 5.37527841\n",
            " 5.36597602 5.36129217 5.34710753 5.37989735 5.34710753 5.3981627\n",
            " 5.34233425 5.40267738 5.38449506 5.37063803 5.36129217 5.37063803\n",
            " 5.37063803 5.37063803 5.37063803 5.34710753 5.39362755 5.40267738\n",
            " 5.34233425 5.33271879 5.43807931 5.39362755 5.39362755 5.36129217\n",
            " 5.38907173 5.33753808 5.33753808 5.33753808 5.4161004  5.34710753\n",
            " 5.37527841 5.40267738 5.37989735 5.34710753 5.4161004  5.36129217\n",
            " 5.37063803 5.34710753 5.39362755 5.34710753 5.4161004  5.37989735\n",
            " 5.39362755 5.33753808 5.39362755 5.33753808 5.41164605 5.33753808\n",
            " 5.3981627  5.36597602 5.44241771 5.38907173 5.43807931 5.433722\n",
            " 5.39362755 5.40717177 5.37527841 5.3981627  5.3981627  5.37989735\n",
            " 5.37527841 5.43807931 5.34233425 5.39362755 5.37063803 5.40717177\n",
            " 5.35658627 5.3981627  5.35658627 5.41164605 5.35658627 5.42934563\n",
            " 5.38449506 5.38449506 5.35658627 5.43807931 5.38449506 5.42934563\n",
            " 5.35658627 5.41164605 5.36597602 5.420535   5.37527841 5.40267738\n",
            " 5.31320598 5.4161004  5.38907173 5.42934563 5.37063803 5.42934563\n",
            " 5.37063803 5.34710753 5.38907173 5.33753808 5.34233425 5.37527841\n",
            " 5.433722   5.36129217 5.43807931 5.37989735 5.43807931 5.40267738\n",
            " 5.36597602 5.37063803 5.40267738 5.35658627 5.36129217]\n"
          ]
        }
      ]
    },
    {
      "cell_type": "code",
      "source": [
        "df = pd.DataFrame({'Body_log' : body_log, 'Flipper_log': flipper_log})\n",
        "df"
      ],
      "metadata": {
        "id": "JLmp7Y5dl1Nd",
        "colab": {
          "base_uri": "https://localhost:8080/",
          "height": 424
        },
        "outputId": "4557fe5b-5183-4ee6-b065-a24bfbd90678"
      },
      "execution_count": null,
      "outputs": [
        {
          "output_type": "execute_result",
          "data": {
            "text/plain": [
              "     Body_log  Flipper_log\n",
              "0    8.411833     5.351858\n",
              "1    8.648221     5.438079\n",
              "2    8.400659     5.347108\n",
              "3    8.648221     5.384495\n",
              "4    8.594154     5.370638\n",
              "..        ...          ...\n",
              "114  8.502080     5.365976\n",
              "115  8.486734     5.370638\n",
              "116  8.656955     5.402677\n",
              "117  8.556414     5.356586\n",
              "118  8.594154     5.361292\n",
              "\n",
              "[119 rows x 2 columns]"
            ],
            "text/html": [
              "\n",
              "  <div id=\"df-41af852c-efc6-401b-9466-2a0b09dc6704\" class=\"colab-df-container\">\n",
              "    <div>\n",
              "<style scoped>\n",
              "    .dataframe tbody tr th:only-of-type {\n",
              "        vertical-align: middle;\n",
              "    }\n",
              "\n",
              "    .dataframe tbody tr th {\n",
              "        vertical-align: top;\n",
              "    }\n",
              "\n",
              "    .dataframe thead th {\n",
              "        text-align: right;\n",
              "    }\n",
              "</style>\n",
              "<table border=\"1\" class=\"dataframe\">\n",
              "  <thead>\n",
              "    <tr style=\"text-align: right;\">\n",
              "      <th></th>\n",
              "      <th>Body_log</th>\n",
              "      <th>Flipper_log</th>\n",
              "    </tr>\n",
              "  </thead>\n",
              "  <tbody>\n",
              "    <tr>\n",
              "      <th>0</th>\n",
              "      <td>8.411833</td>\n",
              "      <td>5.351858</td>\n",
              "    </tr>\n",
              "    <tr>\n",
              "      <th>1</th>\n",
              "      <td>8.648221</td>\n",
              "      <td>5.438079</td>\n",
              "    </tr>\n",
              "    <tr>\n",
              "      <th>2</th>\n",
              "      <td>8.400659</td>\n",
              "      <td>5.347108</td>\n",
              "    </tr>\n",
              "    <tr>\n",
              "      <th>3</th>\n",
              "      <td>8.648221</td>\n",
              "      <td>5.384495</td>\n",
              "    </tr>\n",
              "    <tr>\n",
              "      <th>4</th>\n",
              "      <td>8.594154</td>\n",
              "      <td>5.370638</td>\n",
              "    </tr>\n",
              "    <tr>\n",
              "      <th>...</th>\n",
              "      <td>...</td>\n",
              "      <td>...</td>\n",
              "    </tr>\n",
              "    <tr>\n",
              "      <th>114</th>\n",
              "      <td>8.502080</td>\n",
              "      <td>5.365976</td>\n",
              "    </tr>\n",
              "    <tr>\n",
              "      <th>115</th>\n",
              "      <td>8.486734</td>\n",
              "      <td>5.370638</td>\n",
              "    </tr>\n",
              "    <tr>\n",
              "      <th>116</th>\n",
              "      <td>8.656955</td>\n",
              "      <td>5.402677</td>\n",
              "    </tr>\n",
              "    <tr>\n",
              "      <th>117</th>\n",
              "      <td>8.556414</td>\n",
              "      <td>5.356586</td>\n",
              "    </tr>\n",
              "    <tr>\n",
              "      <th>118</th>\n",
              "      <td>8.594154</td>\n",
              "      <td>5.361292</td>\n",
              "    </tr>\n",
              "  </tbody>\n",
              "</table>\n",
              "<p>119 rows × 2 columns</p>\n",
              "</div>\n",
              "    <div class=\"colab-df-buttons\">\n",
              "\n",
              "  <div class=\"colab-df-container\">\n",
              "    <button class=\"colab-df-convert\" onclick=\"convertToInteractive('df-41af852c-efc6-401b-9466-2a0b09dc6704')\"\n",
              "            title=\"Convert this dataframe to an interactive table.\"\n",
              "            style=\"display:none;\">\n",
              "\n",
              "  <svg xmlns=\"http://www.w3.org/2000/svg\" height=\"24px\" viewBox=\"0 -960 960 960\">\n",
              "    <path d=\"M120-120v-720h720v720H120Zm60-500h600v-160H180v160Zm220 220h160v-160H400v160Zm0 220h160v-160H400v160ZM180-400h160v-160H180v160Zm440 0h160v-160H620v160ZM180-180h160v-160H180v160Zm440 0h160v-160H620v160Z\"/>\n",
              "  </svg>\n",
              "    </button>\n",
              "\n",
              "  <style>\n",
              "    .colab-df-container {\n",
              "      display:flex;\n",
              "      gap: 12px;\n",
              "    }\n",
              "\n",
              "    .colab-df-convert {\n",
              "      background-color: #E8F0FE;\n",
              "      border: none;\n",
              "      border-radius: 50%;\n",
              "      cursor: pointer;\n",
              "      display: none;\n",
              "      fill: #1967D2;\n",
              "      height: 32px;\n",
              "      padding: 0 0 0 0;\n",
              "      width: 32px;\n",
              "    }\n",
              "\n",
              "    .colab-df-convert:hover {\n",
              "      background-color: #E2EBFA;\n",
              "      box-shadow: 0px 1px 2px rgba(60, 64, 67, 0.3), 0px 1px 3px 1px rgba(60, 64, 67, 0.15);\n",
              "      fill: #174EA6;\n",
              "    }\n",
              "\n",
              "    .colab-df-buttons div {\n",
              "      margin-bottom: 4px;\n",
              "    }\n",
              "\n",
              "    [theme=dark] .colab-df-convert {\n",
              "      background-color: #3B4455;\n",
              "      fill: #D2E3FC;\n",
              "    }\n",
              "\n",
              "    [theme=dark] .colab-df-convert:hover {\n",
              "      background-color: #434B5C;\n",
              "      box-shadow: 0px 1px 3px 1px rgba(0, 0, 0, 0.15);\n",
              "      filter: drop-shadow(0px 1px 2px rgba(0, 0, 0, 0.3));\n",
              "      fill: #FFFFFF;\n",
              "    }\n",
              "  </style>\n",
              "\n",
              "    <script>\n",
              "      const buttonEl =\n",
              "        document.querySelector('#df-41af852c-efc6-401b-9466-2a0b09dc6704 button.colab-df-convert');\n",
              "      buttonEl.style.display =\n",
              "        google.colab.kernel.accessAllowed ? 'block' : 'none';\n",
              "\n",
              "      async function convertToInteractive(key) {\n",
              "        const element = document.querySelector('#df-41af852c-efc6-401b-9466-2a0b09dc6704');\n",
              "        const dataTable =\n",
              "          await google.colab.kernel.invokeFunction('convertToInteractive',\n",
              "                                                    [key], {});\n",
              "        if (!dataTable) return;\n",
              "\n",
              "        const docLinkHtml = 'Like what you see? Visit the ' +\n",
              "          '<a target=\"_blank\" href=https://colab.research.google.com/notebooks/data_table.ipynb>data table notebook</a>'\n",
              "          + ' to learn more about interactive tables.';\n",
              "        element.innerHTML = '';\n",
              "        dataTable['output_type'] = 'display_data';\n",
              "        await google.colab.output.renderOutput(dataTable, element);\n",
              "        const docLink = document.createElement('div');\n",
              "        docLink.innerHTML = docLinkHtml;\n",
              "        element.appendChild(docLink);\n",
              "      }\n",
              "    </script>\n",
              "  </div>\n",
              "\n",
              "\n",
              "<div id=\"df-db549825-39f0-4376-a966-40f1be815409\">\n",
              "  <button class=\"colab-df-quickchart\" onclick=\"quickchart('df-db549825-39f0-4376-a966-40f1be815409')\"\n",
              "            title=\"Suggest charts\"\n",
              "            style=\"display:none;\">\n",
              "\n",
              "<svg xmlns=\"http://www.w3.org/2000/svg\" height=\"24px\"viewBox=\"0 0 24 24\"\n",
              "     width=\"24px\">\n",
              "    <g>\n",
              "        <path d=\"M19 3H5c-1.1 0-2 .9-2 2v14c0 1.1.9 2 2 2h14c1.1 0 2-.9 2-2V5c0-1.1-.9-2-2-2zM9 17H7v-7h2v7zm4 0h-2V7h2v10zm4 0h-2v-4h2v4z\"/>\n",
              "    </g>\n",
              "</svg>\n",
              "  </button>\n",
              "\n",
              "<style>\n",
              "  .colab-df-quickchart {\n",
              "      --bg-color: #E8F0FE;\n",
              "      --fill-color: #1967D2;\n",
              "      --hover-bg-color: #E2EBFA;\n",
              "      --hover-fill-color: #174EA6;\n",
              "      --disabled-fill-color: #AAA;\n",
              "      --disabled-bg-color: #DDD;\n",
              "  }\n",
              "\n",
              "  [theme=dark] .colab-df-quickchart {\n",
              "      --bg-color: #3B4455;\n",
              "      --fill-color: #D2E3FC;\n",
              "      --hover-bg-color: #434B5C;\n",
              "      --hover-fill-color: #FFFFFF;\n",
              "      --disabled-bg-color: #3B4455;\n",
              "      --disabled-fill-color: #666;\n",
              "  }\n",
              "\n",
              "  .colab-df-quickchart {\n",
              "    background-color: var(--bg-color);\n",
              "    border: none;\n",
              "    border-radius: 50%;\n",
              "    cursor: pointer;\n",
              "    display: none;\n",
              "    fill: var(--fill-color);\n",
              "    height: 32px;\n",
              "    padding: 0;\n",
              "    width: 32px;\n",
              "  }\n",
              "\n",
              "  .colab-df-quickchart:hover {\n",
              "    background-color: var(--hover-bg-color);\n",
              "    box-shadow: 0 1px 2px rgba(60, 64, 67, 0.3), 0 1px 3px 1px rgba(60, 64, 67, 0.15);\n",
              "    fill: var(--button-hover-fill-color);\n",
              "  }\n",
              "\n",
              "  .colab-df-quickchart-complete:disabled,\n",
              "  .colab-df-quickchart-complete:disabled:hover {\n",
              "    background-color: var(--disabled-bg-color);\n",
              "    fill: var(--disabled-fill-color);\n",
              "    box-shadow: none;\n",
              "  }\n",
              "\n",
              "  .colab-df-spinner {\n",
              "    border: 2px solid var(--fill-color);\n",
              "    border-color: transparent;\n",
              "    border-bottom-color: var(--fill-color);\n",
              "    animation:\n",
              "      spin 1s steps(1) infinite;\n",
              "  }\n",
              "\n",
              "  @keyframes spin {\n",
              "    0% {\n",
              "      border-color: transparent;\n",
              "      border-bottom-color: var(--fill-color);\n",
              "      border-left-color: var(--fill-color);\n",
              "    }\n",
              "    20% {\n",
              "      border-color: transparent;\n",
              "      border-left-color: var(--fill-color);\n",
              "      border-top-color: var(--fill-color);\n",
              "    }\n",
              "    30% {\n",
              "      border-color: transparent;\n",
              "      border-left-color: var(--fill-color);\n",
              "      border-top-color: var(--fill-color);\n",
              "      border-right-color: var(--fill-color);\n",
              "    }\n",
              "    40% {\n",
              "      border-color: transparent;\n",
              "      border-right-color: var(--fill-color);\n",
              "      border-top-color: var(--fill-color);\n",
              "    }\n",
              "    60% {\n",
              "      border-color: transparent;\n",
              "      border-right-color: var(--fill-color);\n",
              "    }\n",
              "    80% {\n",
              "      border-color: transparent;\n",
              "      border-right-color: var(--fill-color);\n",
              "      border-bottom-color: var(--fill-color);\n",
              "    }\n",
              "    90% {\n",
              "      border-color: transparent;\n",
              "      border-bottom-color: var(--fill-color);\n",
              "    }\n",
              "  }\n",
              "</style>\n",
              "\n",
              "  <script>\n",
              "    async function quickchart(key) {\n",
              "      const quickchartButtonEl =\n",
              "        document.querySelector('#' + key + ' button');\n",
              "      quickchartButtonEl.disabled = true;  // To prevent multiple clicks.\n",
              "      quickchartButtonEl.classList.add('colab-df-spinner');\n",
              "      try {\n",
              "        const charts = await google.colab.kernel.invokeFunction(\n",
              "            'suggestCharts', [key], {});\n",
              "      } catch (error) {\n",
              "        console.error('Error during call to suggestCharts:', error);\n",
              "      }\n",
              "      quickchartButtonEl.classList.remove('colab-df-spinner');\n",
              "      quickchartButtonEl.classList.add('colab-df-quickchart-complete');\n",
              "    }\n",
              "    (() => {\n",
              "      let quickchartButtonEl =\n",
              "        document.querySelector('#df-db549825-39f0-4376-a966-40f1be815409 button');\n",
              "      quickchartButtonEl.style.display =\n",
              "        google.colab.kernel.accessAllowed ? 'block' : 'none';\n",
              "    })();\n",
              "  </script>\n",
              "</div>\n",
              "    </div>\n",
              "  </div>\n"
            ],
            "application/vnd.google.colaboratory.intrinsic+json": {
              "type": "dataframe",
              "variable_name": "df",
              "summary": "{\n  \"name\": \"df\",\n  \"rows\": 119,\n  \"fields\": [\n    {\n      \"column\": \"Body_log\",\n      \"properties\": {\n        \"dtype\": \"number\",\n        \"std\": 0.09912413359004471,\n        \"min\": 8.281470857895167,\n        \"max\": 8.748304912379623,\n        \"num_unique_values\": 46,\n        \"samples\": [\n          8.491875383431948,\n          8.37793112408273,\n          8.281470857895167\n        ],\n        \"semantic_type\": \"\",\n        \"description\": \"\"\n      }\n    },\n    {\n      \"column\": \"Flipper_log\",\n      \"properties\": {\n        \"dtype\": \"number\",\n        \"std\": 0.030173264054601127,\n        \"min\": 5.313205979041787,\n        \"max\": 5.442417710521793,\n        \"num_unique_values\": 25,\n        \"samples\": [\n          5.375278407684165,\n          5.41610040220442,\n          5.351858133476067\n        ],\n        \"semantic_type\": \"\",\n        \"description\": \"\"\n      }\n    }\n  ]\n}"
            }
          },
          "metadata": {},
          "execution_count": 44
        }
      ]
    },
    {
      "cell_type": "code",
      "source": [
        "# # Поистроим график с логорифмированными данными\n",
        "# plt.figure(figsize=(8, 6))\n",
        "# plt.scatter(length_log, depth_log, color='gold')  # Логарифмированные данные\n",
        "# plt.plot(length_log, depth_log, color='red', label='Линейная регрессия', linewidth=1, markersize=10)  # Линейная регрессия\n",
        "# plt.legend()\n",
        "# plt.grid()\n",
        "# plt.xlabel('Логарифм длины клюва')\n",
        "# plt.ylabel('Логарифм глубины клюва')\n",
        "# plt.show()"
      ],
      "metadata": {
        "id": "9gBHgWGPF-oK"
      },
      "execution_count": null,
      "outputs": []
    },
    {
      "cell_type": "code",
      "source": [
        "X = df['Body_log'].values.reshape(-1,1)\n",
        "y = df['Flipper_log'].values\n",
        "model = LinearRegression()\n",
        "model.fit(X, y)\n",
        "\n",
        "predict_y = model.predict(X)"
      ],
      "metadata": {
        "id": "yavOr0dUjpVO"
      },
      "execution_count": null,
      "outputs": []
    },
    {
      "cell_type": "code",
      "source": [
        "plt.figure(figsize=(8, 6))\n",
        "plt.scatter(X, y, color='gold')  # Логарифмированные данные\n",
        "plt.plot(X, predict_y, color='red', label='Линейная регрессия', linewidth=1, markersize=10)  # Линейная регрессия\n",
        "plt.legend()\n",
        "plt.grid()\n",
        "plt.xlabel('Логарифм длины клюва')\n",
        "plt.ylabel('Логарифм глубины клюва')\n",
        "plt.show()"
      ],
      "metadata": {
        "id": "wTWEXjxOjZWn",
        "colab": {
          "base_uri": "https://localhost:8080/",
          "height": 542
        },
        "outputId": "8bd2761a-4443-4cfc-ec91-b77f5a77ec80"
      },
      "execution_count": null,
      "outputs": [
        {
          "output_type": "display_data",
          "data": {
            "text/plain": [
              "<Figure size 800x600 with 1 Axes>"
            ],
            "image/png": "[encoded data removed]"
          },
          "metadata": {}
        }
      ]
    },
    {
      "cell_type": "code",
      "source": [
        "# # понять какой именно столбик надо вставить\n",
        "# Y_model = Linear_regration_Multi_dimensional([data[3]], res.x)\n",
        "# print(\"A_mean : \", Mean_error_of_approximation(data[2], Y_model))\n",
        "# print(\"R2 adj : \", Determination_coef_adj(data[2], Y_model, len(Y_model), len(res.x)))\n",
        "\n",
        "# plt.title(\"Lin reg of ln('price') from ln('area'):\")\n",
        "# plt.ylabel(\" ln('\" + header[1]+ \"') \")\n",
        "# plt.xlabel(\" ln('\" + header[2]+ \"') \")\n",
        "# plt.plot(data[1], data[2] , \"*\", data[1], Y_model , \"--\")\n",
        "# plt.show()\n"
      ],
      "metadata": {
        "id": "e3puet2_zbIC"
      },
      "execution_count": null,
      "outputs": []
    },
    {
      "cell_type": "markdown",
      "source": [
        "### Проведем анализ взаимосвязи между длиной клюва и глубиной клюва пингвина (меньше всего коррелируют данные)\n"
      ],
      "metadata": {
        "id": "f0E4HIw6LUgX"
      }
    },
    {
      "cell_type": "code",
      "source": [
        "#Строим линейную регрессию для длинs клюва и глубинs клюва\n",
        "X_nl = gentoo['dlina_kluva'].values.reshape(-1,1)\n",
        "y_nl = gentoo['glubina_kluva'].values\n",
        "\n",
        "model_nl = LinearRegression()\n",
        "model_nl.fit(X_nl, y_nl)\n",
        "\n",
        "y_predict_nl = model_nl.predict(X_nl)\n",
        "print('Предсказанный y1: ', y_predict_nl )\n"
      ],
      "metadata": {
        "colab": {
          "base_uri": "https://localhost:8080/"
        },
        "id": "tKxPFU1ENXLa",
        "outputId": "0203dd4e-3f35-47ca-a7ef-437d51acb07c"
      },
      "execution_count": null,
      "outputs": [
        {
          "output_type": "stream",
          "name": "stdout",
          "text": [
            "Предсказанный y1:  [14.69185086 15.50153612 15.23164103 15.50153612 15.00326827 14.77489551\n",
            " 14.54652274 14.81641783 14.11053837 14.83717899 13.61227053 15.29392451\n",
            " 14.5672839  15.16935755 14.62956738 15.356208   13.84064329 15.33544684\n",
            " 14.71261202 15.23164103 15.54305844 14.48423926 14.77489551 14.73337319\n",
            " 14.02749373 14.69185086 15.04479059 15.12783523 15.50153612 14.94098479\n",
            " 14.00673257 14.48423926 17.49460751 15.31468567 15.16935755 13.96521025\n",
            " 14.33891114 14.2558665  15.23164103 13.98597141 15.41849148 14.52576158\n",
            " 15.41849148 15.60534192 14.17282186 14.5672839  15.60534192 14.44271694\n",
            " 14.50500042 14.79565667 15.19011871 14.48423926 15.52229728 14.77489551\n",
            " 14.4634781  14.21434418 14.5672839  14.08977721 15.58458076 14.52576158\n",
            " 14.71261202 14.60880622 16.39426601 14.62956738 15.4600138  15.39773032\n",
            " 14.1520607  15.64686424 15.02402943 14.75413435 15.12783523 14.77489551\n",
            " 14.75413435 15.21087987 14.98250711 15.72990888 14.50500042 14.50500042\n",
            " 15.31468567 16.02056513 14.96174595 15.50153612 14.44271694 15.6676254\n",
            " 14.13129954 15.7714312  14.98250711 15.93752049 14.98250711 15.95828165\n",
            " 14.5672839  15.39773032 14.3596723  15.6676254  15.37696916 14.85794015\n",
            " 15.16935755 15.72990888 15.19011871 16.72644458 14.92022363 15.31468567\n",
            " 14.83717899 13.77835981 16.20741557 14.11053837 15.10707407 15.60534192\n",
            " 15.4600138  14.1520607  15.81295352 14.71261202 16.5603553  15.25240219\n",
            " 14.92022363 14.83717899 15.58458076 14.50500042 15.48077496]\n"
          ]
        }
      ]
    },
    {
      "cell_type": "code",
      "source": [
        "plt.scatter(X_nl, y_nl, color = 'pink')\n",
        "plt.plot(X_nl, y_predict_nl, color = 'purple', label = 'Линейная регрессия', linewidth=1, markersize=10)\n",
        "plt.legend()\n",
        "plt.grid()\n",
        "plt.xlabel('Длина клюва')\n",
        "plt.ylabel('Глубина клюва')\n",
        "plt.show()"
      ],
      "metadata": {
        "colab": {
          "base_uri": "https://localhost:8080/",
          "height": 449
        },
        "id": "5CTmTYRzNXJE",
        "outputId": "75c45d83-3582-4f99-91a5-4415ead43e4b"
      },
      "execution_count": null,
      "outputs": [
        {
          "output_type": "display_data",
          "data": {
            "text/plain": [
              "<Figure size 640x480 with 1 Axes>"
            ],
            "image/png": "[encoded data removed]"
          },
          "metadata": {}
        }
      ]
    },
    {
      "cell_type": "code",
      "source": [
        "# Рассчитаем множественную корреляцию\n",
        "a = gentoo['dlina_kluva']\n",
        "b = gentoo['glubina_kluva']\n",
        "\n",
        "corr_coef = np.corrcoef(a,b)\n",
        "mult_corr = corr_coef[-1: 1]\n",
        "mult_corr = np.sqrt(np.prod(mult_corr**2))\n",
        "\n",
        "print('Множественная корреляция: ', mult_corr)"
      ],
      "metadata": {
        "id": "hv8JWzcJNXEn",
        "colab": {
          "base_uri": "https://localhost:8080/"
        },
        "outputId": "8effbffa-2e20-4717-c24c-d5c301d17a17"
      },
      "execution_count": null,
      "outputs": [
        {
          "output_type": "stream",
          "name": "stdout",
          "text": [
            "Множественная корреляция:  1.0\n"
          ]
        }
      ]
    },
    {
      "cell_type": "code",
      "source": [
        "#Вычислим коэффициенты b1 и b0 для уравнения линейной регрессии:\n",
        "x1 = gentoo['dlina_kluva']\n",
        "y1 = gentoo['glubina_kluva']\n",
        "\n",
        "mean_x = sum(x1)/len(x1)\n",
        "mean_y = sum(y1)/len(y1)\n",
        "\n",
        "covariance = sum((xi-mean_x)*(yi-mean_y) for xi, yi in zip(x1, y1))\n",
        "variance = sum((xi - mean_x)**2 for xi in x1)\n",
        "\n",
        "b1 = covariance / variance\n",
        "b0 = mean_y - b1*mean_x\n",
        "\n",
        "print('Коэффициент линейной регрессии: ')\n",
        "print('b1 - наклон линии: ', b1)\n",
        "print('b0 - интерсепт', b0)\n",
        "print('Уравнение линейной регрессии: y = {:.2f} + {:.4f}*x1'.format(b0, b1))\n",
        "\n",
        "#Обратная связь между зависимой переменной (y) и независимой переменной (x), увеличение x связано с уменьшением значения  y"
      ],
      "metadata": {
        "id": "VrUBuxh3NXCZ",
        "colab": {
          "base_uri": "https://localhost:8080/"
        },
        "outputId": "afa946ab-d409-4556-b96e-726625b1734f"
      },
      "execution_count": null,
      "outputs": [
        {
          "output_type": "stream",
          "name": "stdout",
          "text": [
            "Коэффициент линейной регрессии: \n",
            "b1 - наклон линии:  0.20761160342252527\n",
            "b0 - интерсепт 5.120955946776917\n",
            "Уравнение линейной регрессии: y = 5.12 + 0.2076*x1\n"
          ]
        }
      ]
    },
    {
      "cell_type": "code",
      "source": [
        "#Рассчитаем объясненную и необъясненную дисперсию\n",
        "x2 = np.array(gentoo['dlina_kluva'])\n",
        "y2 = np.array(gentoo['glubina_kluva'])\n",
        "\n",
        "y_pred = b0 + b1*x1\n",
        "\n",
        "y_mean = np.mean(y2)\n",
        "\n",
        "#Объясненная дисперсия SSR(регресионный анализ)\n",
        "SSR = np.sum((y_pred - y_mean)**2)\n",
        "\n",
        "#Необъясненная дисперсия SSE(ошибка суммы квадратов)\n",
        "SSE = np.sum((y2 - y_pred)**2)\n",
        "\n",
        "sum_desp = int(SSR)+ int(SSE)\n",
        "\n",
        "print('Объясненная дисперсия: ', SSR)\n",
        "print('Необъясненная дисперсия: ', SSE )\n",
        "print('Сумма: ', sum_desp)"
      ],
      "metadata": {
        "id": "HNF7TAuYNXAD",
        "colab": {
          "base_uri": "https://localhost:8080/"
        },
        "outputId": "649f5367-5864-424a-dd33-e203eda47579"
      },
      "execution_count": null,
      "outputs": [
        {
          "output_type": "stream",
          "name": "stdout",
          "text": [
            "Объясненная дисперсия:  49.07050285529154\n",
            "Необъясненная дисперсия:  65.6481526068934\n",
            "Сумма:  114\n"
          ]
        }
      ]
    },
    {
      "cell_type": "code",
      "source": [
        "#Коэффициент детерминации\n",
        "r_2 = SSR / sum_desp\n",
        "print('Коэффициент детерминации: ', r_2)"
      ],
      "metadata": {
        "id": "wuQyg6dBNW9d",
        "colab": {
          "base_uri": "https://localhost:8080/"
        },
        "outputId": "cafb448d-8987-4afc-e76e-9db1270c5983"
      },
      "execution_count": null,
      "outputs": [
        {
          "output_type": "stream",
          "name": "stdout",
          "text": [
            "Коэффициент детерминации:  0.4304430075025573\n"
          ]
        }
      ]
    },
    {
      "cell_type": "code",
      "source": [],
      "metadata": {
        "id": "Wdxjp_RPNW7G"
      },
      "execution_count": null,
      "outputs": []
    },
    {
      "cell_type": "code",
      "source": [],
      "metadata": {
        "id": "xSo8gbbuNW4Z"
      },
      "execution_count": null,
      "outputs": []
    },
    {
      "cell_type": "code",
      "source": [],
      "metadata": {
        "id": "Y7ThAN6ENWzM"
      },
      "execution_count": null,
      "outputs": []
    },
    {
      "cell_type": "code",
      "source": [],
      "metadata": {
        "id": "tarkD3STNWtJ"
      },
      "execution_count": null,
      "outputs": []
    },
    {
      "cell_type": "code",
      "source": [
        "X1 = pgns['dlina_kluva'].values.reshape(-1,1)\n",
        "y1 = pgns['glubina_kluva'].values\n",
        "model1 = LinearRegression()\n",
        "model1.fit(X1,y1)\n",
        "\n",
        "predict1_y = model1.predict(X1)\n",
        "\n",
        "print('Предсказанный y1: ', predict1_y)"
      ],
      "metadata": {
        "id": "0rNZrO8rWGMk"
      },
      "execution_count": null,
      "outputs": []
    }
  ]
}